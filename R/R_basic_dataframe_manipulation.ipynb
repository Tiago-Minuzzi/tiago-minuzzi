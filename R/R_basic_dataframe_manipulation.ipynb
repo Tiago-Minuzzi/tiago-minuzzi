{
 "cells": [
  {
   "cell_type": "code",
   "execution_count": 94,
   "id": "5f46d07f-e053-4771-8cb0-383cb6ea98c0",
   "metadata": {},
   "outputs": [],
   "source": [
    "df=read.csv('tes_sten.kimura.txt',sep = ' ')"
   ]
  },
  {
   "cell_type": "code",
   "execution_count": 2,
   "id": "064d8b2a-d8c2-4fc5-8dd0-dc824aaa3a18",
   "metadata": {},
   "outputs": [
    {
     "data": {
      "text/html": [
       "<table class=\"dataframe\">\n",
       "<caption>A data.frame: 6 × 57</caption>\n",
       "<thead>\n",
       "\t<tr><th></th><th scope=col>Div</th><th scope=col>Academ</th><th scope=col>BEL</th><th scope=col>CR1</th><th scope=col>Caulimoviridae</th><th scope=col>Copia</th><th scope=col>Crack</th><th scope=col>Crypton</th><th scope=col>DIRS</th><th scope=col>DNA</th><th scope=col>⋯</th><th scope=col>Transib</th><th scope=col>Transposable</th><th scope=col>Tx1</th><th scope=col>Vingi</th><th scope=col>Zisupton</th><th scope=col>hAT</th><th scope=col>piggyBac</th><th scope=col>rRNA</th><th scope=col>tRNA</th><th scope=col>X</th></tr>\n",
       "\t<tr><th></th><th scope=col>&lt;int&gt;</th><th scope=col>&lt;int&gt;</th><th scope=col>&lt;int&gt;</th><th scope=col>&lt;int&gt;</th><th scope=col>&lt;int&gt;</th><th scope=col>&lt;int&gt;</th><th scope=col>&lt;int&gt;</th><th scope=col>&lt;int&gt;</th><th scope=col>&lt;int&gt;</th><th scope=col>&lt;int&gt;</th><th scope=col>⋯</th><th scope=col>&lt;int&gt;</th><th scope=col>&lt;int&gt;</th><th scope=col>&lt;int&gt;</th><th scope=col>&lt;int&gt;</th><th scope=col>&lt;int&gt;</th><th scope=col>&lt;int&gt;</th><th scope=col>&lt;int&gt;</th><th scope=col>&lt;int&gt;</th><th scope=col>&lt;int&gt;</th><th scope=col>&lt;lgl&gt;</th></tr>\n",
       "</thead>\n",
       "<tbody>\n",
       "\t<tr><th scope=row>1</th><td>0</td><td>0</td><td>0</td><td> 0</td><td>0</td><td>0</td><td>0</td><td>0</td><td>0</td><td>0</td><td>⋯</td><td>0</td><td>0</td><td>0</td><td>0</td><td>0</td><td>  0</td><td>0</td><td>0</td><td> 0</td><td>NA</td></tr>\n",
       "\t<tr><th scope=row>2</th><td>1</td><td>0</td><td>0</td><td> 0</td><td>0</td><td>0</td><td>0</td><td>0</td><td>0</td><td>0</td><td>⋯</td><td>0</td><td>0</td><td>0</td><td>0</td><td>0</td><td>173</td><td>0</td><td>0</td><td>66</td><td>NA</td></tr>\n",
       "\t<tr><th scope=row>3</th><td>2</td><td>0</td><td>0</td><td> 0</td><td>0</td><td>0</td><td>0</td><td>0</td><td>0</td><td>0</td><td>⋯</td><td>0</td><td>0</td><td>0</td><td>0</td><td>0</td><td>  0</td><td>0</td><td>0</td><td> 0</td><td>NA</td></tr>\n",
       "\t<tr><th scope=row>4</th><td>3</td><td>0</td><td>0</td><td>66</td><td>0</td><td>0</td><td>0</td><td>0</td><td>0</td><td>0</td><td>⋯</td><td>0</td><td>0</td><td>0</td><td>0</td><td>0</td><td>  0</td><td>0</td><td>0</td><td> 0</td><td>NA</td></tr>\n",
       "\t<tr><th scope=row>5</th><td>4</td><td>0</td><td>0</td><td> 0</td><td>0</td><td>0</td><td>0</td><td>0</td><td>0</td><td>0</td><td>⋯</td><td>0</td><td>0</td><td>0</td><td>0</td><td>0</td><td>  0</td><td>0</td><td>0</td><td> 0</td><td>NA</td></tr>\n",
       "\t<tr><th scope=row>6</th><td>5</td><td>0</td><td>0</td><td> 0</td><td>0</td><td>0</td><td>0</td><td>0</td><td>0</td><td>0</td><td>⋯</td><td>0</td><td>0</td><td>0</td><td>0</td><td>0</td><td> 40</td><td>0</td><td>0</td><td> 0</td><td>NA</td></tr>\n",
       "</tbody>\n",
       "</table>\n"
      ],
      "text/latex": [
       "A data.frame: 6 × 57\n",
       "\\begin{tabular}{r|lllllllllllllllllllll}\n",
       "  & Div & Academ & BEL & CR1 & Caulimoviridae & Copia & Crack & Crypton & DIRS & DNA & ⋯ & Transib & Transposable & Tx1 & Vingi & Zisupton & hAT & piggyBac & rRNA & tRNA & X\\\\\n",
       "  & <int> & <int> & <int> & <int> & <int> & <int> & <int> & <int> & <int> & <int> & ⋯ & <int> & <int> & <int> & <int> & <int> & <int> & <int> & <int> & <int> & <lgl>\\\\\n",
       "\\hline\n",
       "\t1 & 0 & 0 & 0 &  0 & 0 & 0 & 0 & 0 & 0 & 0 & ⋯ & 0 & 0 & 0 & 0 & 0 &   0 & 0 & 0 &  0 & NA\\\\\n",
       "\t2 & 1 & 0 & 0 &  0 & 0 & 0 & 0 & 0 & 0 & 0 & ⋯ & 0 & 0 & 0 & 0 & 0 & 173 & 0 & 0 & 66 & NA\\\\\n",
       "\t3 & 2 & 0 & 0 &  0 & 0 & 0 & 0 & 0 & 0 & 0 & ⋯ & 0 & 0 & 0 & 0 & 0 &   0 & 0 & 0 &  0 & NA\\\\\n",
       "\t4 & 3 & 0 & 0 & 66 & 0 & 0 & 0 & 0 & 0 & 0 & ⋯ & 0 & 0 & 0 & 0 & 0 &   0 & 0 & 0 &  0 & NA\\\\\n",
       "\t5 & 4 & 0 & 0 &  0 & 0 & 0 & 0 & 0 & 0 & 0 & ⋯ & 0 & 0 & 0 & 0 & 0 &   0 & 0 & 0 &  0 & NA\\\\\n",
       "\t6 & 5 & 0 & 0 &  0 & 0 & 0 & 0 & 0 & 0 & 0 & ⋯ & 0 & 0 & 0 & 0 & 0 &  40 & 0 & 0 &  0 & NA\\\\\n",
       "\\end{tabular}\n"
      ],
      "text/markdown": [
       "\n",
       "A data.frame: 6 × 57\n",
       "\n",
       "| <!--/--> | Div &lt;int&gt; | Academ &lt;int&gt; | BEL &lt;int&gt; | CR1 &lt;int&gt; | Caulimoviridae &lt;int&gt; | Copia &lt;int&gt; | Crack &lt;int&gt; | Crypton &lt;int&gt; | DIRS &lt;int&gt; | DNA &lt;int&gt; | ⋯ ⋯ | Transib &lt;int&gt; | Transposable &lt;int&gt; | Tx1 &lt;int&gt; | Vingi &lt;int&gt; | Zisupton &lt;int&gt; | hAT &lt;int&gt; | piggyBac &lt;int&gt; | rRNA &lt;int&gt; | tRNA &lt;int&gt; | X &lt;lgl&gt; |\n",
       "|---|---|---|---|---|---|---|---|---|---|---|---|---|---|---|---|---|---|---|---|---|---|\n",
       "| 1 | 0 | 0 | 0 |  0 | 0 | 0 | 0 | 0 | 0 | 0 | ⋯ | 0 | 0 | 0 | 0 | 0 |   0 | 0 | 0 |  0 | NA |\n",
       "| 2 | 1 | 0 | 0 |  0 | 0 | 0 | 0 | 0 | 0 | 0 | ⋯ | 0 | 0 | 0 | 0 | 0 | 173 | 0 | 0 | 66 | NA |\n",
       "| 3 | 2 | 0 | 0 |  0 | 0 | 0 | 0 | 0 | 0 | 0 | ⋯ | 0 | 0 | 0 | 0 | 0 |   0 | 0 | 0 |  0 | NA |\n",
       "| 4 | 3 | 0 | 0 | 66 | 0 | 0 | 0 | 0 | 0 | 0 | ⋯ | 0 | 0 | 0 | 0 | 0 |   0 | 0 | 0 |  0 | NA |\n",
       "| 5 | 4 | 0 | 0 |  0 | 0 | 0 | 0 | 0 | 0 | 0 | ⋯ | 0 | 0 | 0 | 0 | 0 |   0 | 0 | 0 |  0 | NA |\n",
       "| 6 | 5 | 0 | 0 |  0 | 0 | 0 | 0 | 0 | 0 | 0 | ⋯ | 0 | 0 | 0 | 0 | 0 |  40 | 0 | 0 |  0 | NA |\n",
       "\n"
      ],
      "text/plain": [
       "  Div Academ BEL CR1 Caulimoviridae Copia Crack Crypton DIRS DNA ⋯ Transib\n",
       "1 0   0      0    0  0              0     0     0       0    0   ⋯ 0      \n",
       "2 1   0      0    0  0              0     0     0       0    0   ⋯ 0      \n",
       "3 2   0      0    0  0              0     0     0       0    0   ⋯ 0      \n",
       "4 3   0      0   66  0              0     0     0       0    0   ⋯ 0      \n",
       "5 4   0      0    0  0              0     0     0       0    0   ⋯ 0      \n",
       "6 5   0      0    0  0              0     0     0       0    0   ⋯ 0      \n",
       "  Transposable Tx1 Vingi Zisupton hAT piggyBac rRNA tRNA X \n",
       "1 0            0   0     0          0 0        0     0   NA\n",
       "2 0            0   0     0        173 0        0    66   NA\n",
       "3 0            0   0     0          0 0        0     0   NA\n",
       "4 0            0   0     0          0 0        0     0   NA\n",
       "5 0            0   0     0          0 0        0     0   NA\n",
       "6 0            0   0     0         40 0        0     0   NA"
      ]
     },
     "metadata": {},
     "output_type": "display_data"
    }
   ],
   "source": [
    "head(df)"
   ]
  },
  {
   "cell_type": "code",
   "execution_count": 117,
   "id": "0b4a19fa-6e06-4b12-ae9a-29ef52cdc3ee",
   "metadata": {},
   "outputs": [
    {
     "data": {
      "text/html": [
       "<table class=\"dataframe\">\n",
       "<caption>A data.frame: 6 × 57</caption>\n",
       "<thead>\n",
       "\t<tr><th></th><th scope=col>Div</th><th scope=col>Academ</th><th scope=col>BEL</th><th scope=col>CR1</th><th scope=col>Caulimoviridae</th><th scope=col>Copia</th><th scope=col>Crack</th><th scope=col>Crypton</th><th scope=col>DIRS</th><th scope=col>DNA</th><th scope=col>⋯</th><th scope=col>Transib</th><th scope=col>Transposable</th><th scope=col>Tx1</th><th scope=col>Vingi</th><th scope=col>Zisupton</th><th scope=col>hAT</th><th scope=col>piggyBac</th><th scope=col>rRNA</th><th scope=col>tRNA</th><th scope=col>X</th></tr>\n",
       "\t<tr><th></th><th scope=col>&lt;int&gt;</th><th scope=col>&lt;int&gt;</th><th scope=col>&lt;int&gt;</th><th scope=col>&lt;int&gt;</th><th scope=col>&lt;int&gt;</th><th scope=col>&lt;int&gt;</th><th scope=col>&lt;int&gt;</th><th scope=col>&lt;int&gt;</th><th scope=col>&lt;int&gt;</th><th scope=col>&lt;int&gt;</th><th scope=col>⋯</th><th scope=col>&lt;int&gt;</th><th scope=col>&lt;int&gt;</th><th scope=col>&lt;int&gt;</th><th scope=col>&lt;int&gt;</th><th scope=col>&lt;int&gt;</th><th scope=col>&lt;int&gt;</th><th scope=col>&lt;int&gt;</th><th scope=col>&lt;int&gt;</th><th scope=col>&lt;int&gt;</th><th scope=col>&lt;lgl&gt;</th></tr>\n",
       "</thead>\n",
       "<tbody>\n",
       "\t<tr><th scope=row>66</th><td>65</td><td>0</td><td>0</td><td>0</td><td>0</td><td>0</td><td>0</td><td>0</td><td>0</td><td>0</td><td>⋯</td><td>0</td><td>0</td><td>0</td><td>0</td><td>0</td><td>0</td><td>0</td><td>0</td><td>0</td><td>NA</td></tr>\n",
       "\t<tr><th scope=row>67</th><td>66</td><td>0</td><td>0</td><td>0</td><td>0</td><td>0</td><td>0</td><td>0</td><td>0</td><td>0</td><td>⋯</td><td>0</td><td>0</td><td>0</td><td>0</td><td>0</td><td>0</td><td>0</td><td>0</td><td>0</td><td>NA</td></tr>\n",
       "\t<tr><th scope=row>68</th><td>67</td><td>0</td><td>0</td><td>0</td><td>0</td><td>0</td><td>0</td><td>0</td><td>0</td><td>0</td><td>⋯</td><td>0</td><td>0</td><td>0</td><td>0</td><td>0</td><td>0</td><td>0</td><td>0</td><td>0</td><td>NA</td></tr>\n",
       "\t<tr><th scope=row>69</th><td>68</td><td>0</td><td>0</td><td>0</td><td>0</td><td>0</td><td>0</td><td>0</td><td>0</td><td>0</td><td>⋯</td><td>0</td><td>0</td><td>0</td><td>0</td><td>0</td><td>0</td><td>0</td><td>0</td><td>0</td><td>NA</td></tr>\n",
       "\t<tr><th scope=row>70</th><td>69</td><td>0</td><td>0</td><td>0</td><td>0</td><td>0</td><td>0</td><td>0</td><td>0</td><td>0</td><td>⋯</td><td>0</td><td>0</td><td>0</td><td>0</td><td>0</td><td>0</td><td>0</td><td>0</td><td>0</td><td>NA</td></tr>\n",
       "\t<tr><th scope=row>71</th><td>70</td><td>0</td><td>0</td><td>0</td><td>0</td><td>0</td><td>0</td><td>0</td><td>0</td><td>0</td><td>⋯</td><td>0</td><td>0</td><td>0</td><td>0</td><td>0</td><td>0</td><td>0</td><td>0</td><td>0</td><td>NA</td></tr>\n",
       "</tbody>\n",
       "</table>\n"
      ],
      "text/latex": [
       "A data.frame: 6 × 57\n",
       "\\begin{tabular}{r|lllllllllllllllllllll}\n",
       "  & Div & Academ & BEL & CR1 & Caulimoviridae & Copia & Crack & Crypton & DIRS & DNA & ⋯ & Transib & Transposable & Tx1 & Vingi & Zisupton & hAT & piggyBac & rRNA & tRNA & X\\\\\n",
       "  & <int> & <int> & <int> & <int> & <int> & <int> & <int> & <int> & <int> & <int> & ⋯ & <int> & <int> & <int> & <int> & <int> & <int> & <int> & <int> & <int> & <lgl>\\\\\n",
       "\\hline\n",
       "\t66 & 65 & 0 & 0 & 0 & 0 & 0 & 0 & 0 & 0 & 0 & ⋯ & 0 & 0 & 0 & 0 & 0 & 0 & 0 & 0 & 0 & NA\\\\\n",
       "\t67 & 66 & 0 & 0 & 0 & 0 & 0 & 0 & 0 & 0 & 0 & ⋯ & 0 & 0 & 0 & 0 & 0 & 0 & 0 & 0 & 0 & NA\\\\\n",
       "\t68 & 67 & 0 & 0 & 0 & 0 & 0 & 0 & 0 & 0 & 0 & ⋯ & 0 & 0 & 0 & 0 & 0 & 0 & 0 & 0 & 0 & NA\\\\\n",
       "\t69 & 68 & 0 & 0 & 0 & 0 & 0 & 0 & 0 & 0 & 0 & ⋯ & 0 & 0 & 0 & 0 & 0 & 0 & 0 & 0 & 0 & NA\\\\\n",
       "\t70 & 69 & 0 & 0 & 0 & 0 & 0 & 0 & 0 & 0 & 0 & ⋯ & 0 & 0 & 0 & 0 & 0 & 0 & 0 & 0 & 0 & NA\\\\\n",
       "\t71 & 70 & 0 & 0 & 0 & 0 & 0 & 0 & 0 & 0 & 0 & ⋯ & 0 & 0 & 0 & 0 & 0 & 0 & 0 & 0 & 0 & NA\\\\\n",
       "\\end{tabular}\n"
      ],
      "text/markdown": [
       "\n",
       "A data.frame: 6 × 57\n",
       "\n",
       "| <!--/--> | Div &lt;int&gt; | Academ &lt;int&gt; | BEL &lt;int&gt; | CR1 &lt;int&gt; | Caulimoviridae &lt;int&gt; | Copia &lt;int&gt; | Crack &lt;int&gt; | Crypton &lt;int&gt; | DIRS &lt;int&gt; | DNA &lt;int&gt; | ⋯ ⋯ | Transib &lt;int&gt; | Transposable &lt;int&gt; | Tx1 &lt;int&gt; | Vingi &lt;int&gt; | Zisupton &lt;int&gt; | hAT &lt;int&gt; | piggyBac &lt;int&gt; | rRNA &lt;int&gt; | tRNA &lt;int&gt; | X &lt;lgl&gt; |\n",
       "|---|---|---|---|---|---|---|---|---|---|---|---|---|---|---|---|---|---|---|---|---|---|\n",
       "| 66 | 65 | 0 | 0 | 0 | 0 | 0 | 0 | 0 | 0 | 0 | ⋯ | 0 | 0 | 0 | 0 | 0 | 0 | 0 | 0 | 0 | NA |\n",
       "| 67 | 66 | 0 | 0 | 0 | 0 | 0 | 0 | 0 | 0 | 0 | ⋯ | 0 | 0 | 0 | 0 | 0 | 0 | 0 | 0 | 0 | NA |\n",
       "| 68 | 67 | 0 | 0 | 0 | 0 | 0 | 0 | 0 | 0 | 0 | ⋯ | 0 | 0 | 0 | 0 | 0 | 0 | 0 | 0 | 0 | NA |\n",
       "| 69 | 68 | 0 | 0 | 0 | 0 | 0 | 0 | 0 | 0 | 0 | ⋯ | 0 | 0 | 0 | 0 | 0 | 0 | 0 | 0 | 0 | NA |\n",
       "| 70 | 69 | 0 | 0 | 0 | 0 | 0 | 0 | 0 | 0 | 0 | ⋯ | 0 | 0 | 0 | 0 | 0 | 0 | 0 | 0 | 0 | NA |\n",
       "| 71 | 70 | 0 | 0 | 0 | 0 | 0 | 0 | 0 | 0 | 0 | ⋯ | 0 | 0 | 0 | 0 | 0 | 0 | 0 | 0 | 0 | NA |\n",
       "\n"
      ],
      "text/plain": [
       "   Div Academ BEL CR1 Caulimoviridae Copia Crack Crypton DIRS DNA ⋯ Transib\n",
       "66 65  0      0   0   0              0     0     0       0    0   ⋯ 0      \n",
       "67 66  0      0   0   0              0     0     0       0    0   ⋯ 0      \n",
       "68 67  0      0   0   0              0     0     0       0    0   ⋯ 0      \n",
       "69 68  0      0   0   0              0     0     0       0    0   ⋯ 0      \n",
       "70 69  0      0   0   0              0     0     0       0    0   ⋯ 0      \n",
       "71 70  0      0   0   0              0     0     0       0    0   ⋯ 0      \n",
       "   Transposable Tx1 Vingi Zisupton hAT piggyBac rRNA tRNA X \n",
       "66 0            0   0     0        0   0        0    0    NA\n",
       "67 0            0   0     0        0   0        0    0    NA\n",
       "68 0            0   0     0        0   0        0    0    NA\n",
       "69 0            0   0     0        0   0        0    0    NA\n",
       "70 0            0   0     0        0   0        0    0    NA\n",
       "71 0            0   0     0        0   0        0    0    NA"
      ]
     },
     "metadata": {},
     "output_type": "display_data"
    }
   ],
   "source": [
    "tail(df)"
   ]
  },
  {
   "cell_type": "code",
   "execution_count": 116,
   "id": "a8e33079-bcb7-4c13-b8d9-5136bd8de8e7",
   "metadata": {},
   "outputs": [
    {
     "name": "stdout",
     "output_type": "stream",
     "text": [
      "[1] 71\n",
      "[1] 57\n",
      "[1] 71 57\n",
      "[1] 71\n"
     ]
    }
   ],
   "source": [
    "print(nrow(df)) # number of rows\n",
    "print(ncol(df)) # number of columns\n",
    "print(dim(df)) # dimensions\n",
    "print(length(df$Academ)) # use for vectors"
   ]
  },
  {
   "cell_type": "code",
   "execution_count": 17,
   "id": "d1ff01d8-4816-446a-ade6-927ec3aa098f",
   "metadata": {},
   "outputs": [
    {
     "data": {
      "text/html": [
       "<style>\n",
       ".list-inline {list-style: none; margin:0; padding: 0}\n",
       ".list-inline>li {display: inline-block}\n",
       ".list-inline>li:not(:last-child)::after {content: \"\\00b7\"; padding: 0 .5ex}\n",
       "</style>\n",
       "<ol class=list-inline><li>'Div'</li><li>'Academ'</li><li>'BEL'</li><li>'CR1'</li><li>'Caulimoviridae'</li><li>'Copia'</li><li>'Crack'</li><li>'Crypton'</li><li>'DIRS'</li><li>'DNA'</li><li>'Daphne'</li><li>'ERV1'</li><li>'ERV2'</li><li>'EnSpm.CACTA'</li><li>'Endogenous'</li><li>'Ginger2.TDD'</li><li>'Gypsy'</li><li>'Harbinger'</li><li>'Helitron'</li><li>'I'</li><li>'IS3EU'</li><li>'Jockey'</li><li>'Kolobok'</li><li>'L1'</li><li>'L2'</li><li>'LTR'</li><li>'Mariner.Tc1'</li><li>'Merlin'</li><li>'MuDR'</li><li>'Multicopy'</li><li>'NeSL'</li><li>'Non.LTR'</li><li>'Nonautonomous'</li><li>'Novosib'</li><li>'P'</li><li>'PENT_PU'</li><li>'Penelope'</li><li>'Polinton'</li><li>'R1'</li><li>'RTE'</li><li>'RTEX'</li><li>'SINE'</li><li>'SINE2.tRNA'</li><li>'Satellite'</li><li>'Sola1'</li><li>'Sola3'</li><li>'TLH.1B_CCri'</li><li>'Transib'</li><li>'Transposable'</li><li>'Tx1'</li><li>'Vingi'</li><li>'Zisupton'</li><li>'hAT'</li><li>'piggyBac'</li><li>'rRNA'</li><li>'tRNA'</li><li>'X'</li></ol>\n"
      ],
      "text/latex": [
       "\\begin{enumerate*}\n",
       "\\item 'Div'\n",
       "\\item 'Academ'\n",
       "\\item 'BEL'\n",
       "\\item 'CR1'\n",
       "\\item 'Caulimoviridae'\n",
       "\\item 'Copia'\n",
       "\\item 'Crack'\n",
       "\\item 'Crypton'\n",
       "\\item 'DIRS'\n",
       "\\item 'DNA'\n",
       "\\item 'Daphne'\n",
       "\\item 'ERV1'\n",
       "\\item 'ERV2'\n",
       "\\item 'EnSpm.CACTA'\n",
       "\\item 'Endogenous'\n",
       "\\item 'Ginger2.TDD'\n",
       "\\item 'Gypsy'\n",
       "\\item 'Harbinger'\n",
       "\\item 'Helitron'\n",
       "\\item 'I'\n",
       "\\item 'IS3EU'\n",
       "\\item 'Jockey'\n",
       "\\item 'Kolobok'\n",
       "\\item 'L1'\n",
       "\\item 'L2'\n",
       "\\item 'LTR'\n",
       "\\item 'Mariner.Tc1'\n",
       "\\item 'Merlin'\n",
       "\\item 'MuDR'\n",
       "\\item 'Multicopy'\n",
       "\\item 'NeSL'\n",
       "\\item 'Non.LTR'\n",
       "\\item 'Nonautonomous'\n",
       "\\item 'Novosib'\n",
       "\\item 'P'\n",
       "\\item 'PENT\\_PU'\n",
       "\\item 'Penelope'\n",
       "\\item 'Polinton'\n",
       "\\item 'R1'\n",
       "\\item 'RTE'\n",
       "\\item 'RTEX'\n",
       "\\item 'SINE'\n",
       "\\item 'SINE2.tRNA'\n",
       "\\item 'Satellite'\n",
       "\\item 'Sola1'\n",
       "\\item 'Sola3'\n",
       "\\item 'TLH.1B\\_CCri'\n",
       "\\item 'Transib'\n",
       "\\item 'Transposable'\n",
       "\\item 'Tx1'\n",
       "\\item 'Vingi'\n",
       "\\item 'Zisupton'\n",
       "\\item 'hAT'\n",
       "\\item 'piggyBac'\n",
       "\\item 'rRNA'\n",
       "\\item 'tRNA'\n",
       "\\item 'X'\n",
       "\\end{enumerate*}\n"
      ],
      "text/markdown": [
       "1. 'Div'\n",
       "2. 'Academ'\n",
       "3. 'BEL'\n",
       "4. 'CR1'\n",
       "5. 'Caulimoviridae'\n",
       "6. 'Copia'\n",
       "7. 'Crack'\n",
       "8. 'Crypton'\n",
       "9. 'DIRS'\n",
       "10. 'DNA'\n",
       "11. 'Daphne'\n",
       "12. 'ERV1'\n",
       "13. 'ERV2'\n",
       "14. 'EnSpm.CACTA'\n",
       "15. 'Endogenous'\n",
       "16. 'Ginger2.TDD'\n",
       "17. 'Gypsy'\n",
       "18. 'Harbinger'\n",
       "19. 'Helitron'\n",
       "20. 'I'\n",
       "21. 'IS3EU'\n",
       "22. 'Jockey'\n",
       "23. 'Kolobok'\n",
       "24. 'L1'\n",
       "25. 'L2'\n",
       "26. 'LTR'\n",
       "27. 'Mariner.Tc1'\n",
       "28. 'Merlin'\n",
       "29. 'MuDR'\n",
       "30. 'Multicopy'\n",
       "31. 'NeSL'\n",
       "32. 'Non.LTR'\n",
       "33. 'Nonautonomous'\n",
       "34. 'Novosib'\n",
       "35. 'P'\n",
       "36. 'PENT_PU'\n",
       "37. 'Penelope'\n",
       "38. 'Polinton'\n",
       "39. 'R1'\n",
       "40. 'RTE'\n",
       "41. 'RTEX'\n",
       "42. 'SINE'\n",
       "43. 'SINE2.tRNA'\n",
       "44. 'Satellite'\n",
       "45. 'Sola1'\n",
       "46. 'Sola3'\n",
       "47. 'TLH.1B_CCri'\n",
       "48. 'Transib'\n",
       "49. 'Transposable'\n",
       "50. 'Tx1'\n",
       "51. 'Vingi'\n",
       "52. 'Zisupton'\n",
       "53. 'hAT'\n",
       "54. 'piggyBac'\n",
       "55. 'rRNA'\n",
       "56. 'tRNA'\n",
       "57. 'X'\n",
       "\n",
       "\n"
      ],
      "text/plain": [
       " [1] \"Div\"            \"Academ\"         \"BEL\"            \"CR1\"           \n",
       " [5] \"Caulimoviridae\" \"Copia\"          \"Crack\"          \"Crypton\"       \n",
       " [9] \"DIRS\"           \"DNA\"            \"Daphne\"         \"ERV1\"          \n",
       "[13] \"ERV2\"           \"EnSpm.CACTA\"    \"Endogenous\"     \"Ginger2.TDD\"   \n",
       "[17] \"Gypsy\"          \"Harbinger\"      \"Helitron\"       \"I\"             \n",
       "[21] \"IS3EU\"          \"Jockey\"         \"Kolobok\"        \"L1\"            \n",
       "[25] \"L2\"             \"LTR\"            \"Mariner.Tc1\"    \"Merlin\"        \n",
       "[29] \"MuDR\"           \"Multicopy\"      \"NeSL\"           \"Non.LTR\"       \n",
       "[33] \"Nonautonomous\"  \"Novosib\"        \"P\"              \"PENT_PU\"       \n",
       "[37] \"Penelope\"       \"Polinton\"       \"R1\"             \"RTE\"           \n",
       "[41] \"RTEX\"           \"SINE\"           \"SINE2.tRNA\"     \"Satellite\"     \n",
       "[45] \"Sola1\"          \"Sola3\"          \"TLH.1B_CCri\"    \"Transib\"       \n",
       "[49] \"Transposable\"   \"Tx1\"            \"Vingi\"          \"Zisupton\"      \n",
       "[53] \"hAT\"            \"piggyBac\"       \"rRNA\"           \"tRNA\"          \n",
       "[57] \"X\"             "
      ]
     },
     "metadata": {},
     "output_type": "display_data"
    }
   ],
   "source": [
    "# get column names\n",
    "names(df)"
   ]
  },
  {
   "cell_type": "code",
   "execution_count": 19,
   "id": "fc76f429-943d-470f-9ed1-e5d4f5224b4f",
   "metadata": {},
   "outputs": [
    {
     "data": {
      "text/html": [
       "<style>\n",
       ".list-inline {list-style: none; margin:0; padding: 0}\n",
       ".list-inline>li {display: inline-block}\n",
       ".list-inline>li:not(:last-child)::after {content: \"\\00b7\"; padding: 0 .5ex}\n",
       "</style>\n",
       "<ol class=list-inline><li>'Div'</li><li>'Academ'</li><li>'BEL'</li><li>'CR1'</li><li>'Caulimoviridae'</li><li>'Copia'</li><li>'Crack'</li><li>'Crypton'</li><li>'DIRS'</li><li>'DNA'</li><li>'Daphne'</li><li>'ERV1'</li><li>'ERV2'</li><li>'EnSpm.CACTA'</li><li>'Endogenous'</li><li>'Ginger2.TDD'</li><li>'Gypsy'</li><li>'Harbinger'</li><li>'Helitron'</li><li>'I'</li><li>'IS3EU'</li><li>'Jockey'</li><li>'Kolobok'</li><li>'L1'</li><li>'L2'</li><li>'LTR'</li><li>'Mariner.Tc1'</li><li>'Merlin'</li><li>'MuDR'</li><li>'Multicopy'</li><li>'NeSL'</li><li>'Non.LTR'</li><li>'Nonautonomous'</li><li>'Novosib'</li><li>'P'</li><li>'PENT_PU'</li><li>'Penelope'</li><li>'Polinton'</li><li>'R1'</li><li>'RTE'</li><li>'RTEX'</li><li>'SINE'</li><li>'SINE2.tRNA'</li><li>'Satellite'</li><li>'Sola1'</li><li>'Sola3'</li><li>'TLH.1B_CCri'</li><li>'Transib'</li><li>'Transposable'</li><li>'Tx1'</li><li>'Vingi'</li><li>'Zisupton'</li><li>'hAT'</li><li>'piggyBac'</li><li>'rRNA'</li><li>'tRNA'</li><li>'X'</li></ol>\n"
      ],
      "text/latex": [
       "\\begin{enumerate*}\n",
       "\\item 'Div'\n",
       "\\item 'Academ'\n",
       "\\item 'BEL'\n",
       "\\item 'CR1'\n",
       "\\item 'Caulimoviridae'\n",
       "\\item 'Copia'\n",
       "\\item 'Crack'\n",
       "\\item 'Crypton'\n",
       "\\item 'DIRS'\n",
       "\\item 'DNA'\n",
       "\\item 'Daphne'\n",
       "\\item 'ERV1'\n",
       "\\item 'ERV2'\n",
       "\\item 'EnSpm.CACTA'\n",
       "\\item 'Endogenous'\n",
       "\\item 'Ginger2.TDD'\n",
       "\\item 'Gypsy'\n",
       "\\item 'Harbinger'\n",
       "\\item 'Helitron'\n",
       "\\item 'I'\n",
       "\\item 'IS3EU'\n",
       "\\item 'Jockey'\n",
       "\\item 'Kolobok'\n",
       "\\item 'L1'\n",
       "\\item 'L2'\n",
       "\\item 'LTR'\n",
       "\\item 'Mariner.Tc1'\n",
       "\\item 'Merlin'\n",
       "\\item 'MuDR'\n",
       "\\item 'Multicopy'\n",
       "\\item 'NeSL'\n",
       "\\item 'Non.LTR'\n",
       "\\item 'Nonautonomous'\n",
       "\\item 'Novosib'\n",
       "\\item 'P'\n",
       "\\item 'PENT\\_PU'\n",
       "\\item 'Penelope'\n",
       "\\item 'Polinton'\n",
       "\\item 'R1'\n",
       "\\item 'RTE'\n",
       "\\item 'RTEX'\n",
       "\\item 'SINE'\n",
       "\\item 'SINE2.tRNA'\n",
       "\\item 'Satellite'\n",
       "\\item 'Sola1'\n",
       "\\item 'Sola3'\n",
       "\\item 'TLH.1B\\_CCri'\n",
       "\\item 'Transib'\n",
       "\\item 'Transposable'\n",
       "\\item 'Tx1'\n",
       "\\item 'Vingi'\n",
       "\\item 'Zisupton'\n",
       "\\item 'hAT'\n",
       "\\item 'piggyBac'\n",
       "\\item 'rRNA'\n",
       "\\item 'tRNA'\n",
       "\\item 'X'\n",
       "\\end{enumerate*}\n"
      ],
      "text/markdown": [
       "1. 'Div'\n",
       "2. 'Academ'\n",
       "3. 'BEL'\n",
       "4. 'CR1'\n",
       "5. 'Caulimoviridae'\n",
       "6. 'Copia'\n",
       "7. 'Crack'\n",
       "8. 'Crypton'\n",
       "9. 'DIRS'\n",
       "10. 'DNA'\n",
       "11. 'Daphne'\n",
       "12. 'ERV1'\n",
       "13. 'ERV2'\n",
       "14. 'EnSpm.CACTA'\n",
       "15. 'Endogenous'\n",
       "16. 'Ginger2.TDD'\n",
       "17. 'Gypsy'\n",
       "18. 'Harbinger'\n",
       "19. 'Helitron'\n",
       "20. 'I'\n",
       "21. 'IS3EU'\n",
       "22. 'Jockey'\n",
       "23. 'Kolobok'\n",
       "24. 'L1'\n",
       "25. 'L2'\n",
       "26. 'LTR'\n",
       "27. 'Mariner.Tc1'\n",
       "28. 'Merlin'\n",
       "29. 'MuDR'\n",
       "30. 'Multicopy'\n",
       "31. 'NeSL'\n",
       "32. 'Non.LTR'\n",
       "33. 'Nonautonomous'\n",
       "34. 'Novosib'\n",
       "35. 'P'\n",
       "36. 'PENT_PU'\n",
       "37. 'Penelope'\n",
       "38. 'Polinton'\n",
       "39. 'R1'\n",
       "40. 'RTE'\n",
       "41. 'RTEX'\n",
       "42. 'SINE'\n",
       "43. 'SINE2.tRNA'\n",
       "44. 'Satellite'\n",
       "45. 'Sola1'\n",
       "46. 'Sola3'\n",
       "47. 'TLH.1B_CCri'\n",
       "48. 'Transib'\n",
       "49. 'Transposable'\n",
       "50. 'Tx1'\n",
       "51. 'Vingi'\n",
       "52. 'Zisupton'\n",
       "53. 'hAT'\n",
       "54. 'piggyBac'\n",
       "55. 'rRNA'\n",
       "56. 'tRNA'\n",
       "57. 'X'\n",
       "\n",
       "\n"
      ],
      "text/plain": [
       " [1] \"Div\"            \"Academ\"         \"BEL\"            \"CR1\"           \n",
       " [5] \"Caulimoviridae\" \"Copia\"          \"Crack\"          \"Crypton\"       \n",
       " [9] \"DIRS\"           \"DNA\"            \"Daphne\"         \"ERV1\"          \n",
       "[13] \"ERV2\"           \"EnSpm.CACTA\"    \"Endogenous\"     \"Ginger2.TDD\"   \n",
       "[17] \"Gypsy\"          \"Harbinger\"      \"Helitron\"       \"I\"             \n",
       "[21] \"IS3EU\"          \"Jockey\"         \"Kolobok\"        \"L1\"            \n",
       "[25] \"L2\"             \"LTR\"            \"Mariner.Tc1\"    \"Merlin\"        \n",
       "[29] \"MuDR\"           \"Multicopy\"      \"NeSL\"           \"Non.LTR\"       \n",
       "[33] \"Nonautonomous\"  \"Novosib\"        \"P\"              \"PENT_PU\"       \n",
       "[37] \"Penelope\"       \"Polinton\"       \"R1\"             \"RTE\"           \n",
       "[41] \"RTEX\"           \"SINE\"           \"SINE2.tRNA\"     \"Satellite\"     \n",
       "[45] \"Sola1\"          \"Sola3\"          \"TLH.1B_CCri\"    \"Transib\"       \n",
       "[49] \"Transposable\"   \"Tx1\"            \"Vingi\"          \"Zisupton\"      \n",
       "[53] \"hAT\"            \"piggyBac\"       \"rRNA\"           \"tRNA\"          \n",
       "[57] \"X\"             "
      ]
     },
     "metadata": {},
     "output_type": "display_data"
    }
   ],
   "source": [
    "# get column names\n",
    "colnames(df)"
   ]
  },
  {
   "cell_type": "code",
   "execution_count": 18,
   "id": "cf645043-70ae-4cf8-a555-72b4c193b876",
   "metadata": {},
   "outputs": [
    {
     "data": {
      "text/html": [
       "<style>\n",
       ".list-inline {list-style: none; margin:0; padding: 0}\n",
       ".list-inline>li {display: inline-block}\n",
       ".list-inline>li:not(:last-child)::after {content: \"\\00b7\"; padding: 0 .5ex}\n",
       "</style>\n",
       "<ol class=list-inline><li>'1'</li><li>'2'</li><li>'3'</li><li>'4'</li><li>'5'</li><li>'6'</li><li>'7'</li><li>'8'</li><li>'9'</li><li>'10'</li><li>'11'</li><li>'12'</li><li>'13'</li><li>'14'</li><li>'15'</li><li>'16'</li><li>'17'</li><li>'18'</li><li>'19'</li><li>'20'</li><li>'21'</li><li>'22'</li><li>'23'</li><li>'24'</li><li>'25'</li><li>'26'</li><li>'27'</li><li>'28'</li><li>'29'</li><li>'30'</li><li>'31'</li><li>'32'</li><li>'33'</li><li>'34'</li><li>'35'</li><li>'36'</li><li>'37'</li><li>'38'</li><li>'39'</li><li>'40'</li><li>'41'</li><li>'42'</li><li>'43'</li><li>'44'</li><li>'45'</li><li>'46'</li><li>'47'</li><li>'48'</li><li>'49'</li><li>'50'</li><li>'51'</li><li>'52'</li><li>'53'</li><li>'54'</li><li>'55'</li><li>'56'</li><li>'57'</li><li>'58'</li><li>'59'</li><li>'60'</li><li>'61'</li><li>'62'</li><li>'63'</li><li>'64'</li><li>'65'</li><li>'66'</li><li>'67'</li><li>'68'</li><li>'69'</li><li>'70'</li><li>'71'</li></ol>\n"
      ],
      "text/latex": [
       "\\begin{enumerate*}\n",
       "\\item '1'\n",
       "\\item '2'\n",
       "\\item '3'\n",
       "\\item '4'\n",
       "\\item '5'\n",
       "\\item '6'\n",
       "\\item '7'\n",
       "\\item '8'\n",
       "\\item '9'\n",
       "\\item '10'\n",
       "\\item '11'\n",
       "\\item '12'\n",
       "\\item '13'\n",
       "\\item '14'\n",
       "\\item '15'\n",
       "\\item '16'\n",
       "\\item '17'\n",
       "\\item '18'\n",
       "\\item '19'\n",
       "\\item '20'\n",
       "\\item '21'\n",
       "\\item '22'\n",
       "\\item '23'\n",
       "\\item '24'\n",
       "\\item '25'\n",
       "\\item '26'\n",
       "\\item '27'\n",
       "\\item '28'\n",
       "\\item '29'\n",
       "\\item '30'\n",
       "\\item '31'\n",
       "\\item '32'\n",
       "\\item '33'\n",
       "\\item '34'\n",
       "\\item '35'\n",
       "\\item '36'\n",
       "\\item '37'\n",
       "\\item '38'\n",
       "\\item '39'\n",
       "\\item '40'\n",
       "\\item '41'\n",
       "\\item '42'\n",
       "\\item '43'\n",
       "\\item '44'\n",
       "\\item '45'\n",
       "\\item '46'\n",
       "\\item '47'\n",
       "\\item '48'\n",
       "\\item '49'\n",
       "\\item '50'\n",
       "\\item '51'\n",
       "\\item '52'\n",
       "\\item '53'\n",
       "\\item '54'\n",
       "\\item '55'\n",
       "\\item '56'\n",
       "\\item '57'\n",
       "\\item '58'\n",
       "\\item '59'\n",
       "\\item '60'\n",
       "\\item '61'\n",
       "\\item '62'\n",
       "\\item '63'\n",
       "\\item '64'\n",
       "\\item '65'\n",
       "\\item '66'\n",
       "\\item '67'\n",
       "\\item '68'\n",
       "\\item '69'\n",
       "\\item '70'\n",
       "\\item '71'\n",
       "\\end{enumerate*}\n"
      ],
      "text/markdown": [
       "1. '1'\n",
       "2. '2'\n",
       "3. '3'\n",
       "4. '4'\n",
       "5. '5'\n",
       "6. '6'\n",
       "7. '7'\n",
       "8. '8'\n",
       "9. '9'\n",
       "10. '10'\n",
       "11. '11'\n",
       "12. '12'\n",
       "13. '13'\n",
       "14. '14'\n",
       "15. '15'\n",
       "16. '16'\n",
       "17. '17'\n",
       "18. '18'\n",
       "19. '19'\n",
       "20. '20'\n",
       "21. '21'\n",
       "22. '22'\n",
       "23. '23'\n",
       "24. '24'\n",
       "25. '25'\n",
       "26. '26'\n",
       "27. '27'\n",
       "28. '28'\n",
       "29. '29'\n",
       "30. '30'\n",
       "31. '31'\n",
       "32. '32'\n",
       "33. '33'\n",
       "34. '34'\n",
       "35. '35'\n",
       "36. '36'\n",
       "37. '37'\n",
       "38. '38'\n",
       "39. '39'\n",
       "40. '40'\n",
       "41. '41'\n",
       "42. '42'\n",
       "43. '43'\n",
       "44. '44'\n",
       "45. '45'\n",
       "46. '46'\n",
       "47. '47'\n",
       "48. '48'\n",
       "49. '49'\n",
       "50. '50'\n",
       "51. '51'\n",
       "52. '52'\n",
       "53. '53'\n",
       "54. '54'\n",
       "55. '55'\n",
       "56. '56'\n",
       "57. '57'\n",
       "58. '58'\n",
       "59. '59'\n",
       "60. '60'\n",
       "61. '61'\n",
       "62. '62'\n",
       "63. '63'\n",
       "64. '64'\n",
       "65. '65'\n",
       "66. '66'\n",
       "67. '67'\n",
       "68. '68'\n",
       "69. '69'\n",
       "70. '70'\n",
       "71. '71'\n",
       "\n",
       "\n"
      ],
      "text/plain": [
       " [1] \"1\"  \"2\"  \"3\"  \"4\"  \"5\"  \"6\"  \"7\"  \"8\"  \"9\"  \"10\" \"11\" \"12\" \"13\" \"14\" \"15\"\n",
       "[16] \"16\" \"17\" \"18\" \"19\" \"20\" \"21\" \"22\" \"23\" \"24\" \"25\" \"26\" \"27\" \"28\" \"29\" \"30\"\n",
       "[31] \"31\" \"32\" \"33\" \"34\" \"35\" \"36\" \"37\" \"38\" \"39\" \"40\" \"41\" \"42\" \"43\" \"44\" \"45\"\n",
       "[46] \"46\" \"47\" \"48\" \"49\" \"50\" \"51\" \"52\" \"53\" \"54\" \"55\" \"56\" \"57\" \"58\" \"59\" \"60\"\n",
       "[61] \"61\" \"62\" \"63\" \"64\" \"65\" \"66\" \"67\" \"68\" \"69\" \"70\" \"71\""
      ]
     },
     "metadata": {},
     "output_type": "display_data"
    }
   ],
   "source": [
    "# get row names (index)\n",
    "rownames(df)"
   ]
  },
  {
   "cell_type": "code",
   "execution_count": 41,
   "id": "2b5e447f-6bd8-4273-8c42-6a52c7dbdb05",
   "metadata": {},
   "outputs": [
    {
     "data": {
      "text/html": [
       "<table class=\"dataframe\">\n",
       "<caption>A data.frame: 6 × 56</caption>\n",
       "<thead>\n",
       "\t<tr><th></th><th scope=col>Div</th><th scope=col>Academ</th><th scope=col>BEL</th><th scope=col>CR1</th><th scope=col>Caulimoviridae</th><th scope=col>Copia</th><th scope=col>Crack</th><th scope=col>Crypton</th><th scope=col>DIRS</th><th scope=col>DNA</th><th scope=col>⋯</th><th scope=col>TLH.1B_CCri</th><th scope=col>Transib</th><th scope=col>Transposable</th><th scope=col>Tx1</th><th scope=col>Vingi</th><th scope=col>Zisupton</th><th scope=col>hAT</th><th scope=col>piggyBac</th><th scope=col>rRNA</th><th scope=col>tRNA</th></tr>\n",
       "\t<tr><th></th><th scope=col>&lt;int&gt;</th><th scope=col>&lt;int&gt;</th><th scope=col>&lt;int&gt;</th><th scope=col>&lt;int&gt;</th><th scope=col>&lt;int&gt;</th><th scope=col>&lt;int&gt;</th><th scope=col>&lt;int&gt;</th><th scope=col>&lt;int&gt;</th><th scope=col>&lt;int&gt;</th><th scope=col>&lt;int&gt;</th><th scope=col>⋯</th><th scope=col>&lt;int&gt;</th><th scope=col>&lt;int&gt;</th><th scope=col>&lt;int&gt;</th><th scope=col>&lt;int&gt;</th><th scope=col>&lt;int&gt;</th><th scope=col>&lt;int&gt;</th><th scope=col>&lt;int&gt;</th><th scope=col>&lt;int&gt;</th><th scope=col>&lt;int&gt;</th><th scope=col>&lt;int&gt;</th></tr>\n",
       "</thead>\n",
       "<tbody>\n",
       "\t<tr><th scope=row>1</th><td>0</td><td>0</td><td>0</td><td> 0</td><td>0</td><td>0</td><td>0</td><td>0</td><td>0</td><td>0</td><td>⋯</td><td>0</td><td>0</td><td>0</td><td>0</td><td>0</td><td>0</td><td>  0</td><td>0</td><td>0</td><td> 0</td></tr>\n",
       "\t<tr><th scope=row>2</th><td>1</td><td>0</td><td>0</td><td> 0</td><td>0</td><td>0</td><td>0</td><td>0</td><td>0</td><td>0</td><td>⋯</td><td>0</td><td>0</td><td>0</td><td>0</td><td>0</td><td>0</td><td>173</td><td>0</td><td>0</td><td>66</td></tr>\n",
       "\t<tr><th scope=row>3</th><td>2</td><td>0</td><td>0</td><td> 0</td><td>0</td><td>0</td><td>0</td><td>0</td><td>0</td><td>0</td><td>⋯</td><td>0</td><td>0</td><td>0</td><td>0</td><td>0</td><td>0</td><td>  0</td><td>0</td><td>0</td><td> 0</td></tr>\n",
       "\t<tr><th scope=row>4</th><td>3</td><td>0</td><td>0</td><td>66</td><td>0</td><td>0</td><td>0</td><td>0</td><td>0</td><td>0</td><td>⋯</td><td>0</td><td>0</td><td>0</td><td>0</td><td>0</td><td>0</td><td>  0</td><td>0</td><td>0</td><td> 0</td></tr>\n",
       "\t<tr><th scope=row>5</th><td>4</td><td>0</td><td>0</td><td> 0</td><td>0</td><td>0</td><td>0</td><td>0</td><td>0</td><td>0</td><td>⋯</td><td>0</td><td>0</td><td>0</td><td>0</td><td>0</td><td>0</td><td>  0</td><td>0</td><td>0</td><td> 0</td></tr>\n",
       "\t<tr><th scope=row>6</th><td>5</td><td>0</td><td>0</td><td> 0</td><td>0</td><td>0</td><td>0</td><td>0</td><td>0</td><td>0</td><td>⋯</td><td>0</td><td>0</td><td>0</td><td>0</td><td>0</td><td>0</td><td> 40</td><td>0</td><td>0</td><td> 0</td></tr>\n",
       "</tbody>\n",
       "</table>\n"
      ],
      "text/latex": [
       "A data.frame: 6 × 56\n",
       "\\begin{tabular}{r|lllllllllllllllllllll}\n",
       "  & Div & Academ & BEL & CR1 & Caulimoviridae & Copia & Crack & Crypton & DIRS & DNA & ⋯ & TLH.1B\\_CCri & Transib & Transposable & Tx1 & Vingi & Zisupton & hAT & piggyBac & rRNA & tRNA\\\\\n",
       "  & <int> & <int> & <int> & <int> & <int> & <int> & <int> & <int> & <int> & <int> & ⋯ & <int> & <int> & <int> & <int> & <int> & <int> & <int> & <int> & <int> & <int>\\\\\n",
       "\\hline\n",
       "\t1 & 0 & 0 & 0 &  0 & 0 & 0 & 0 & 0 & 0 & 0 & ⋯ & 0 & 0 & 0 & 0 & 0 & 0 &   0 & 0 & 0 &  0\\\\\n",
       "\t2 & 1 & 0 & 0 &  0 & 0 & 0 & 0 & 0 & 0 & 0 & ⋯ & 0 & 0 & 0 & 0 & 0 & 0 & 173 & 0 & 0 & 66\\\\\n",
       "\t3 & 2 & 0 & 0 &  0 & 0 & 0 & 0 & 0 & 0 & 0 & ⋯ & 0 & 0 & 0 & 0 & 0 & 0 &   0 & 0 & 0 &  0\\\\\n",
       "\t4 & 3 & 0 & 0 & 66 & 0 & 0 & 0 & 0 & 0 & 0 & ⋯ & 0 & 0 & 0 & 0 & 0 & 0 &   0 & 0 & 0 &  0\\\\\n",
       "\t5 & 4 & 0 & 0 &  0 & 0 & 0 & 0 & 0 & 0 & 0 & ⋯ & 0 & 0 & 0 & 0 & 0 & 0 &   0 & 0 & 0 &  0\\\\\n",
       "\t6 & 5 & 0 & 0 &  0 & 0 & 0 & 0 & 0 & 0 & 0 & ⋯ & 0 & 0 & 0 & 0 & 0 & 0 &  40 & 0 & 0 &  0\\\\\n",
       "\\end{tabular}\n"
      ],
      "text/markdown": [
       "\n",
       "A data.frame: 6 × 56\n",
       "\n",
       "| <!--/--> | Div &lt;int&gt; | Academ &lt;int&gt; | BEL &lt;int&gt; | CR1 &lt;int&gt; | Caulimoviridae &lt;int&gt; | Copia &lt;int&gt; | Crack &lt;int&gt; | Crypton &lt;int&gt; | DIRS &lt;int&gt; | DNA &lt;int&gt; | ⋯ ⋯ | TLH.1B_CCri &lt;int&gt; | Transib &lt;int&gt; | Transposable &lt;int&gt; | Tx1 &lt;int&gt; | Vingi &lt;int&gt; | Zisupton &lt;int&gt; | hAT &lt;int&gt; | piggyBac &lt;int&gt; | rRNA &lt;int&gt; | tRNA &lt;int&gt; |\n",
       "|---|---|---|---|---|---|---|---|---|---|---|---|---|---|---|---|---|---|---|---|---|---|\n",
       "| 1 | 0 | 0 | 0 |  0 | 0 | 0 | 0 | 0 | 0 | 0 | ⋯ | 0 | 0 | 0 | 0 | 0 | 0 |   0 | 0 | 0 |  0 |\n",
       "| 2 | 1 | 0 | 0 |  0 | 0 | 0 | 0 | 0 | 0 | 0 | ⋯ | 0 | 0 | 0 | 0 | 0 | 0 | 173 | 0 | 0 | 66 |\n",
       "| 3 | 2 | 0 | 0 |  0 | 0 | 0 | 0 | 0 | 0 | 0 | ⋯ | 0 | 0 | 0 | 0 | 0 | 0 |   0 | 0 | 0 |  0 |\n",
       "| 4 | 3 | 0 | 0 | 66 | 0 | 0 | 0 | 0 | 0 | 0 | ⋯ | 0 | 0 | 0 | 0 | 0 | 0 |   0 | 0 | 0 |  0 |\n",
       "| 5 | 4 | 0 | 0 |  0 | 0 | 0 | 0 | 0 | 0 | 0 | ⋯ | 0 | 0 | 0 | 0 | 0 | 0 |   0 | 0 | 0 |  0 |\n",
       "| 6 | 5 | 0 | 0 |  0 | 0 | 0 | 0 | 0 | 0 | 0 | ⋯ | 0 | 0 | 0 | 0 | 0 | 0 |  40 | 0 | 0 |  0 |\n",
       "\n"
      ],
      "text/plain": [
       "  Div Academ BEL CR1 Caulimoviridae Copia Crack Crypton DIRS DNA ⋯ TLH.1B_CCri\n",
       "1 0   0      0    0  0              0     0     0       0    0   ⋯ 0          \n",
       "2 1   0      0    0  0              0     0     0       0    0   ⋯ 0          \n",
       "3 2   0      0    0  0              0     0     0       0    0   ⋯ 0          \n",
       "4 3   0      0   66  0              0     0     0       0    0   ⋯ 0          \n",
       "5 4   0      0    0  0              0     0     0       0    0   ⋯ 0          \n",
       "6 5   0      0    0  0              0     0     0       0    0   ⋯ 0          \n",
       "  Transib Transposable Tx1 Vingi Zisupton hAT piggyBac rRNA tRNA\n",
       "1 0       0            0   0     0          0 0        0     0  \n",
       "2 0       0            0   0     0        173 0        0    66  \n",
       "3 0       0            0   0     0          0 0        0     0  \n",
       "4 0       0            0   0     0          0 0        0     0  \n",
       "5 0       0            0   0     0          0 0        0     0  \n",
       "6 0       0            0   0     0         40 0        0     0  "
      ]
     },
     "metadata": {},
     "output_type": "display_data"
    }
   ],
   "source": [
    "# Remove columns containing at least on null (NA) value\n",
    "head(df[ , colSums(is.na(df)) == 0])"
   ]
  },
  {
   "cell_type": "code",
   "execution_count": 16,
   "id": "7ad12787-de59-4ad8-8936-c725db4f62ba",
   "metadata": {},
   "outputs": [
    {
     "data": {
      "text/html": [
       "<table class=\"dataframe\">\n",
       "<caption>A data.frame: 6 × 56</caption>\n",
       "<thead>\n",
       "\t<tr><th></th><th scope=col>Div</th><th scope=col>Academ</th><th scope=col>BEL</th><th scope=col>CR1</th><th scope=col>Caulimoviridae</th><th scope=col>Copia</th><th scope=col>Crack</th><th scope=col>Crypton</th><th scope=col>DIRS</th><th scope=col>DNA</th><th scope=col>⋯</th><th scope=col>TLH.1B_CCri</th><th scope=col>Transib</th><th scope=col>Transposable</th><th scope=col>Tx1</th><th scope=col>Vingi</th><th scope=col>Zisupton</th><th scope=col>hAT</th><th scope=col>piggyBac</th><th scope=col>rRNA</th><th scope=col>tRNA</th></tr>\n",
       "\t<tr><th></th><th scope=col>&lt;int&gt;</th><th scope=col>&lt;int&gt;</th><th scope=col>&lt;int&gt;</th><th scope=col>&lt;int&gt;</th><th scope=col>&lt;int&gt;</th><th scope=col>&lt;int&gt;</th><th scope=col>&lt;int&gt;</th><th scope=col>&lt;int&gt;</th><th scope=col>&lt;int&gt;</th><th scope=col>&lt;int&gt;</th><th scope=col>⋯</th><th scope=col>&lt;int&gt;</th><th scope=col>&lt;int&gt;</th><th scope=col>&lt;int&gt;</th><th scope=col>&lt;int&gt;</th><th scope=col>&lt;int&gt;</th><th scope=col>&lt;int&gt;</th><th scope=col>&lt;int&gt;</th><th scope=col>&lt;int&gt;</th><th scope=col>&lt;int&gt;</th><th scope=col>&lt;int&gt;</th></tr>\n",
       "</thead>\n",
       "<tbody>\n",
       "\t<tr><th scope=row>1</th><td>0</td><td>0</td><td>0</td><td> 0</td><td>0</td><td>0</td><td>0</td><td>0</td><td>0</td><td>0</td><td>⋯</td><td>0</td><td>0</td><td>0</td><td>0</td><td>0</td><td>0</td><td>  0</td><td>0</td><td>0</td><td> 0</td></tr>\n",
       "\t<tr><th scope=row>2</th><td>1</td><td>0</td><td>0</td><td> 0</td><td>0</td><td>0</td><td>0</td><td>0</td><td>0</td><td>0</td><td>⋯</td><td>0</td><td>0</td><td>0</td><td>0</td><td>0</td><td>0</td><td>173</td><td>0</td><td>0</td><td>66</td></tr>\n",
       "\t<tr><th scope=row>3</th><td>2</td><td>0</td><td>0</td><td> 0</td><td>0</td><td>0</td><td>0</td><td>0</td><td>0</td><td>0</td><td>⋯</td><td>0</td><td>0</td><td>0</td><td>0</td><td>0</td><td>0</td><td>  0</td><td>0</td><td>0</td><td> 0</td></tr>\n",
       "\t<tr><th scope=row>4</th><td>3</td><td>0</td><td>0</td><td>66</td><td>0</td><td>0</td><td>0</td><td>0</td><td>0</td><td>0</td><td>⋯</td><td>0</td><td>0</td><td>0</td><td>0</td><td>0</td><td>0</td><td>  0</td><td>0</td><td>0</td><td> 0</td></tr>\n",
       "\t<tr><th scope=row>5</th><td>4</td><td>0</td><td>0</td><td> 0</td><td>0</td><td>0</td><td>0</td><td>0</td><td>0</td><td>0</td><td>⋯</td><td>0</td><td>0</td><td>0</td><td>0</td><td>0</td><td>0</td><td>  0</td><td>0</td><td>0</td><td> 0</td></tr>\n",
       "\t<tr><th scope=row>6</th><td>5</td><td>0</td><td>0</td><td> 0</td><td>0</td><td>0</td><td>0</td><td>0</td><td>0</td><td>0</td><td>⋯</td><td>0</td><td>0</td><td>0</td><td>0</td><td>0</td><td>0</td><td> 40</td><td>0</td><td>0</td><td> 0</td></tr>\n",
       "</tbody>\n",
       "</table>\n"
      ],
      "text/latex": [
       "A data.frame: 6 × 56\n",
       "\\begin{tabular}{r|lllllllllllllllllllll}\n",
       "  & Div & Academ & BEL & CR1 & Caulimoviridae & Copia & Crack & Crypton & DIRS & DNA & ⋯ & TLH.1B\\_CCri & Transib & Transposable & Tx1 & Vingi & Zisupton & hAT & piggyBac & rRNA & tRNA\\\\\n",
       "  & <int> & <int> & <int> & <int> & <int> & <int> & <int> & <int> & <int> & <int> & ⋯ & <int> & <int> & <int> & <int> & <int> & <int> & <int> & <int> & <int> & <int>\\\\\n",
       "\\hline\n",
       "\t1 & 0 & 0 & 0 &  0 & 0 & 0 & 0 & 0 & 0 & 0 & ⋯ & 0 & 0 & 0 & 0 & 0 & 0 &   0 & 0 & 0 &  0\\\\\n",
       "\t2 & 1 & 0 & 0 &  0 & 0 & 0 & 0 & 0 & 0 & 0 & ⋯ & 0 & 0 & 0 & 0 & 0 & 0 & 173 & 0 & 0 & 66\\\\\n",
       "\t3 & 2 & 0 & 0 &  0 & 0 & 0 & 0 & 0 & 0 & 0 & ⋯ & 0 & 0 & 0 & 0 & 0 & 0 &   0 & 0 & 0 &  0\\\\\n",
       "\t4 & 3 & 0 & 0 & 66 & 0 & 0 & 0 & 0 & 0 & 0 & ⋯ & 0 & 0 & 0 & 0 & 0 & 0 &   0 & 0 & 0 &  0\\\\\n",
       "\t5 & 4 & 0 & 0 &  0 & 0 & 0 & 0 & 0 & 0 & 0 & ⋯ & 0 & 0 & 0 & 0 & 0 & 0 &   0 & 0 & 0 &  0\\\\\n",
       "\t6 & 5 & 0 & 0 &  0 & 0 & 0 & 0 & 0 & 0 & 0 & ⋯ & 0 & 0 & 0 & 0 & 0 & 0 &  40 & 0 & 0 &  0\\\\\n",
       "\\end{tabular}\n"
      ],
      "text/markdown": [
       "\n",
       "A data.frame: 6 × 56\n",
       "\n",
       "| <!--/--> | Div &lt;int&gt; | Academ &lt;int&gt; | BEL &lt;int&gt; | CR1 &lt;int&gt; | Caulimoviridae &lt;int&gt; | Copia &lt;int&gt; | Crack &lt;int&gt; | Crypton &lt;int&gt; | DIRS &lt;int&gt; | DNA &lt;int&gt; | ⋯ ⋯ | TLH.1B_CCri &lt;int&gt; | Transib &lt;int&gt; | Transposable &lt;int&gt; | Tx1 &lt;int&gt; | Vingi &lt;int&gt; | Zisupton &lt;int&gt; | hAT &lt;int&gt; | piggyBac &lt;int&gt; | rRNA &lt;int&gt; | tRNA &lt;int&gt; |\n",
       "|---|---|---|---|---|---|---|---|---|---|---|---|---|---|---|---|---|---|---|---|---|---|\n",
       "| 1 | 0 | 0 | 0 |  0 | 0 | 0 | 0 | 0 | 0 | 0 | ⋯ | 0 | 0 | 0 | 0 | 0 | 0 |   0 | 0 | 0 |  0 |\n",
       "| 2 | 1 | 0 | 0 |  0 | 0 | 0 | 0 | 0 | 0 | 0 | ⋯ | 0 | 0 | 0 | 0 | 0 | 0 | 173 | 0 | 0 | 66 |\n",
       "| 3 | 2 | 0 | 0 |  0 | 0 | 0 | 0 | 0 | 0 | 0 | ⋯ | 0 | 0 | 0 | 0 | 0 | 0 |   0 | 0 | 0 |  0 |\n",
       "| 4 | 3 | 0 | 0 | 66 | 0 | 0 | 0 | 0 | 0 | 0 | ⋯ | 0 | 0 | 0 | 0 | 0 | 0 |   0 | 0 | 0 |  0 |\n",
       "| 5 | 4 | 0 | 0 |  0 | 0 | 0 | 0 | 0 | 0 | 0 | ⋯ | 0 | 0 | 0 | 0 | 0 | 0 |   0 | 0 | 0 |  0 |\n",
       "| 6 | 5 | 0 | 0 |  0 | 0 | 0 | 0 | 0 | 0 | 0 | ⋯ | 0 | 0 | 0 | 0 | 0 | 0 |  40 | 0 | 0 |  0 |\n",
       "\n"
      ],
      "text/plain": [
       "  Div Academ BEL CR1 Caulimoviridae Copia Crack Crypton DIRS DNA ⋯ TLH.1B_CCri\n",
       "1 0   0      0    0  0              0     0     0       0    0   ⋯ 0          \n",
       "2 1   0      0    0  0              0     0     0       0    0   ⋯ 0          \n",
       "3 2   0      0    0  0              0     0     0       0    0   ⋯ 0          \n",
       "4 3   0      0   66  0              0     0     0       0    0   ⋯ 0          \n",
       "5 4   0      0    0  0              0     0     0       0    0   ⋯ 0          \n",
       "6 5   0      0    0  0              0     0     0       0    0   ⋯ 0          \n",
       "  Transib Transposable Tx1 Vingi Zisupton hAT piggyBac rRNA tRNA\n",
       "1 0       0            0   0     0          0 0        0     0  \n",
       "2 0       0            0   0     0        173 0        0    66  \n",
       "3 0       0            0   0     0          0 0        0     0  \n",
       "4 0       0            0   0     0          0 0        0     0  \n",
       "5 0       0            0   0     0          0 0        0     0  \n",
       "6 0       0            0   0     0         40 0        0     0  "
      ]
     },
     "metadata": {},
     "output_type": "display_data"
    }
   ],
   "source": [
    "# Remove last column\n",
    "head(df[,-ncol(df)])"
   ]
  },
  {
   "cell_type": "code",
   "execution_count": 25,
   "id": "5e47e8f0-2b0f-47d5-a7a4-18d08e41c157",
   "metadata": {},
   "outputs": [
    {
     "data": {
      "text/html": [
       "<table class=\"dataframe\">\n",
       "<caption>A data.frame: 6 × 54</caption>\n",
       "<thead>\n",
       "\t<tr><th></th><th scope=col>Div</th><th scope=col>Academ</th><th scope=col>BEL</th><th scope=col>CR1</th><th scope=col>Caulimoviridae</th><th scope=col>Copia</th><th scope=col>Crack</th><th scope=col>Crypton</th><th scope=col>DIRS</th><th scope=col>DNA</th><th scope=col>⋯</th><th scope=col>Sola1</th><th scope=col>Sola3</th><th scope=col>TLH.1B_CCri</th><th scope=col>Transib</th><th scope=col>Transposable</th><th scope=col>Tx1</th><th scope=col>Vingi</th><th scope=col>Zisupton</th><th scope=col>hAT</th><th scope=col>piggyBac</th></tr>\n",
       "\t<tr><th></th><th scope=col>&lt;int&gt;</th><th scope=col>&lt;int&gt;</th><th scope=col>&lt;int&gt;</th><th scope=col>&lt;int&gt;</th><th scope=col>&lt;int&gt;</th><th scope=col>&lt;int&gt;</th><th scope=col>&lt;int&gt;</th><th scope=col>&lt;int&gt;</th><th scope=col>&lt;int&gt;</th><th scope=col>&lt;int&gt;</th><th scope=col>⋯</th><th scope=col>&lt;int&gt;</th><th scope=col>&lt;int&gt;</th><th scope=col>&lt;int&gt;</th><th scope=col>&lt;int&gt;</th><th scope=col>&lt;int&gt;</th><th scope=col>&lt;int&gt;</th><th scope=col>&lt;int&gt;</th><th scope=col>&lt;int&gt;</th><th scope=col>&lt;int&gt;</th><th scope=col>&lt;int&gt;</th></tr>\n",
       "</thead>\n",
       "<tbody>\n",
       "\t<tr><th scope=row>1</th><td>0</td><td>0</td><td>0</td><td> 0</td><td>0</td><td>0</td><td>0</td><td>0</td><td>0</td><td>0</td><td>⋯</td><td>0</td><td>0</td><td>0</td><td>0</td><td>0</td><td>0</td><td>0</td><td>0</td><td>  0</td><td>0</td></tr>\n",
       "\t<tr><th scope=row>2</th><td>1</td><td>0</td><td>0</td><td> 0</td><td>0</td><td>0</td><td>0</td><td>0</td><td>0</td><td>0</td><td>⋯</td><td>0</td><td>0</td><td>0</td><td>0</td><td>0</td><td>0</td><td>0</td><td>0</td><td>173</td><td>0</td></tr>\n",
       "\t<tr><th scope=row>3</th><td>2</td><td>0</td><td>0</td><td> 0</td><td>0</td><td>0</td><td>0</td><td>0</td><td>0</td><td>0</td><td>⋯</td><td>0</td><td>0</td><td>0</td><td>0</td><td>0</td><td>0</td><td>0</td><td>0</td><td>  0</td><td>0</td></tr>\n",
       "\t<tr><th scope=row>4</th><td>3</td><td>0</td><td>0</td><td>66</td><td>0</td><td>0</td><td>0</td><td>0</td><td>0</td><td>0</td><td>⋯</td><td>0</td><td>0</td><td>0</td><td>0</td><td>0</td><td>0</td><td>0</td><td>0</td><td>  0</td><td>0</td></tr>\n",
       "\t<tr><th scope=row>5</th><td>4</td><td>0</td><td>0</td><td> 0</td><td>0</td><td>0</td><td>0</td><td>0</td><td>0</td><td>0</td><td>⋯</td><td>0</td><td>0</td><td>0</td><td>0</td><td>0</td><td>0</td><td>0</td><td>0</td><td>  0</td><td>0</td></tr>\n",
       "\t<tr><th scope=row>6</th><td>5</td><td>0</td><td>0</td><td> 0</td><td>0</td><td>0</td><td>0</td><td>0</td><td>0</td><td>0</td><td>⋯</td><td>0</td><td>0</td><td>0</td><td>0</td><td>0</td><td>0</td><td>0</td><td>0</td><td> 40</td><td>0</td></tr>\n",
       "</tbody>\n",
       "</table>\n"
      ],
      "text/latex": [
       "A data.frame: 6 × 54\n",
       "\\begin{tabular}{r|lllllllllllllllllllll}\n",
       "  & Div & Academ & BEL & CR1 & Caulimoviridae & Copia & Crack & Crypton & DIRS & DNA & ⋯ & Sola1 & Sola3 & TLH.1B\\_CCri & Transib & Transposable & Tx1 & Vingi & Zisupton & hAT & piggyBac\\\\\n",
       "  & <int> & <int> & <int> & <int> & <int> & <int> & <int> & <int> & <int> & <int> & ⋯ & <int> & <int> & <int> & <int> & <int> & <int> & <int> & <int> & <int> & <int>\\\\\n",
       "\\hline\n",
       "\t1 & 0 & 0 & 0 &  0 & 0 & 0 & 0 & 0 & 0 & 0 & ⋯ & 0 & 0 & 0 & 0 & 0 & 0 & 0 & 0 &   0 & 0\\\\\n",
       "\t2 & 1 & 0 & 0 &  0 & 0 & 0 & 0 & 0 & 0 & 0 & ⋯ & 0 & 0 & 0 & 0 & 0 & 0 & 0 & 0 & 173 & 0\\\\\n",
       "\t3 & 2 & 0 & 0 &  0 & 0 & 0 & 0 & 0 & 0 & 0 & ⋯ & 0 & 0 & 0 & 0 & 0 & 0 & 0 & 0 &   0 & 0\\\\\n",
       "\t4 & 3 & 0 & 0 & 66 & 0 & 0 & 0 & 0 & 0 & 0 & ⋯ & 0 & 0 & 0 & 0 & 0 & 0 & 0 & 0 &   0 & 0\\\\\n",
       "\t5 & 4 & 0 & 0 &  0 & 0 & 0 & 0 & 0 & 0 & 0 & ⋯ & 0 & 0 & 0 & 0 & 0 & 0 & 0 & 0 &   0 & 0\\\\\n",
       "\t6 & 5 & 0 & 0 &  0 & 0 & 0 & 0 & 0 & 0 & 0 & ⋯ & 0 & 0 & 0 & 0 & 0 & 0 & 0 & 0 &  40 & 0\\\\\n",
       "\\end{tabular}\n"
      ],
      "text/markdown": [
       "\n",
       "A data.frame: 6 × 54\n",
       "\n",
       "| <!--/--> | Div &lt;int&gt; | Academ &lt;int&gt; | BEL &lt;int&gt; | CR1 &lt;int&gt; | Caulimoviridae &lt;int&gt; | Copia &lt;int&gt; | Crack &lt;int&gt; | Crypton &lt;int&gt; | DIRS &lt;int&gt; | DNA &lt;int&gt; | ⋯ ⋯ | Sola1 &lt;int&gt; | Sola3 &lt;int&gt; | TLH.1B_CCri &lt;int&gt; | Transib &lt;int&gt; | Transposable &lt;int&gt; | Tx1 &lt;int&gt; | Vingi &lt;int&gt; | Zisupton &lt;int&gt; | hAT &lt;int&gt; | piggyBac &lt;int&gt; |\n",
       "|---|---|---|---|---|---|---|---|---|---|---|---|---|---|---|---|---|---|---|---|---|---|\n",
       "| 1 | 0 | 0 | 0 |  0 | 0 | 0 | 0 | 0 | 0 | 0 | ⋯ | 0 | 0 | 0 | 0 | 0 | 0 | 0 | 0 |   0 | 0 |\n",
       "| 2 | 1 | 0 | 0 |  0 | 0 | 0 | 0 | 0 | 0 | 0 | ⋯ | 0 | 0 | 0 | 0 | 0 | 0 | 0 | 0 | 173 | 0 |\n",
       "| 3 | 2 | 0 | 0 |  0 | 0 | 0 | 0 | 0 | 0 | 0 | ⋯ | 0 | 0 | 0 | 0 | 0 | 0 | 0 | 0 |   0 | 0 |\n",
       "| 4 | 3 | 0 | 0 | 66 | 0 | 0 | 0 | 0 | 0 | 0 | ⋯ | 0 | 0 | 0 | 0 | 0 | 0 | 0 | 0 |   0 | 0 |\n",
       "| 5 | 4 | 0 | 0 |  0 | 0 | 0 | 0 | 0 | 0 | 0 | ⋯ | 0 | 0 | 0 | 0 | 0 | 0 | 0 | 0 |   0 | 0 |\n",
       "| 6 | 5 | 0 | 0 |  0 | 0 | 0 | 0 | 0 | 0 | 0 | ⋯ | 0 | 0 | 0 | 0 | 0 | 0 | 0 | 0 |  40 | 0 |\n",
       "\n"
      ],
      "text/plain": [
       "  Div Academ BEL CR1 Caulimoviridae Copia Crack Crypton DIRS DNA ⋯ Sola1 Sola3\n",
       "1 0   0      0    0  0              0     0     0       0    0   ⋯ 0     0    \n",
       "2 1   0      0    0  0              0     0     0       0    0   ⋯ 0     0    \n",
       "3 2   0      0    0  0              0     0     0       0    0   ⋯ 0     0    \n",
       "4 3   0      0   66  0              0     0     0       0    0   ⋯ 0     0    \n",
       "5 4   0      0    0  0              0     0     0       0    0   ⋯ 0     0    \n",
       "6 5   0      0    0  0              0     0     0       0    0   ⋯ 0     0    \n",
       "  TLH.1B_CCri Transib Transposable Tx1 Vingi Zisupton hAT piggyBac\n",
       "1 0           0       0            0   0     0          0 0       \n",
       "2 0           0       0            0   0     0        173 0       \n",
       "3 0           0       0            0   0     0          0 0       \n",
       "4 0           0       0            0   0     0          0 0       \n",
       "5 0           0       0            0   0     0          0 0       \n",
       "6 0           0       0            0   0     0         40 0       "
      ]
     },
     "metadata": {},
     "output_type": "display_data"
    }
   ],
   "source": [
    "# Remove specific columns using which() and names()\n",
    "head(df[,-which(names(df) %in% c('rRNA','tRNA','X'))])"
   ]
  },
  {
   "cell_type": "code",
   "execution_count": 28,
   "id": "f1cf4f90-6213-419c-abf0-9dd1a19b8786",
   "metadata": {},
   "outputs": [
    {
     "data": {
      "text/html": [
       "<table class=\"dataframe\">\n",
       "<caption>A data.frame: 6 × 54</caption>\n",
       "<thead>\n",
       "\t<tr><th></th><th scope=col>Div</th><th scope=col>Academ</th><th scope=col>BEL</th><th scope=col>CR1</th><th scope=col>Caulimoviridae</th><th scope=col>Copia</th><th scope=col>Crack</th><th scope=col>Crypton</th><th scope=col>DIRS</th><th scope=col>DNA</th><th scope=col>⋯</th><th scope=col>Sola1</th><th scope=col>Sola3</th><th scope=col>TLH.1B_CCri</th><th scope=col>Transib</th><th scope=col>Transposable</th><th scope=col>Tx1</th><th scope=col>Vingi</th><th scope=col>Zisupton</th><th scope=col>hAT</th><th scope=col>piggyBac</th></tr>\n",
       "\t<tr><th></th><th scope=col>&lt;int&gt;</th><th scope=col>&lt;int&gt;</th><th scope=col>&lt;int&gt;</th><th scope=col>&lt;int&gt;</th><th scope=col>&lt;int&gt;</th><th scope=col>&lt;int&gt;</th><th scope=col>&lt;int&gt;</th><th scope=col>&lt;int&gt;</th><th scope=col>&lt;int&gt;</th><th scope=col>&lt;int&gt;</th><th scope=col>⋯</th><th scope=col>&lt;int&gt;</th><th scope=col>&lt;int&gt;</th><th scope=col>&lt;int&gt;</th><th scope=col>&lt;int&gt;</th><th scope=col>&lt;int&gt;</th><th scope=col>&lt;int&gt;</th><th scope=col>&lt;int&gt;</th><th scope=col>&lt;int&gt;</th><th scope=col>&lt;int&gt;</th><th scope=col>&lt;int&gt;</th></tr>\n",
       "</thead>\n",
       "<tbody>\n",
       "\t<tr><th scope=row>1</th><td>0</td><td>0</td><td>0</td><td> 0</td><td>0</td><td>0</td><td>0</td><td>0</td><td>0</td><td>0</td><td>⋯</td><td>0</td><td>0</td><td>0</td><td>0</td><td>0</td><td>0</td><td>0</td><td>0</td><td>  0</td><td>0</td></tr>\n",
       "\t<tr><th scope=row>2</th><td>1</td><td>0</td><td>0</td><td> 0</td><td>0</td><td>0</td><td>0</td><td>0</td><td>0</td><td>0</td><td>⋯</td><td>0</td><td>0</td><td>0</td><td>0</td><td>0</td><td>0</td><td>0</td><td>0</td><td>173</td><td>0</td></tr>\n",
       "\t<tr><th scope=row>3</th><td>2</td><td>0</td><td>0</td><td> 0</td><td>0</td><td>0</td><td>0</td><td>0</td><td>0</td><td>0</td><td>⋯</td><td>0</td><td>0</td><td>0</td><td>0</td><td>0</td><td>0</td><td>0</td><td>0</td><td>  0</td><td>0</td></tr>\n",
       "\t<tr><th scope=row>4</th><td>3</td><td>0</td><td>0</td><td>66</td><td>0</td><td>0</td><td>0</td><td>0</td><td>0</td><td>0</td><td>⋯</td><td>0</td><td>0</td><td>0</td><td>0</td><td>0</td><td>0</td><td>0</td><td>0</td><td>  0</td><td>0</td></tr>\n",
       "\t<tr><th scope=row>5</th><td>4</td><td>0</td><td>0</td><td> 0</td><td>0</td><td>0</td><td>0</td><td>0</td><td>0</td><td>0</td><td>⋯</td><td>0</td><td>0</td><td>0</td><td>0</td><td>0</td><td>0</td><td>0</td><td>0</td><td>  0</td><td>0</td></tr>\n",
       "\t<tr><th scope=row>6</th><td>5</td><td>0</td><td>0</td><td> 0</td><td>0</td><td>0</td><td>0</td><td>0</td><td>0</td><td>0</td><td>⋯</td><td>0</td><td>0</td><td>0</td><td>0</td><td>0</td><td>0</td><td>0</td><td>0</td><td> 40</td><td>0</td></tr>\n",
       "</tbody>\n",
       "</table>\n"
      ],
      "text/latex": [
       "A data.frame: 6 × 54\n",
       "\\begin{tabular}{r|lllllllllllllllllllll}\n",
       "  & Div & Academ & BEL & CR1 & Caulimoviridae & Copia & Crack & Crypton & DIRS & DNA & ⋯ & Sola1 & Sola3 & TLH.1B\\_CCri & Transib & Transposable & Tx1 & Vingi & Zisupton & hAT & piggyBac\\\\\n",
       "  & <int> & <int> & <int> & <int> & <int> & <int> & <int> & <int> & <int> & <int> & ⋯ & <int> & <int> & <int> & <int> & <int> & <int> & <int> & <int> & <int> & <int>\\\\\n",
       "\\hline\n",
       "\t1 & 0 & 0 & 0 &  0 & 0 & 0 & 0 & 0 & 0 & 0 & ⋯ & 0 & 0 & 0 & 0 & 0 & 0 & 0 & 0 &   0 & 0\\\\\n",
       "\t2 & 1 & 0 & 0 &  0 & 0 & 0 & 0 & 0 & 0 & 0 & ⋯ & 0 & 0 & 0 & 0 & 0 & 0 & 0 & 0 & 173 & 0\\\\\n",
       "\t3 & 2 & 0 & 0 &  0 & 0 & 0 & 0 & 0 & 0 & 0 & ⋯ & 0 & 0 & 0 & 0 & 0 & 0 & 0 & 0 &   0 & 0\\\\\n",
       "\t4 & 3 & 0 & 0 & 66 & 0 & 0 & 0 & 0 & 0 & 0 & ⋯ & 0 & 0 & 0 & 0 & 0 & 0 & 0 & 0 &   0 & 0\\\\\n",
       "\t5 & 4 & 0 & 0 &  0 & 0 & 0 & 0 & 0 & 0 & 0 & ⋯ & 0 & 0 & 0 & 0 & 0 & 0 & 0 & 0 &   0 & 0\\\\\n",
       "\t6 & 5 & 0 & 0 &  0 & 0 & 0 & 0 & 0 & 0 & 0 & ⋯ & 0 & 0 & 0 & 0 & 0 & 0 & 0 & 0 &  40 & 0\\\\\n",
       "\\end{tabular}\n"
      ],
      "text/markdown": [
       "\n",
       "A data.frame: 6 × 54\n",
       "\n",
       "| <!--/--> | Div &lt;int&gt; | Academ &lt;int&gt; | BEL &lt;int&gt; | CR1 &lt;int&gt; | Caulimoviridae &lt;int&gt; | Copia &lt;int&gt; | Crack &lt;int&gt; | Crypton &lt;int&gt; | DIRS &lt;int&gt; | DNA &lt;int&gt; | ⋯ ⋯ | Sola1 &lt;int&gt; | Sola3 &lt;int&gt; | TLH.1B_CCri &lt;int&gt; | Transib &lt;int&gt; | Transposable &lt;int&gt; | Tx1 &lt;int&gt; | Vingi &lt;int&gt; | Zisupton &lt;int&gt; | hAT &lt;int&gt; | piggyBac &lt;int&gt; |\n",
       "|---|---|---|---|---|---|---|---|---|---|---|---|---|---|---|---|---|---|---|---|---|---|\n",
       "| 1 | 0 | 0 | 0 |  0 | 0 | 0 | 0 | 0 | 0 | 0 | ⋯ | 0 | 0 | 0 | 0 | 0 | 0 | 0 | 0 |   0 | 0 |\n",
       "| 2 | 1 | 0 | 0 |  0 | 0 | 0 | 0 | 0 | 0 | 0 | ⋯ | 0 | 0 | 0 | 0 | 0 | 0 | 0 | 0 | 173 | 0 |\n",
       "| 3 | 2 | 0 | 0 |  0 | 0 | 0 | 0 | 0 | 0 | 0 | ⋯ | 0 | 0 | 0 | 0 | 0 | 0 | 0 | 0 |   0 | 0 |\n",
       "| 4 | 3 | 0 | 0 | 66 | 0 | 0 | 0 | 0 | 0 | 0 | ⋯ | 0 | 0 | 0 | 0 | 0 | 0 | 0 | 0 |   0 | 0 |\n",
       "| 5 | 4 | 0 | 0 |  0 | 0 | 0 | 0 | 0 | 0 | 0 | ⋯ | 0 | 0 | 0 | 0 | 0 | 0 | 0 | 0 |   0 | 0 |\n",
       "| 6 | 5 | 0 | 0 |  0 | 0 | 0 | 0 | 0 | 0 | 0 | ⋯ | 0 | 0 | 0 | 0 | 0 | 0 | 0 | 0 |  40 | 0 |\n",
       "\n"
      ],
      "text/plain": [
       "  Div Academ BEL CR1 Caulimoviridae Copia Crack Crypton DIRS DNA ⋯ Sola1 Sola3\n",
       "1 0   0      0    0  0              0     0     0       0    0   ⋯ 0     0    \n",
       "2 1   0      0    0  0              0     0     0       0    0   ⋯ 0     0    \n",
       "3 2   0      0    0  0              0     0     0       0    0   ⋯ 0     0    \n",
       "4 3   0      0   66  0              0     0     0       0    0   ⋯ 0     0    \n",
       "5 4   0      0    0  0              0     0     0       0    0   ⋯ 0     0    \n",
       "6 5   0      0    0  0              0     0     0       0    0   ⋯ 0     0    \n",
       "  TLH.1B_CCri Transib Transposable Tx1 Vingi Zisupton hAT piggyBac\n",
       "1 0           0       0            0   0     0          0 0       \n",
       "2 0           0       0            0   0     0        173 0       \n",
       "3 0           0       0            0   0     0          0 0       \n",
       "4 0           0       0            0   0     0          0 0       \n",
       "5 0           0       0            0   0     0          0 0       \n",
       "6 0           0       0            0   0     0         40 0       "
      ]
     },
     "metadata": {},
     "output_type": "display_data"
    }
   ],
   "source": [
    "# Remove columns using names()\n",
    "head(df[,!names(df) %in% c('rRNA','tRNA','X')]) # can also use colnames()"
   ]
  },
  {
   "cell_type": "code",
   "execution_count": 6,
   "id": "727cdf7b-1089-4acc-a2b4-b28d60ffd384",
   "metadata": {},
   "outputs": [
    {
     "data": {
      "text/html": [
       "<table class=\"dataframe\">\n",
       "<caption>A data.frame: 6 × 56</caption>\n",
       "<thead>\n",
       "\t<tr><th></th><th scope=col>Div</th><th scope=col>Academ</th><th scope=col>BEL</th><th scope=col>CR1</th><th scope=col>Caulimoviridae</th><th scope=col>Copia</th><th scope=col>Crack</th><th scope=col>Crypton</th><th scope=col>DIRS</th><th scope=col>DNA</th><th scope=col>⋯</th><th scope=col>TLH.1B_CCri</th><th scope=col>Transib</th><th scope=col>Transposable</th><th scope=col>Tx1</th><th scope=col>Vingi</th><th scope=col>Zisupton</th><th scope=col>hAT</th><th scope=col>piggyBac</th><th scope=col>rRNA</th><th scope=col>tRNA</th></tr>\n",
       "\t<tr><th></th><th scope=col>&lt;int&gt;</th><th scope=col>&lt;int&gt;</th><th scope=col>&lt;int&gt;</th><th scope=col>&lt;int&gt;</th><th scope=col>&lt;int&gt;</th><th scope=col>&lt;int&gt;</th><th scope=col>&lt;int&gt;</th><th scope=col>&lt;int&gt;</th><th scope=col>&lt;int&gt;</th><th scope=col>&lt;int&gt;</th><th scope=col>⋯</th><th scope=col>&lt;int&gt;</th><th scope=col>&lt;int&gt;</th><th scope=col>&lt;int&gt;</th><th scope=col>&lt;int&gt;</th><th scope=col>&lt;int&gt;</th><th scope=col>&lt;int&gt;</th><th scope=col>&lt;int&gt;</th><th scope=col>&lt;int&gt;</th><th scope=col>&lt;int&gt;</th><th scope=col>&lt;int&gt;</th></tr>\n",
       "</thead>\n",
       "<tbody>\n",
       "\t<tr><th scope=row>1</th><td>0</td><td>0</td><td>0</td><td> 0</td><td>0</td><td>0</td><td>0</td><td>0</td><td>0</td><td>0</td><td>⋯</td><td>0</td><td>0</td><td>0</td><td>0</td><td>0</td><td>0</td><td>  0</td><td>0</td><td>0</td><td> 0</td></tr>\n",
       "\t<tr><th scope=row>2</th><td>1</td><td>0</td><td>0</td><td> 0</td><td>0</td><td>0</td><td>0</td><td>0</td><td>0</td><td>0</td><td>⋯</td><td>0</td><td>0</td><td>0</td><td>0</td><td>0</td><td>0</td><td>173</td><td>0</td><td>0</td><td>66</td></tr>\n",
       "\t<tr><th scope=row>3</th><td>2</td><td>0</td><td>0</td><td> 0</td><td>0</td><td>0</td><td>0</td><td>0</td><td>0</td><td>0</td><td>⋯</td><td>0</td><td>0</td><td>0</td><td>0</td><td>0</td><td>0</td><td>  0</td><td>0</td><td>0</td><td> 0</td></tr>\n",
       "\t<tr><th scope=row>4</th><td>3</td><td>0</td><td>0</td><td>66</td><td>0</td><td>0</td><td>0</td><td>0</td><td>0</td><td>0</td><td>⋯</td><td>0</td><td>0</td><td>0</td><td>0</td><td>0</td><td>0</td><td>  0</td><td>0</td><td>0</td><td> 0</td></tr>\n",
       "\t<tr><th scope=row>5</th><td>4</td><td>0</td><td>0</td><td> 0</td><td>0</td><td>0</td><td>0</td><td>0</td><td>0</td><td>0</td><td>⋯</td><td>0</td><td>0</td><td>0</td><td>0</td><td>0</td><td>0</td><td>  0</td><td>0</td><td>0</td><td> 0</td></tr>\n",
       "\t<tr><th scope=row>6</th><td>5</td><td>0</td><td>0</td><td> 0</td><td>0</td><td>0</td><td>0</td><td>0</td><td>0</td><td>0</td><td>⋯</td><td>0</td><td>0</td><td>0</td><td>0</td><td>0</td><td>0</td><td> 40</td><td>0</td><td>0</td><td> 0</td></tr>\n",
       "</tbody>\n",
       "</table>\n"
      ],
      "text/latex": [
       "A data.frame: 6 × 56\n",
       "\\begin{tabular}{r|lllllllllllllllllllll}\n",
       "  & Div & Academ & BEL & CR1 & Caulimoviridae & Copia & Crack & Crypton & DIRS & DNA & ⋯ & TLH.1B\\_CCri & Transib & Transposable & Tx1 & Vingi & Zisupton & hAT & piggyBac & rRNA & tRNA\\\\\n",
       "  & <int> & <int> & <int> & <int> & <int> & <int> & <int> & <int> & <int> & <int> & ⋯ & <int> & <int> & <int> & <int> & <int> & <int> & <int> & <int> & <int> & <int>\\\\\n",
       "\\hline\n",
       "\t1 & 0 & 0 & 0 &  0 & 0 & 0 & 0 & 0 & 0 & 0 & ⋯ & 0 & 0 & 0 & 0 & 0 & 0 &   0 & 0 & 0 &  0\\\\\n",
       "\t2 & 1 & 0 & 0 &  0 & 0 & 0 & 0 & 0 & 0 & 0 & ⋯ & 0 & 0 & 0 & 0 & 0 & 0 & 173 & 0 & 0 & 66\\\\\n",
       "\t3 & 2 & 0 & 0 &  0 & 0 & 0 & 0 & 0 & 0 & 0 & ⋯ & 0 & 0 & 0 & 0 & 0 & 0 &   0 & 0 & 0 &  0\\\\\n",
       "\t4 & 3 & 0 & 0 & 66 & 0 & 0 & 0 & 0 & 0 & 0 & ⋯ & 0 & 0 & 0 & 0 & 0 & 0 &   0 & 0 & 0 &  0\\\\\n",
       "\t5 & 4 & 0 & 0 &  0 & 0 & 0 & 0 & 0 & 0 & 0 & ⋯ & 0 & 0 & 0 & 0 & 0 & 0 &   0 & 0 & 0 &  0\\\\\n",
       "\t6 & 5 & 0 & 0 &  0 & 0 & 0 & 0 & 0 & 0 & 0 & ⋯ & 0 & 0 & 0 & 0 & 0 & 0 &  40 & 0 & 0 &  0\\\\\n",
       "\\end{tabular}\n"
      ],
      "text/markdown": [
       "\n",
       "A data.frame: 6 × 56\n",
       "\n",
       "| <!--/--> | Div &lt;int&gt; | Academ &lt;int&gt; | BEL &lt;int&gt; | CR1 &lt;int&gt; | Caulimoviridae &lt;int&gt; | Copia &lt;int&gt; | Crack &lt;int&gt; | Crypton &lt;int&gt; | DIRS &lt;int&gt; | DNA &lt;int&gt; | ⋯ ⋯ | TLH.1B_CCri &lt;int&gt; | Transib &lt;int&gt; | Transposable &lt;int&gt; | Tx1 &lt;int&gt; | Vingi &lt;int&gt; | Zisupton &lt;int&gt; | hAT &lt;int&gt; | piggyBac &lt;int&gt; | rRNA &lt;int&gt; | tRNA &lt;int&gt; |\n",
       "|---|---|---|---|---|---|---|---|---|---|---|---|---|---|---|---|---|---|---|---|---|---|\n",
       "| 1 | 0 | 0 | 0 |  0 | 0 | 0 | 0 | 0 | 0 | 0 | ⋯ | 0 | 0 | 0 | 0 | 0 | 0 |   0 | 0 | 0 |  0 |\n",
       "| 2 | 1 | 0 | 0 |  0 | 0 | 0 | 0 | 0 | 0 | 0 | ⋯ | 0 | 0 | 0 | 0 | 0 | 0 | 173 | 0 | 0 | 66 |\n",
       "| 3 | 2 | 0 | 0 |  0 | 0 | 0 | 0 | 0 | 0 | 0 | ⋯ | 0 | 0 | 0 | 0 | 0 | 0 |   0 | 0 | 0 |  0 |\n",
       "| 4 | 3 | 0 | 0 | 66 | 0 | 0 | 0 | 0 | 0 | 0 | ⋯ | 0 | 0 | 0 | 0 | 0 | 0 |   0 | 0 | 0 |  0 |\n",
       "| 5 | 4 | 0 | 0 |  0 | 0 | 0 | 0 | 0 | 0 | 0 | ⋯ | 0 | 0 | 0 | 0 | 0 | 0 |   0 | 0 | 0 |  0 |\n",
       "| 6 | 5 | 0 | 0 |  0 | 0 | 0 | 0 | 0 | 0 | 0 | ⋯ | 0 | 0 | 0 | 0 | 0 | 0 |  40 | 0 | 0 |  0 |\n",
       "\n"
      ],
      "text/plain": [
       "  Div Academ BEL CR1 Caulimoviridae Copia Crack Crypton DIRS DNA ⋯ TLH.1B_CCri\n",
       "1 0   0      0    0  0              0     0     0       0    0   ⋯ 0          \n",
       "2 1   0      0    0  0              0     0     0       0    0   ⋯ 0          \n",
       "3 2   0      0    0  0              0     0     0       0    0   ⋯ 0          \n",
       "4 3   0      0   66  0              0     0     0       0    0   ⋯ 0          \n",
       "5 4   0      0    0  0              0     0     0       0    0   ⋯ 0          \n",
       "6 5   0      0    0  0              0     0     0       0    0   ⋯ 0          \n",
       "  Transib Transposable Tx1 Vingi Zisupton hAT piggyBac rRNA tRNA\n",
       "1 0       0            0   0     0          0 0        0     0  \n",
       "2 0       0            0   0     0        173 0        0    66  \n",
       "3 0       0            0   0     0          0 0        0     0  \n",
       "4 0       0            0   0     0          0 0        0     0  \n",
       "5 0       0            0   0     0          0 0        0     0  \n",
       "6 0       0            0   0     0         40 0        0     0  "
      ]
     },
     "metadata": {},
     "output_type": "display_data"
    }
   ],
   "source": [
    "# Removing column using subset\n",
    "head(subset(df,select = -X))"
   ]
  },
  {
   "cell_type": "code",
   "execution_count": 4,
   "id": "62bb903b-50b4-4e9f-967e-91fdf892ab68",
   "metadata": {},
   "outputs": [
    {
     "data": {
      "text/html": [
       "<table class=\"dataframe\">\n",
       "<caption>A data.frame: 6 × 53</caption>\n",
       "<thead>\n",
       "\t<tr><th></th><th scope=col>Div</th><th scope=col>Academ</th><th scope=col>BEL</th><th scope=col>CR1</th><th scope=col>Caulimoviridae</th><th scope=col>Copia</th><th scope=col>Crack</th><th scope=col>Crypton</th><th scope=col>DIRS</th><th scope=col>DNA</th><th scope=col>⋯</th><th scope=col>Satellite</th><th scope=col>Sola1</th><th scope=col>Sola3</th><th scope=col>TLH.1B_CCri</th><th scope=col>Transib</th><th scope=col>Tx1</th><th scope=col>Vingi</th><th scope=col>Zisupton</th><th scope=col>hAT</th><th scope=col>piggyBac</th></tr>\n",
       "\t<tr><th></th><th scope=col>&lt;int&gt;</th><th scope=col>&lt;int&gt;</th><th scope=col>&lt;int&gt;</th><th scope=col>&lt;int&gt;</th><th scope=col>&lt;int&gt;</th><th scope=col>&lt;int&gt;</th><th scope=col>&lt;int&gt;</th><th scope=col>&lt;int&gt;</th><th scope=col>&lt;int&gt;</th><th scope=col>&lt;int&gt;</th><th scope=col>⋯</th><th scope=col>&lt;int&gt;</th><th scope=col>&lt;int&gt;</th><th scope=col>&lt;int&gt;</th><th scope=col>&lt;int&gt;</th><th scope=col>&lt;int&gt;</th><th scope=col>&lt;int&gt;</th><th scope=col>&lt;int&gt;</th><th scope=col>&lt;int&gt;</th><th scope=col>&lt;int&gt;</th><th scope=col>&lt;int&gt;</th></tr>\n",
       "</thead>\n",
       "<tbody>\n",
       "\t<tr><th scope=row>1</th><td>0</td><td>0</td><td>0</td><td> 0</td><td>0</td><td>0</td><td>0</td><td>0</td><td>0</td><td>0</td><td>⋯</td><td>0</td><td>0</td><td>0</td><td>0</td><td>0</td><td>0</td><td>0</td><td>0</td><td>  0</td><td>0</td></tr>\n",
       "\t<tr><th scope=row>2</th><td>1</td><td>0</td><td>0</td><td> 0</td><td>0</td><td>0</td><td>0</td><td>0</td><td>0</td><td>0</td><td>⋯</td><td>0</td><td>0</td><td>0</td><td>0</td><td>0</td><td>0</td><td>0</td><td>0</td><td>173</td><td>0</td></tr>\n",
       "\t<tr><th scope=row>3</th><td>2</td><td>0</td><td>0</td><td> 0</td><td>0</td><td>0</td><td>0</td><td>0</td><td>0</td><td>0</td><td>⋯</td><td>0</td><td>0</td><td>0</td><td>0</td><td>0</td><td>0</td><td>0</td><td>0</td><td>  0</td><td>0</td></tr>\n",
       "\t<tr><th scope=row>4</th><td>3</td><td>0</td><td>0</td><td>66</td><td>0</td><td>0</td><td>0</td><td>0</td><td>0</td><td>0</td><td>⋯</td><td>0</td><td>0</td><td>0</td><td>0</td><td>0</td><td>0</td><td>0</td><td>0</td><td>  0</td><td>0</td></tr>\n",
       "\t<tr><th scope=row>5</th><td>4</td><td>0</td><td>0</td><td> 0</td><td>0</td><td>0</td><td>0</td><td>0</td><td>0</td><td>0</td><td>⋯</td><td>0</td><td>0</td><td>0</td><td>0</td><td>0</td><td>0</td><td>0</td><td>0</td><td>  0</td><td>0</td></tr>\n",
       "\t<tr><th scope=row>6</th><td>5</td><td>0</td><td>0</td><td> 0</td><td>0</td><td>0</td><td>0</td><td>0</td><td>0</td><td>0</td><td>⋯</td><td>0</td><td>0</td><td>0</td><td>0</td><td>0</td><td>0</td><td>0</td><td>0</td><td> 40</td><td>0</td></tr>\n",
       "</tbody>\n",
       "</table>\n"
      ],
      "text/latex": [
       "A data.frame: 6 × 53\n",
       "\\begin{tabular}{r|lllllllllllllllllllll}\n",
       "  & Div & Academ & BEL & CR1 & Caulimoviridae & Copia & Crack & Crypton & DIRS & DNA & ⋯ & Satellite & Sola1 & Sola3 & TLH.1B\\_CCri & Transib & Tx1 & Vingi & Zisupton & hAT & piggyBac\\\\\n",
       "  & <int> & <int> & <int> & <int> & <int> & <int> & <int> & <int> & <int> & <int> & ⋯ & <int> & <int> & <int> & <int> & <int> & <int> & <int> & <int> & <int> & <int>\\\\\n",
       "\\hline\n",
       "\t1 & 0 & 0 & 0 &  0 & 0 & 0 & 0 & 0 & 0 & 0 & ⋯ & 0 & 0 & 0 & 0 & 0 & 0 & 0 & 0 &   0 & 0\\\\\n",
       "\t2 & 1 & 0 & 0 &  0 & 0 & 0 & 0 & 0 & 0 & 0 & ⋯ & 0 & 0 & 0 & 0 & 0 & 0 & 0 & 0 & 173 & 0\\\\\n",
       "\t3 & 2 & 0 & 0 &  0 & 0 & 0 & 0 & 0 & 0 & 0 & ⋯ & 0 & 0 & 0 & 0 & 0 & 0 & 0 & 0 &   0 & 0\\\\\n",
       "\t4 & 3 & 0 & 0 & 66 & 0 & 0 & 0 & 0 & 0 & 0 & ⋯ & 0 & 0 & 0 & 0 & 0 & 0 & 0 & 0 &   0 & 0\\\\\n",
       "\t5 & 4 & 0 & 0 &  0 & 0 & 0 & 0 & 0 & 0 & 0 & ⋯ & 0 & 0 & 0 & 0 & 0 & 0 & 0 & 0 &   0 & 0\\\\\n",
       "\t6 & 5 & 0 & 0 &  0 & 0 & 0 & 0 & 0 & 0 & 0 & ⋯ & 0 & 0 & 0 & 0 & 0 & 0 & 0 & 0 &  40 & 0\\\\\n",
       "\\end{tabular}\n"
      ],
      "text/markdown": [
       "\n",
       "A data.frame: 6 × 53\n",
       "\n",
       "| <!--/--> | Div &lt;int&gt; | Academ &lt;int&gt; | BEL &lt;int&gt; | CR1 &lt;int&gt; | Caulimoviridae &lt;int&gt; | Copia &lt;int&gt; | Crack &lt;int&gt; | Crypton &lt;int&gt; | DIRS &lt;int&gt; | DNA &lt;int&gt; | ⋯ ⋯ | Satellite &lt;int&gt; | Sola1 &lt;int&gt; | Sola3 &lt;int&gt; | TLH.1B_CCri &lt;int&gt; | Transib &lt;int&gt; | Tx1 &lt;int&gt; | Vingi &lt;int&gt; | Zisupton &lt;int&gt; | hAT &lt;int&gt; | piggyBac &lt;int&gt; |\n",
       "|---|---|---|---|---|---|---|---|---|---|---|---|---|---|---|---|---|---|---|---|---|---|\n",
       "| 1 | 0 | 0 | 0 |  0 | 0 | 0 | 0 | 0 | 0 | 0 | ⋯ | 0 | 0 | 0 | 0 | 0 | 0 | 0 | 0 |   0 | 0 |\n",
       "| 2 | 1 | 0 | 0 |  0 | 0 | 0 | 0 | 0 | 0 | 0 | ⋯ | 0 | 0 | 0 | 0 | 0 | 0 | 0 | 0 | 173 | 0 |\n",
       "| 3 | 2 | 0 | 0 |  0 | 0 | 0 | 0 | 0 | 0 | 0 | ⋯ | 0 | 0 | 0 | 0 | 0 | 0 | 0 | 0 |   0 | 0 |\n",
       "| 4 | 3 | 0 | 0 | 66 | 0 | 0 | 0 | 0 | 0 | 0 | ⋯ | 0 | 0 | 0 | 0 | 0 | 0 | 0 | 0 |   0 | 0 |\n",
       "| 5 | 4 | 0 | 0 |  0 | 0 | 0 | 0 | 0 | 0 | 0 | ⋯ | 0 | 0 | 0 | 0 | 0 | 0 | 0 | 0 |   0 | 0 |\n",
       "| 6 | 5 | 0 | 0 |  0 | 0 | 0 | 0 | 0 | 0 | 0 | ⋯ | 0 | 0 | 0 | 0 | 0 | 0 | 0 | 0 |  40 | 0 |\n",
       "\n"
      ],
      "text/plain": [
       "  Div Academ BEL CR1 Caulimoviridae Copia Crack Crypton DIRS DNA ⋯ Satellite\n",
       "1 0   0      0    0  0              0     0     0       0    0   ⋯ 0        \n",
       "2 1   0      0    0  0              0     0     0       0    0   ⋯ 0        \n",
       "3 2   0      0    0  0              0     0     0       0    0   ⋯ 0        \n",
       "4 3   0      0   66  0              0     0     0       0    0   ⋯ 0        \n",
       "5 4   0      0    0  0              0     0     0       0    0   ⋯ 0        \n",
       "6 5   0      0    0  0              0     0     0       0    0   ⋯ 0        \n",
       "  Sola1 Sola3 TLH.1B_CCri Transib Tx1 Vingi Zisupton hAT piggyBac\n",
       "1 0     0     0           0       0   0     0          0 0       \n",
       "2 0     0     0           0       0   0     0        173 0       \n",
       "3 0     0     0           0       0   0     0          0 0       \n",
       "4 0     0     0           0       0   0     0          0 0       \n",
       "5 0     0     0           0       0   0     0          0 0       \n",
       "6 0     0     0           0       0   0     0         40 0       "
      ]
     },
     "metadata": {},
     "output_type": "display_data"
    }
   ],
   "source": [
    "# Removing multiple columns using subset\n",
    "df_sub = subset(df,select = -c(tRNA,rRNA,X,Transposable))\n",
    "head(df_sub)"
   ]
  },
  {
   "cell_type": "code",
   "execution_count": 103,
   "id": "b9837911-830d-47d2-bca8-e91883f5d95b",
   "metadata": {},
   "outputs": [
    {
     "data": {
      "text/html": [
       "<table class=\"dataframe\">\n",
       "<caption>A data.frame: 2 × 53</caption>\n",
       "<thead>\n",
       "\t<tr><th></th><th scope=col>Div</th><th scope=col>Academ</th><th scope=col>BEL</th><th scope=col>CR1</th><th scope=col>Caulimoviridae</th><th scope=col>Copia</th><th scope=col>Crack</th><th scope=col>Crypton</th><th scope=col>DIRS</th><th scope=col>DNA</th><th scope=col>⋯</th><th scope=col>Satellite</th><th scope=col>Sola1</th><th scope=col>Sola3</th><th scope=col>TLH.1B_CCri</th><th scope=col>Transib</th><th scope=col>Tx1</th><th scope=col>Vingi</th><th scope=col>Zisupton</th><th scope=col>hAT</th><th scope=col>piggyBac</th></tr>\n",
       "\t<tr><th></th><th scope=col>&lt;int&gt;</th><th scope=col>&lt;int&gt;</th><th scope=col>&lt;int&gt;</th><th scope=col>&lt;int&gt;</th><th scope=col>&lt;int&gt;</th><th scope=col>&lt;int&gt;</th><th scope=col>&lt;int&gt;</th><th scope=col>&lt;int&gt;</th><th scope=col>&lt;int&gt;</th><th scope=col>&lt;int&gt;</th><th scope=col>⋯</th><th scope=col>&lt;int&gt;</th><th scope=col>&lt;int&gt;</th><th scope=col>&lt;int&gt;</th><th scope=col>&lt;int&gt;</th><th scope=col>&lt;int&gt;</th><th scope=col>&lt;int&gt;</th><th scope=col>&lt;int&gt;</th><th scope=col>&lt;int&gt;</th><th scope=col>&lt;int&gt;</th><th scope=col>&lt;int&gt;</th></tr>\n",
       "</thead>\n",
       "<tbody>\n",
       "\t<tr><th scope=row>3</th><td>2</td><td>0</td><td>0</td><td>0</td><td>0</td><td>0</td><td>0</td><td>0</td><td>0</td><td>0</td><td>⋯</td><td>0</td><td>0</td><td>0</td><td>0</td><td>0</td><td>0</td><td>0</td><td>0</td><td>0</td><td>0</td></tr>\n",
       "\t<tr><th scope=row>5</th><td>4</td><td>0</td><td>0</td><td>0</td><td>0</td><td>0</td><td>0</td><td>0</td><td>0</td><td>0</td><td>⋯</td><td>0</td><td>0</td><td>0</td><td>0</td><td>0</td><td>0</td><td>0</td><td>0</td><td>0</td><td>0</td></tr>\n",
       "</tbody>\n",
       "</table>\n"
      ],
      "text/latex": [
       "A data.frame: 2 × 53\n",
       "\\begin{tabular}{r|lllllllllllllllllllll}\n",
       "  & Div & Academ & BEL & CR1 & Caulimoviridae & Copia & Crack & Crypton & DIRS & DNA & ⋯ & Satellite & Sola1 & Sola3 & TLH.1B\\_CCri & Transib & Tx1 & Vingi & Zisupton & hAT & piggyBac\\\\\n",
       "  & <int> & <int> & <int> & <int> & <int> & <int> & <int> & <int> & <int> & <int> & ⋯ & <int> & <int> & <int> & <int> & <int> & <int> & <int> & <int> & <int> & <int>\\\\\n",
       "\\hline\n",
       "\t3 & 2 & 0 & 0 & 0 & 0 & 0 & 0 & 0 & 0 & 0 & ⋯ & 0 & 0 & 0 & 0 & 0 & 0 & 0 & 0 & 0 & 0\\\\\n",
       "\t5 & 4 & 0 & 0 & 0 & 0 & 0 & 0 & 0 & 0 & 0 & ⋯ & 0 & 0 & 0 & 0 & 0 & 0 & 0 & 0 & 0 & 0\\\\\n",
       "\\end{tabular}\n"
      ],
      "text/markdown": [
       "\n",
       "A data.frame: 2 × 53\n",
       "\n",
       "| <!--/--> | Div &lt;int&gt; | Academ &lt;int&gt; | BEL &lt;int&gt; | CR1 &lt;int&gt; | Caulimoviridae &lt;int&gt; | Copia &lt;int&gt; | Crack &lt;int&gt; | Crypton &lt;int&gt; | DIRS &lt;int&gt; | DNA &lt;int&gt; | ⋯ ⋯ | Satellite &lt;int&gt; | Sola1 &lt;int&gt; | Sola3 &lt;int&gt; | TLH.1B_CCri &lt;int&gt; | Transib &lt;int&gt; | Tx1 &lt;int&gt; | Vingi &lt;int&gt; | Zisupton &lt;int&gt; | hAT &lt;int&gt; | piggyBac &lt;int&gt; |\n",
       "|---|---|---|---|---|---|---|---|---|---|---|---|---|---|---|---|---|---|---|---|---|---|\n",
       "| 3 | 2 | 0 | 0 | 0 | 0 | 0 | 0 | 0 | 0 | 0 | ⋯ | 0 | 0 | 0 | 0 | 0 | 0 | 0 | 0 | 0 | 0 |\n",
       "| 5 | 4 | 0 | 0 | 0 | 0 | 0 | 0 | 0 | 0 | 0 | ⋯ | 0 | 0 | 0 | 0 | 0 | 0 | 0 | 0 | 0 | 0 |\n",
       "\n"
      ],
      "text/plain": [
       "  Div Academ BEL CR1 Caulimoviridae Copia Crack Crypton DIRS DNA ⋯ Satellite\n",
       "3 2   0      0   0   0              0     0     0       0    0   ⋯ 0        \n",
       "5 4   0      0   0   0              0     0     0       0    0   ⋯ 0        \n",
       "  Sola1 Sola3 TLH.1B_CCri Transib Tx1 Vingi Zisupton hAT piggyBac\n",
       "3 0     0     0           0       0   0     0        0   0       \n",
       "5 0     0     0           0       0   0     0        0   0       "
      ]
     },
     "metadata": {},
     "output_type": "display_data"
    }
   ],
   "source": [
    "# Select specifiv rows\n",
    "df_sub[c(3,5),]"
   ]
  },
  {
   "cell_type": "code",
   "execution_count": 109,
   "id": "90a3fefd-7c05-4caf-afda-02aab25ee34a",
   "metadata": {},
   "outputs": [
    {
     "data": {
      "text/html": [
       "<table class=\"dataframe\">\n",
       "<caption>A data.frame: 6 × 2</caption>\n",
       "<thead>\n",
       "\t<tr><th></th><th scope=col>BEL</th><th scope=col>Caulimoviridae</th></tr>\n",
       "\t<tr><th></th><th scope=col>&lt;int&gt;</th><th scope=col>&lt;int&gt;</th></tr>\n",
       "</thead>\n",
       "<tbody>\n",
       "\t<tr><th scope=row>1</th><td>0</td><td>0</td></tr>\n",
       "\t<tr><th scope=row>2</th><td>0</td><td>0</td></tr>\n",
       "\t<tr><th scope=row>3</th><td>0</td><td>0</td></tr>\n",
       "\t<tr><th scope=row>4</th><td>0</td><td>0</td></tr>\n",
       "\t<tr><th scope=row>5</th><td>0</td><td>0</td></tr>\n",
       "\t<tr><th scope=row>6</th><td>0</td><td>0</td></tr>\n",
       "</tbody>\n",
       "</table>\n"
      ],
      "text/latex": [
       "A data.frame: 6 × 2\n",
       "\\begin{tabular}{r|ll}\n",
       "  & BEL & Caulimoviridae\\\\\n",
       "  & <int> & <int>\\\\\n",
       "\\hline\n",
       "\t1 & 0 & 0\\\\\n",
       "\t2 & 0 & 0\\\\\n",
       "\t3 & 0 & 0\\\\\n",
       "\t4 & 0 & 0\\\\\n",
       "\t5 & 0 & 0\\\\\n",
       "\t6 & 0 & 0\\\\\n",
       "\\end{tabular}\n"
      ],
      "text/markdown": [
       "\n",
       "A data.frame: 6 × 2\n",
       "\n",
       "| <!--/--> | BEL &lt;int&gt; | Caulimoviridae &lt;int&gt; |\n",
       "|---|---|---|\n",
       "| 1 | 0 | 0 |\n",
       "| 2 | 0 | 0 |\n",
       "| 3 | 0 | 0 |\n",
       "| 4 | 0 | 0 |\n",
       "| 5 | 0 | 0 |\n",
       "| 6 | 0 | 0 |\n",
       "\n"
      ],
      "text/plain": [
       "  BEL Caulimoviridae\n",
       "1 0   0             \n",
       "2 0   0             \n",
       "3 0   0             \n",
       "4 0   0             \n",
       "5 0   0             \n",
       "6 0   0             "
      ]
     },
     "metadata": {},
     "output_type": "display_data"
    }
   ],
   "source": [
    "# Select specific columns\n",
    "head(df_sub[,c(3,5)])"
   ]
  },
  {
   "cell_type": "code",
   "execution_count": 38,
   "id": "46222d94-8fe1-4c9b-955c-3ce59ad206ed",
   "metadata": {},
   "outputs": [
    {
     "data": {
      "text/html": [
       "<table class=\"dataframe\">\n",
       "<caption>A data.frame: 6 × 2</caption>\n",
       "<thead>\n",
       "\t<tr><th></th><th scope=col>BEL</th><th scope=col>Copia</th></tr>\n",
       "\t<tr><th></th><th scope=col>&lt;int&gt;</th><th scope=col>&lt;int&gt;</th></tr>\n",
       "</thead>\n",
       "<tbody>\n",
       "\t<tr><th scope=row>1</th><td>0</td><td>0</td></tr>\n",
       "\t<tr><th scope=row>2</th><td>0</td><td>0</td></tr>\n",
       "\t<tr><th scope=row>3</th><td>0</td><td>0</td></tr>\n",
       "\t<tr><th scope=row>4</th><td>0</td><td>0</td></tr>\n",
       "\t<tr><th scope=row>5</th><td>0</td><td>0</td></tr>\n",
       "\t<tr><th scope=row>6</th><td>0</td><td>0</td></tr>\n",
       "</tbody>\n",
       "</table>\n"
      ],
      "text/latex": [
       "A data.frame: 6 × 2\n",
       "\\begin{tabular}{r|ll}\n",
       "  & BEL & Copia\\\\\n",
       "  & <int> & <int>\\\\\n",
       "\\hline\n",
       "\t1 & 0 & 0\\\\\n",
       "\t2 & 0 & 0\\\\\n",
       "\t3 & 0 & 0\\\\\n",
       "\t4 & 0 & 0\\\\\n",
       "\t5 & 0 & 0\\\\\n",
       "\t6 & 0 & 0\\\\\n",
       "\\end{tabular}\n"
      ],
      "text/markdown": [
       "\n",
       "A data.frame: 6 × 2\n",
       "\n",
       "| <!--/--> | BEL &lt;int&gt; | Copia &lt;int&gt; |\n",
       "|---|---|---|\n",
       "| 1 | 0 | 0 |\n",
       "| 2 | 0 | 0 |\n",
       "| 3 | 0 | 0 |\n",
       "| 4 | 0 | 0 |\n",
       "| 5 | 0 | 0 |\n",
       "| 6 | 0 | 0 |\n",
       "\n"
      ],
      "text/plain": [
       "  BEL Copia\n",
       "1 0   0    \n",
       "2 0   0    \n",
       "3 0   0    \n",
       "4 0   0    \n",
       "5 0   0    \n",
       "6 0   0    "
      ]
     },
     "metadata": {},
     "output_type": "display_data"
    }
   ],
   "source": [
    "# Select specific columns by name\n",
    "head(df_sub[,c('BEL','Copia')])"
   ]
  },
  {
   "cell_type": "code",
   "execution_count": 46,
   "id": "ccff49d3-a84b-457a-a0d1-9e9ff900da0b",
   "metadata": {},
   "outputs": [
    {
     "data": {
      "text/html": [
       "<table class=\"dataframe\">\n",
       "<caption>A data.frame: 6 × 57</caption>\n",
       "<thead>\n",
       "\t<tr><th></th><th scope=col>Div</th><th scope=col>Academ</th><th scope=col>BEL</th><th scope=col>CR1</th><th scope=col>Caulimoviridae</th><th scope=col>Copia</th><th scope=col>Crack</th><th scope=col>Crypton</th><th scope=col>DIRS</th><th scope=col>DNA</th><th scope=col>⋯</th><th scope=col>Transib</th><th scope=col>Transposable</th><th scope=col>Tx1</th><th scope=col>Vingi</th><th scope=col>Zisupton</th><th scope=col>hAT</th><th scope=col>piggyBac</th><th scope=col>rRNA</th><th scope=col>tRNA</th><th scope=col>X</th></tr>\n",
       "\t<tr><th></th><th scope=col>&lt;int&gt;</th><th scope=col>&lt;int&gt;</th><th scope=col>&lt;int&gt;</th><th scope=col>&lt;int&gt;</th><th scope=col>&lt;int&gt;</th><th scope=col>&lt;int&gt;</th><th scope=col>&lt;int&gt;</th><th scope=col>&lt;int&gt;</th><th scope=col>&lt;int&gt;</th><th scope=col>&lt;int&gt;</th><th scope=col>⋯</th><th scope=col>&lt;int&gt;</th><th scope=col>&lt;int&gt;</th><th scope=col>&lt;int&gt;</th><th scope=col>&lt;int&gt;</th><th scope=col>&lt;int&gt;</th><th scope=col>&lt;int&gt;</th><th scope=col>&lt;int&gt;</th><th scope=col>&lt;int&gt;</th><th scope=col>&lt;int&gt;</th><th scope=col>&lt;lgl&gt;</th></tr>\n",
       "</thead>\n",
       "<tbody>\n",
       "\t<tr><th scope=row>1</th><td>0</td><td>0</td><td>0</td><td> 0</td><td>0</td><td>0</td><td>0</td><td>0</td><td>0</td><td>0</td><td>⋯</td><td>0</td><td>0</td><td>0</td><td>0</td><td>0</td><td>  0</td><td>0</td><td>0</td><td> 0</td><td>NA</td></tr>\n",
       "\t<tr><th scope=row>2</th><td>1</td><td>0</td><td>0</td><td> 0</td><td>0</td><td>0</td><td>0</td><td>0</td><td>0</td><td>0</td><td>⋯</td><td>0</td><td>0</td><td>0</td><td>0</td><td>0</td><td>173</td><td>0</td><td>0</td><td>66</td><td>NA</td></tr>\n",
       "\t<tr><th scope=row>3</th><td>2</td><td>0</td><td>0</td><td> 0</td><td>0</td><td>0</td><td>0</td><td>0</td><td>0</td><td>0</td><td>⋯</td><td>0</td><td>0</td><td>0</td><td>0</td><td>0</td><td>  0</td><td>0</td><td>0</td><td> 0</td><td>NA</td></tr>\n",
       "\t<tr><th scope=row>4</th><td>3</td><td>0</td><td>0</td><td>66</td><td>0</td><td>0</td><td>0</td><td>0</td><td>0</td><td>0</td><td>⋯</td><td>0</td><td>0</td><td>0</td><td>0</td><td>0</td><td>  0</td><td>0</td><td>0</td><td> 0</td><td>NA</td></tr>\n",
       "\t<tr><th scope=row>5</th><td>4</td><td>0</td><td>0</td><td> 0</td><td>0</td><td>0</td><td>0</td><td>0</td><td>0</td><td>0</td><td>⋯</td><td>0</td><td>0</td><td>0</td><td>0</td><td>0</td><td>  0</td><td>0</td><td>0</td><td> 0</td><td>NA</td></tr>\n",
       "\t<tr><th scope=row>6</th><td>5</td><td>0</td><td>0</td><td> 0</td><td>0</td><td>0</td><td>0</td><td>0</td><td>0</td><td>0</td><td>⋯</td><td>0</td><td>0</td><td>0</td><td>0</td><td>0</td><td> 40</td><td>0</td><td>0</td><td> 0</td><td>NA</td></tr>\n",
       "</tbody>\n",
       "</table>\n"
      ],
      "text/latex": [
       "A data.frame: 6 × 57\n",
       "\\begin{tabular}{r|lllllllllllllllllllll}\n",
       "  & Div & Academ & BEL & CR1 & Caulimoviridae & Copia & Crack & Crypton & DIRS & DNA & ⋯ & Transib & Transposable & Tx1 & Vingi & Zisupton & hAT & piggyBac & rRNA & tRNA & X\\\\\n",
       "  & <int> & <int> & <int> & <int> & <int> & <int> & <int> & <int> & <int> & <int> & ⋯ & <int> & <int> & <int> & <int> & <int> & <int> & <int> & <int> & <int> & <lgl>\\\\\n",
       "\\hline\n",
       "\t1 & 0 & 0 & 0 &  0 & 0 & 0 & 0 & 0 & 0 & 0 & ⋯ & 0 & 0 & 0 & 0 & 0 &   0 & 0 & 0 &  0 & NA\\\\\n",
       "\t2 & 1 & 0 & 0 &  0 & 0 & 0 & 0 & 0 & 0 & 0 & ⋯ & 0 & 0 & 0 & 0 & 0 & 173 & 0 & 0 & 66 & NA\\\\\n",
       "\t3 & 2 & 0 & 0 &  0 & 0 & 0 & 0 & 0 & 0 & 0 & ⋯ & 0 & 0 & 0 & 0 & 0 &   0 & 0 & 0 &  0 & NA\\\\\n",
       "\t4 & 3 & 0 & 0 & 66 & 0 & 0 & 0 & 0 & 0 & 0 & ⋯ & 0 & 0 & 0 & 0 & 0 &   0 & 0 & 0 &  0 & NA\\\\\n",
       "\t5 & 4 & 0 & 0 &  0 & 0 & 0 & 0 & 0 & 0 & 0 & ⋯ & 0 & 0 & 0 & 0 & 0 &   0 & 0 & 0 &  0 & NA\\\\\n",
       "\t6 & 5 & 0 & 0 &  0 & 0 & 0 & 0 & 0 & 0 & 0 & ⋯ & 0 & 0 & 0 & 0 & 0 &  40 & 0 & 0 &  0 & NA\\\\\n",
       "\\end{tabular}\n"
      ],
      "text/markdown": [
       "\n",
       "A data.frame: 6 × 57\n",
       "\n",
       "| <!--/--> | Div &lt;int&gt; | Academ &lt;int&gt; | BEL &lt;int&gt; | CR1 &lt;int&gt; | Caulimoviridae &lt;int&gt; | Copia &lt;int&gt; | Crack &lt;int&gt; | Crypton &lt;int&gt; | DIRS &lt;int&gt; | DNA &lt;int&gt; | ⋯ ⋯ | Transib &lt;int&gt; | Transposable &lt;int&gt; | Tx1 &lt;int&gt; | Vingi &lt;int&gt; | Zisupton &lt;int&gt; | hAT &lt;int&gt; | piggyBac &lt;int&gt; | rRNA &lt;int&gt; | tRNA &lt;int&gt; | X &lt;lgl&gt; |\n",
       "|---|---|---|---|---|---|---|---|---|---|---|---|---|---|---|---|---|---|---|---|---|---|\n",
       "| 1 | 0 | 0 | 0 |  0 | 0 | 0 | 0 | 0 | 0 | 0 | ⋯ | 0 | 0 | 0 | 0 | 0 |   0 | 0 | 0 |  0 | NA |\n",
       "| 2 | 1 | 0 | 0 |  0 | 0 | 0 | 0 | 0 | 0 | 0 | ⋯ | 0 | 0 | 0 | 0 | 0 | 173 | 0 | 0 | 66 | NA |\n",
       "| 3 | 2 | 0 | 0 |  0 | 0 | 0 | 0 | 0 | 0 | 0 | ⋯ | 0 | 0 | 0 | 0 | 0 |   0 | 0 | 0 |  0 | NA |\n",
       "| 4 | 3 | 0 | 0 | 66 | 0 | 0 | 0 | 0 | 0 | 0 | ⋯ | 0 | 0 | 0 | 0 | 0 |   0 | 0 | 0 |  0 | NA |\n",
       "| 5 | 4 | 0 | 0 |  0 | 0 | 0 | 0 | 0 | 0 | 0 | ⋯ | 0 | 0 | 0 | 0 | 0 |   0 | 0 | 0 |  0 | NA |\n",
       "| 6 | 5 | 0 | 0 |  0 | 0 | 0 | 0 | 0 | 0 | 0 | ⋯ | 0 | 0 | 0 | 0 | 0 |  40 | 0 | 0 |  0 | NA |\n",
       "\n"
      ],
      "text/plain": [
       "  Div Academ BEL CR1 Caulimoviridae Copia Crack Crypton DIRS DNA ⋯ Transib\n",
       "1 0   0      0    0  0              0     0     0       0    0   ⋯ 0      \n",
       "2 1   0      0    0  0              0     0     0       0    0   ⋯ 0      \n",
       "3 2   0      0    0  0              0     0     0       0    0   ⋯ 0      \n",
       "4 3   0      0   66  0              0     0     0       0    0   ⋯ 0      \n",
       "5 4   0      0    0  0              0     0     0       0    0   ⋯ 0      \n",
       "6 5   0      0    0  0              0     0     0       0    0   ⋯ 0      \n",
       "  Transposable Tx1 Vingi Zisupton hAT piggyBac rRNA tRNA X \n",
       "1 0            0   0     0          0 0        0     0   NA\n",
       "2 0            0   0     0        173 0        0    66   NA\n",
       "3 0            0   0     0          0 0        0     0   NA\n",
       "4 0            0   0     0          0 0        0     0   NA\n",
       "5 0            0   0     0          0 0        0     0   NA\n",
       "6 0            0   0     0         40 0        0     0   NA"
      ]
     },
     "metadata": {},
     "output_type": "display_data"
    }
   ],
   "source": [
    "# Create dataframe copy\n",
    "df02 <- data.frame(df) # can also use df02 <- cbind(df)\n",
    "head(df02)"
   ]
  },
  {
   "cell_type": "code",
   "execution_count": 63,
   "id": "7da98b2b-f882-4078-9c0e-19c89faaee24",
   "metadata": {},
   "outputs": [
    {
     "data": {
      "text/html": [
       "<table class=\"dataframe\">\n",
       "<caption>A data.frame: 6 × 54</caption>\n",
       "<thead>\n",
       "\t<tr><th></th><th scope=col>Div</th><th scope=col>Academ</th><th scope=col>BEL</th><th scope=col>CR1</th><th scope=col>Caulimoviridae</th><th scope=col>Copia</th><th scope=col>Crack</th><th scope=col>Crypton</th><th scope=col>DIRS</th><th scope=col>DNA</th><th scope=col>⋯</th><th scope=col>Sola1</th><th scope=col>Sola3</th><th scope=col>TLH.1B_CCri</th><th scope=col>Transib</th><th scope=col>Tx1</th><th scope=col>Vingi</th><th scope=col>Zisupton</th><th scope=col>hAT</th><th scope=col>piggyBac</th><th scope=col>totais</th></tr>\n",
       "\t<tr><th></th><th scope=col>&lt;int&gt;</th><th scope=col>&lt;int&gt;</th><th scope=col>&lt;int&gt;</th><th scope=col>&lt;int&gt;</th><th scope=col>&lt;int&gt;</th><th scope=col>&lt;int&gt;</th><th scope=col>&lt;int&gt;</th><th scope=col>&lt;int&gt;</th><th scope=col>&lt;int&gt;</th><th scope=col>&lt;int&gt;</th><th scope=col>⋯</th><th scope=col>&lt;int&gt;</th><th scope=col>&lt;int&gt;</th><th scope=col>&lt;int&gt;</th><th scope=col>&lt;int&gt;</th><th scope=col>&lt;int&gt;</th><th scope=col>&lt;int&gt;</th><th scope=col>&lt;int&gt;</th><th scope=col>&lt;int&gt;</th><th scope=col>&lt;int&gt;</th><th scope=col>&lt;dbl&gt;</th></tr>\n",
       "</thead>\n",
       "<tbody>\n",
       "\t<tr><th scope=row>1</th><td>0</td><td>0</td><td>0</td><td> 0</td><td>0</td><td>0</td><td>0</td><td>0</td><td>0</td><td>0</td><td>⋯</td><td>0</td><td>0</td><td>0</td><td>0</td><td>0</td><td>0</td><td>0</td><td>  0</td><td>0</td><td>  0</td></tr>\n",
       "\t<tr><th scope=row>2</th><td>1</td><td>0</td><td>0</td><td> 0</td><td>0</td><td>0</td><td>0</td><td>0</td><td>0</td><td>0</td><td>⋯</td><td>0</td><td>0</td><td>0</td><td>0</td><td>0</td><td>0</td><td>0</td><td>173</td><td>0</td><td>174</td></tr>\n",
       "\t<tr><th scope=row>3</th><td>2</td><td>0</td><td>0</td><td> 0</td><td>0</td><td>0</td><td>0</td><td>0</td><td>0</td><td>0</td><td>⋯</td><td>0</td><td>0</td><td>0</td><td>0</td><td>0</td><td>0</td><td>0</td><td>  0</td><td>0</td><td>  2</td></tr>\n",
       "\t<tr><th scope=row>4</th><td>3</td><td>0</td><td>0</td><td>66</td><td>0</td><td>0</td><td>0</td><td>0</td><td>0</td><td>0</td><td>⋯</td><td>0</td><td>0</td><td>0</td><td>0</td><td>0</td><td>0</td><td>0</td><td>  0</td><td>0</td><td>223</td></tr>\n",
       "\t<tr><th scope=row>5</th><td>4</td><td>0</td><td>0</td><td> 0</td><td>0</td><td>0</td><td>0</td><td>0</td><td>0</td><td>0</td><td>⋯</td><td>0</td><td>0</td><td>0</td><td>0</td><td>0</td><td>0</td><td>0</td><td>  0</td><td>0</td><td> 30</td></tr>\n",
       "\t<tr><th scope=row>6</th><td>5</td><td>0</td><td>0</td><td> 0</td><td>0</td><td>0</td><td>0</td><td>0</td><td>0</td><td>0</td><td>⋯</td><td>0</td><td>0</td><td>0</td><td>0</td><td>0</td><td>0</td><td>0</td><td> 40</td><td>0</td><td> 45</td></tr>\n",
       "</tbody>\n",
       "</table>\n"
      ],
      "text/latex": [
       "A data.frame: 6 × 54\n",
       "\\begin{tabular}{r|lllllllllllllllllllll}\n",
       "  & Div & Academ & BEL & CR1 & Caulimoviridae & Copia & Crack & Crypton & DIRS & DNA & ⋯ & Sola1 & Sola3 & TLH.1B\\_CCri & Transib & Tx1 & Vingi & Zisupton & hAT & piggyBac & totais\\\\\n",
       "  & <int> & <int> & <int> & <int> & <int> & <int> & <int> & <int> & <int> & <int> & ⋯ & <int> & <int> & <int> & <int> & <int> & <int> & <int> & <int> & <int> & <dbl>\\\\\n",
       "\\hline\n",
       "\t1 & 0 & 0 & 0 &  0 & 0 & 0 & 0 & 0 & 0 & 0 & ⋯ & 0 & 0 & 0 & 0 & 0 & 0 & 0 &   0 & 0 &   0\\\\\n",
       "\t2 & 1 & 0 & 0 &  0 & 0 & 0 & 0 & 0 & 0 & 0 & ⋯ & 0 & 0 & 0 & 0 & 0 & 0 & 0 & 173 & 0 & 174\\\\\n",
       "\t3 & 2 & 0 & 0 &  0 & 0 & 0 & 0 & 0 & 0 & 0 & ⋯ & 0 & 0 & 0 & 0 & 0 & 0 & 0 &   0 & 0 &   2\\\\\n",
       "\t4 & 3 & 0 & 0 & 66 & 0 & 0 & 0 & 0 & 0 & 0 & ⋯ & 0 & 0 & 0 & 0 & 0 & 0 & 0 &   0 & 0 & 223\\\\\n",
       "\t5 & 4 & 0 & 0 &  0 & 0 & 0 & 0 & 0 & 0 & 0 & ⋯ & 0 & 0 & 0 & 0 & 0 & 0 & 0 &   0 & 0 &  30\\\\\n",
       "\t6 & 5 & 0 & 0 &  0 & 0 & 0 & 0 & 0 & 0 & 0 & ⋯ & 0 & 0 & 0 & 0 & 0 & 0 & 0 &  40 & 0 &  45\\\\\n",
       "\\end{tabular}\n"
      ],
      "text/markdown": [
       "\n",
       "A data.frame: 6 × 54\n",
       "\n",
       "| <!--/--> | Div &lt;int&gt; | Academ &lt;int&gt; | BEL &lt;int&gt; | CR1 &lt;int&gt; | Caulimoviridae &lt;int&gt; | Copia &lt;int&gt; | Crack &lt;int&gt; | Crypton &lt;int&gt; | DIRS &lt;int&gt; | DNA &lt;int&gt; | ⋯ ⋯ | Sola1 &lt;int&gt; | Sola3 &lt;int&gt; | TLH.1B_CCri &lt;int&gt; | Transib &lt;int&gt; | Tx1 &lt;int&gt; | Vingi &lt;int&gt; | Zisupton &lt;int&gt; | hAT &lt;int&gt; | piggyBac &lt;int&gt; | totais &lt;dbl&gt; |\n",
       "|---|---|---|---|---|---|---|---|---|---|---|---|---|---|---|---|---|---|---|---|---|---|\n",
       "| 1 | 0 | 0 | 0 |  0 | 0 | 0 | 0 | 0 | 0 | 0 | ⋯ | 0 | 0 | 0 | 0 | 0 | 0 | 0 |   0 | 0 |   0 |\n",
       "| 2 | 1 | 0 | 0 |  0 | 0 | 0 | 0 | 0 | 0 | 0 | ⋯ | 0 | 0 | 0 | 0 | 0 | 0 | 0 | 173 | 0 | 174 |\n",
       "| 3 | 2 | 0 | 0 |  0 | 0 | 0 | 0 | 0 | 0 | 0 | ⋯ | 0 | 0 | 0 | 0 | 0 | 0 | 0 |   0 | 0 |   2 |\n",
       "| 4 | 3 | 0 | 0 | 66 | 0 | 0 | 0 | 0 | 0 | 0 | ⋯ | 0 | 0 | 0 | 0 | 0 | 0 | 0 |   0 | 0 | 223 |\n",
       "| 5 | 4 | 0 | 0 |  0 | 0 | 0 | 0 | 0 | 0 | 0 | ⋯ | 0 | 0 | 0 | 0 | 0 | 0 | 0 |   0 | 0 |  30 |\n",
       "| 6 | 5 | 0 | 0 |  0 | 0 | 0 | 0 | 0 | 0 | 0 | ⋯ | 0 | 0 | 0 | 0 | 0 | 0 | 0 |  40 | 0 |  45 |\n",
       "\n"
      ],
      "text/plain": [
       "  Div Academ BEL CR1 Caulimoviridae Copia Crack Crypton DIRS DNA ⋯ Sola1 Sola3\n",
       "1 0   0      0    0  0              0     0     0       0    0   ⋯ 0     0    \n",
       "2 1   0      0    0  0              0     0     0       0    0   ⋯ 0     0    \n",
       "3 2   0      0    0  0              0     0     0       0    0   ⋯ 0     0    \n",
       "4 3   0      0   66  0              0     0     0       0    0   ⋯ 0     0    \n",
       "5 4   0      0    0  0              0     0     0       0    0   ⋯ 0     0    \n",
       "6 5   0      0    0  0              0     0     0       0    0   ⋯ 0     0    \n",
       "  TLH.1B_CCri Transib Tx1 Vingi Zisupton hAT piggyBac totais\n",
       "1 0           0       0   0     0          0 0          0   \n",
       "2 0           0       0   0     0        173 0        174   \n",
       "3 0           0       0   0     0          0 0          2   \n",
       "4 0           0       0   0     0          0 0        223   \n",
       "5 0           0       0   0     0          0 0         30   \n",
       "6 0           0       0   0     0         40 0         45   "
      ]
     },
     "metadata": {},
     "output_type": "display_data"
    }
   ],
   "source": [
    "# Create column with sum of all values\n",
    "df_sub02 = cbind(df_sub)\n",
    "df_sub02[,'totais']=rowSums(df_sub02)\n",
    "head(df_sub02)"
   ]
  },
  {
   "cell_type": "code",
   "execution_count": 70,
   "id": "5bfccc0c-2707-45b4-bff8-b2023b41d0fa",
   "metadata": {},
   "outputs": [
    {
     "data": {
      "text/html": [
       "<table class=\"dataframe\">\n",
       "<caption>A data.frame: 6 × 54</caption>\n",
       "<thead>\n",
       "\t<tr><th></th><th scope=col>Div</th><th scope=col>Academ</th><th scope=col>BEL</th><th scope=col>CR1</th><th scope=col>Caulimoviridae</th><th scope=col>Copia</th><th scope=col>Crack</th><th scope=col>Crypton</th><th scope=col>DIRS</th><th scope=col>DNA</th><th scope=col>⋯</th><th scope=col>Sola1</th><th scope=col>Sola3</th><th scope=col>TLH.1B_CCri</th><th scope=col>Transib</th><th scope=col>Tx1</th><th scope=col>Vingi</th><th scope=col>Zisupton</th><th scope=col>hAT</th><th scope=col>piggyBac</th><th scope=col>totais</th></tr>\n",
       "\t<tr><th></th><th scope=col>&lt;int&gt;</th><th scope=col>&lt;int&gt;</th><th scope=col>&lt;int&gt;</th><th scope=col>&lt;int&gt;</th><th scope=col>&lt;int&gt;</th><th scope=col>&lt;int&gt;</th><th scope=col>&lt;int&gt;</th><th scope=col>&lt;int&gt;</th><th scope=col>&lt;int&gt;</th><th scope=col>&lt;int&gt;</th><th scope=col>⋯</th><th scope=col>&lt;int&gt;</th><th scope=col>&lt;int&gt;</th><th scope=col>&lt;int&gt;</th><th scope=col>&lt;int&gt;</th><th scope=col>&lt;int&gt;</th><th scope=col>&lt;int&gt;</th><th scope=col>&lt;int&gt;</th><th scope=col>&lt;int&gt;</th><th scope=col>&lt;int&gt;</th><th scope=col>&lt;dbl&gt;</th></tr>\n",
       "</thead>\n",
       "<tbody>\n",
       "\t<tr><th scope=row>1</th><td>0</td><td>0</td><td>0</td><td> 0</td><td>0</td><td>0</td><td>0</td><td>0</td><td>0</td><td>0</td><td>⋯</td><td>0</td><td>0</td><td>0</td><td>0</td><td>0</td><td>0</td><td>0</td><td>  0</td><td>0</td><td>  0</td></tr>\n",
       "\t<tr><th scope=row>2</th><td>1</td><td>0</td><td>0</td><td> 0</td><td>0</td><td>0</td><td>0</td><td>0</td><td>0</td><td>0</td><td>⋯</td><td>0</td><td>0</td><td>0</td><td>0</td><td>0</td><td>0</td><td>0</td><td>173</td><td>0</td><td>174</td></tr>\n",
       "\t<tr><th scope=row>3</th><td>2</td><td>0</td><td>0</td><td> 0</td><td>0</td><td>0</td><td>0</td><td>0</td><td>0</td><td>0</td><td>⋯</td><td>0</td><td>0</td><td>0</td><td>0</td><td>0</td><td>0</td><td>0</td><td>  0</td><td>0</td><td>  2</td></tr>\n",
       "\t<tr><th scope=row>4</th><td>3</td><td>0</td><td>0</td><td>66</td><td>0</td><td>0</td><td>0</td><td>0</td><td>0</td><td>0</td><td>⋯</td><td>0</td><td>0</td><td>0</td><td>0</td><td>0</td><td>0</td><td>0</td><td>  0</td><td>0</td><td>223</td></tr>\n",
       "\t<tr><th scope=row>5</th><td>4</td><td>0</td><td>0</td><td> 0</td><td>0</td><td>0</td><td>0</td><td>0</td><td>0</td><td>0</td><td>⋯</td><td>0</td><td>0</td><td>0</td><td>0</td><td>0</td><td>0</td><td>0</td><td>  0</td><td>0</td><td> 30</td></tr>\n",
       "\t<tr><th scope=row>6</th><td>5</td><td>0</td><td>0</td><td> 0</td><td>0</td><td>0</td><td>0</td><td>0</td><td>0</td><td>0</td><td>⋯</td><td>0</td><td>0</td><td>0</td><td>0</td><td>0</td><td>0</td><td>0</td><td> 40</td><td>0</td><td> 45</td></tr>\n",
       "</tbody>\n",
       "</table>\n"
      ],
      "text/latex": [
       "A data.frame: 6 × 54\n",
       "\\begin{tabular}{r|lllllllllllllllllllll}\n",
       "  & Div & Academ & BEL & CR1 & Caulimoviridae & Copia & Crack & Crypton & DIRS & DNA & ⋯ & Sola1 & Sola3 & TLH.1B\\_CCri & Transib & Tx1 & Vingi & Zisupton & hAT & piggyBac & totais\\\\\n",
       "  & <int> & <int> & <int> & <int> & <int> & <int> & <int> & <int> & <int> & <int> & ⋯ & <int> & <int> & <int> & <int> & <int> & <int> & <int> & <int> & <int> & <dbl>\\\\\n",
       "\\hline\n",
       "\t1 & 0 & 0 & 0 &  0 & 0 & 0 & 0 & 0 & 0 & 0 & ⋯ & 0 & 0 & 0 & 0 & 0 & 0 & 0 &   0 & 0 &   0\\\\\n",
       "\t2 & 1 & 0 & 0 &  0 & 0 & 0 & 0 & 0 & 0 & 0 & ⋯ & 0 & 0 & 0 & 0 & 0 & 0 & 0 & 173 & 0 & 174\\\\\n",
       "\t3 & 2 & 0 & 0 &  0 & 0 & 0 & 0 & 0 & 0 & 0 & ⋯ & 0 & 0 & 0 & 0 & 0 & 0 & 0 &   0 & 0 &   2\\\\\n",
       "\t4 & 3 & 0 & 0 & 66 & 0 & 0 & 0 & 0 & 0 & 0 & ⋯ & 0 & 0 & 0 & 0 & 0 & 0 & 0 &   0 & 0 & 223\\\\\n",
       "\t5 & 4 & 0 & 0 &  0 & 0 & 0 & 0 & 0 & 0 & 0 & ⋯ & 0 & 0 & 0 & 0 & 0 & 0 & 0 &   0 & 0 &  30\\\\\n",
       "\t6 & 5 & 0 & 0 &  0 & 0 & 0 & 0 & 0 & 0 & 0 & ⋯ & 0 & 0 & 0 & 0 & 0 & 0 & 0 &  40 & 0 &  45\\\\\n",
       "\\end{tabular}\n"
      ],
      "text/markdown": [
       "\n",
       "A data.frame: 6 × 54\n",
       "\n",
       "| <!--/--> | Div &lt;int&gt; | Academ &lt;int&gt; | BEL &lt;int&gt; | CR1 &lt;int&gt; | Caulimoviridae &lt;int&gt; | Copia &lt;int&gt; | Crack &lt;int&gt; | Crypton &lt;int&gt; | DIRS &lt;int&gt; | DNA &lt;int&gt; | ⋯ ⋯ | Sola1 &lt;int&gt; | Sola3 &lt;int&gt; | TLH.1B_CCri &lt;int&gt; | Transib &lt;int&gt; | Tx1 &lt;int&gt; | Vingi &lt;int&gt; | Zisupton &lt;int&gt; | hAT &lt;int&gt; | piggyBac &lt;int&gt; | totais &lt;dbl&gt; |\n",
       "|---|---|---|---|---|---|---|---|---|---|---|---|---|---|---|---|---|---|---|---|---|---|\n",
       "| 1 | 0 | 0 | 0 |  0 | 0 | 0 | 0 | 0 | 0 | 0 | ⋯ | 0 | 0 | 0 | 0 | 0 | 0 | 0 |   0 | 0 |   0 |\n",
       "| 2 | 1 | 0 | 0 |  0 | 0 | 0 | 0 | 0 | 0 | 0 | ⋯ | 0 | 0 | 0 | 0 | 0 | 0 | 0 | 173 | 0 | 174 |\n",
       "| 3 | 2 | 0 | 0 |  0 | 0 | 0 | 0 | 0 | 0 | 0 | ⋯ | 0 | 0 | 0 | 0 | 0 | 0 | 0 |   0 | 0 |   2 |\n",
       "| 4 | 3 | 0 | 0 | 66 | 0 | 0 | 0 | 0 | 0 | 0 | ⋯ | 0 | 0 | 0 | 0 | 0 | 0 | 0 |   0 | 0 | 223 |\n",
       "| 5 | 4 | 0 | 0 |  0 | 0 | 0 | 0 | 0 | 0 | 0 | ⋯ | 0 | 0 | 0 | 0 | 0 | 0 | 0 |   0 | 0 |  30 |\n",
       "| 6 | 5 | 0 | 0 |  0 | 0 | 0 | 0 | 0 | 0 | 0 | ⋯ | 0 | 0 | 0 | 0 | 0 | 0 | 0 |  40 | 0 |  45 |\n",
       "\n"
      ],
      "text/plain": [
       "  Div Academ BEL CR1 Caulimoviridae Copia Crack Crypton DIRS DNA ⋯ Sola1 Sola3\n",
       "1 0   0      0    0  0              0     0     0       0    0   ⋯ 0     0    \n",
       "2 1   0      0    0  0              0     0     0       0    0   ⋯ 0     0    \n",
       "3 2   0      0    0  0              0     0     0       0    0   ⋯ 0     0    \n",
       "4 3   0      0   66  0              0     0     0       0    0   ⋯ 0     0    \n",
       "5 4   0      0    0  0              0     0     0       0    0   ⋯ 0     0    \n",
       "6 5   0      0    0  0              0     0     0       0    0   ⋯ 0     0    \n",
       "  TLH.1B_CCri Transib Tx1 Vingi Zisupton hAT piggyBac totais\n",
       "1 0           0       0   0     0          0 0          0   \n",
       "2 0           0       0   0     0        173 0        174   \n",
       "3 0           0       0   0     0          0 0          2   \n",
       "4 0           0       0   0     0          0 0        223   \n",
       "5 0           0       0   0     0          0 0         30   \n",
       "6 0           0       0   0     0         40 0         45   "
      ]
     },
     "metadata": {},
     "output_type": "display_data"
    }
   ],
   "source": [
    "# or Create column with sum of all values\n",
    "df_sub03 = cbind(df_sub)\n",
    "df_sub03$totais=rowSums(df_sub03)\n",
    "head(df_sub03)"
   ]
  },
  {
   "cell_type": "code",
   "execution_count": 75,
   "id": "679fe554-f6f1-470e-b90e-1e56ebee2b2b",
   "metadata": {},
   "outputs": [
    {
     "data": {
      "text/html": [
       "<table class=\"dataframe\">\n",
       "<caption>A data.frame: 6 × 54</caption>\n",
       "<thead>\n",
       "\t<tr><th></th><th scope=col>Div</th><th scope=col>Academ</th><th scope=col>BEL</th><th scope=col>CR1</th><th scope=col>Caulimoviridae</th><th scope=col>Copia</th><th scope=col>Crack</th><th scope=col>Crypton</th><th scope=col>DIRS</th><th scope=col>DNA</th><th scope=col>⋯</th><th scope=col>Sola1</th><th scope=col>Sola3</th><th scope=col>TLH.1B_CCri</th><th scope=col>Transib</th><th scope=col>Tx1</th><th scope=col>Vingi</th><th scope=col>Zisupton</th><th scope=col>hAT</th><th scope=col>piggyBac</th><th scope=col>totais</th></tr>\n",
       "\t<tr><th></th><th scope=col>&lt;dbl&gt;</th><th scope=col>&lt;dbl&gt;</th><th scope=col>&lt;dbl&gt;</th><th scope=col>&lt;dbl&gt;</th><th scope=col>&lt;dbl&gt;</th><th scope=col>&lt;dbl&gt;</th><th scope=col>&lt;dbl&gt;</th><th scope=col>&lt;dbl&gt;</th><th scope=col>&lt;dbl&gt;</th><th scope=col>&lt;dbl&gt;</th><th scope=col>⋯</th><th scope=col>&lt;dbl&gt;</th><th scope=col>&lt;dbl&gt;</th><th scope=col>&lt;dbl&gt;</th><th scope=col>&lt;dbl&gt;</th><th scope=col>&lt;dbl&gt;</th><th scope=col>&lt;dbl&gt;</th><th scope=col>&lt;dbl&gt;</th><th scope=col>&lt;dbl&gt;</th><th scope=col>&lt;dbl&gt;</th><th scope=col>&lt;dbl&gt;</th></tr>\n",
       "</thead>\n",
       "<tbody>\n",
       "\t<tr><th scope=row>68</th><td>  67</td><td> 0</td><td>   0</td><td>    0</td><td>  0</td><td>   0</td><td>  0</td><td>  0</td><td>  0</td><td>   0</td><td>⋯</td><td> 0</td><td> 0</td><td> 0</td><td>  0</td><td>  0</td><td> 0</td><td>  0</td><td>   0</td><td>  0</td><td>    67</td></tr>\n",
       "\t<tr><th scope=row>69</th><td>  68</td><td> 0</td><td>   0</td><td>    0</td><td>  0</td><td>   0</td><td>  0</td><td>  0</td><td>  0</td><td>   0</td><td>⋯</td><td> 0</td><td> 0</td><td> 0</td><td>  0</td><td>  0</td><td> 0</td><td>  0</td><td>   0</td><td>  0</td><td>    68</td></tr>\n",
       "\t<tr><th scope=row>70</th><td>  69</td><td> 0</td><td>   0</td><td>    0</td><td>  0</td><td>   0</td><td>  0</td><td>  0</td><td>  0</td><td>   0</td><td>⋯</td><td> 0</td><td> 0</td><td> 0</td><td>  0</td><td>  0</td><td> 0</td><td>  0</td><td>   0</td><td>  0</td><td>    69</td></tr>\n",
       "\t<tr><th scope=row>71</th><td>  70</td><td> 0</td><td>   0</td><td>    0</td><td>  0</td><td>   0</td><td>  0</td><td>  0</td><td>  0</td><td>   0</td><td>⋯</td><td> 0</td><td> 0</td><td> 0</td><td>  0</td><td>  0</td><td> 0</td><td>  0</td><td>   0</td><td>  0</td><td>    70</td></tr>\n",
       "\t<tr><th scope=row>72</th><td>2485</td><td>42</td><td>3985</td><td> 8051</td><td> 66</td><td>2212</td><td>205</td><td>206</td><td>180</td><td>1317</td><td>⋯</td><td>42</td><td>17</td><td>44</td><td>153</td><td>439</td><td>31</td><td>118</td><td>4499</td><td>295</td><td> 87177</td></tr>\n",
       "\t<tr><th scope=row>totais</th><td>4970</td><td>84</td><td>7970</td><td>16102</td><td>132</td><td>4424</td><td>410</td><td>412</td><td>360</td><td>2634</td><td>⋯</td><td>84</td><td>34</td><td>88</td><td>306</td><td>878</td><td>62</td><td>236</td><td>8998</td><td>590</td><td>174354</td></tr>\n",
       "</tbody>\n",
       "</table>\n"
      ],
      "text/latex": [
       "A data.frame: 6 × 54\n",
       "\\begin{tabular}{r|lllllllllllllllllllll}\n",
       "  & Div & Academ & BEL & CR1 & Caulimoviridae & Copia & Crack & Crypton & DIRS & DNA & ⋯ & Sola1 & Sola3 & TLH.1B\\_CCri & Transib & Tx1 & Vingi & Zisupton & hAT & piggyBac & totais\\\\\n",
       "  & <dbl> & <dbl> & <dbl> & <dbl> & <dbl> & <dbl> & <dbl> & <dbl> & <dbl> & <dbl> & ⋯ & <dbl> & <dbl> & <dbl> & <dbl> & <dbl> & <dbl> & <dbl> & <dbl> & <dbl> & <dbl>\\\\\n",
       "\\hline\n",
       "\t68 &   67 &  0 &    0 &     0 &   0 &    0 &   0 &   0 &   0 &    0 & ⋯ &  0 &  0 &  0 &   0 &   0 &  0 &   0 &    0 &   0 &     67\\\\\n",
       "\t69 &   68 &  0 &    0 &     0 &   0 &    0 &   0 &   0 &   0 &    0 & ⋯ &  0 &  0 &  0 &   0 &   0 &  0 &   0 &    0 &   0 &     68\\\\\n",
       "\t70 &   69 &  0 &    0 &     0 &   0 &    0 &   0 &   0 &   0 &    0 & ⋯ &  0 &  0 &  0 &   0 &   0 &  0 &   0 &    0 &   0 &     69\\\\\n",
       "\t71 &   70 &  0 &    0 &     0 &   0 &    0 &   0 &   0 &   0 &    0 & ⋯ &  0 &  0 &  0 &   0 &   0 &  0 &   0 &    0 &   0 &     70\\\\\n",
       "\t72 & 2485 & 42 & 3985 &  8051 &  66 & 2212 & 205 & 206 & 180 & 1317 & ⋯ & 42 & 17 & 44 & 153 & 439 & 31 & 118 & 4499 & 295 &  87177\\\\\n",
       "\ttotais & 4970 & 84 & 7970 & 16102 & 132 & 4424 & 410 & 412 & 360 & 2634 & ⋯ & 84 & 34 & 88 & 306 & 878 & 62 & 236 & 8998 & 590 & 174354\\\\\n",
       "\\end{tabular}\n"
      ],
      "text/markdown": [
       "\n",
       "A data.frame: 6 × 54\n",
       "\n",
       "| <!--/--> | Div &lt;dbl&gt; | Academ &lt;dbl&gt; | BEL &lt;dbl&gt; | CR1 &lt;dbl&gt; | Caulimoviridae &lt;dbl&gt; | Copia &lt;dbl&gt; | Crack &lt;dbl&gt; | Crypton &lt;dbl&gt; | DIRS &lt;dbl&gt; | DNA &lt;dbl&gt; | ⋯ ⋯ | Sola1 &lt;dbl&gt; | Sola3 &lt;dbl&gt; | TLH.1B_CCri &lt;dbl&gt; | Transib &lt;dbl&gt; | Tx1 &lt;dbl&gt; | Vingi &lt;dbl&gt; | Zisupton &lt;dbl&gt; | hAT &lt;dbl&gt; | piggyBac &lt;dbl&gt; | totais &lt;dbl&gt; |\n",
       "|---|---|---|---|---|---|---|---|---|---|---|---|---|---|---|---|---|---|---|---|---|---|\n",
       "| 68 |   67 |  0 |    0 |     0 |   0 |    0 |   0 |   0 |   0 |    0 | ⋯ |  0 |  0 |  0 |   0 |   0 |  0 |   0 |    0 |   0 |     67 |\n",
       "| 69 |   68 |  0 |    0 |     0 |   0 |    0 |   0 |   0 |   0 |    0 | ⋯ |  0 |  0 |  0 |   0 |   0 |  0 |   0 |    0 |   0 |     68 |\n",
       "| 70 |   69 |  0 |    0 |     0 |   0 |    0 |   0 |   0 |   0 |    0 | ⋯ |  0 |  0 |  0 |   0 |   0 |  0 |   0 |    0 |   0 |     69 |\n",
       "| 71 |   70 |  0 |    0 |     0 |   0 |    0 |   0 |   0 |   0 |    0 | ⋯ |  0 |  0 |  0 |   0 |   0 |  0 |   0 |    0 |   0 |     70 |\n",
       "| 72 | 2485 | 42 | 3985 |  8051 |  66 | 2212 | 205 | 206 | 180 | 1317 | ⋯ | 42 | 17 | 44 | 153 | 439 | 31 | 118 | 4499 | 295 |  87177 |\n",
       "| totais | 4970 | 84 | 7970 | 16102 | 132 | 4424 | 410 | 412 | 360 | 2634 | ⋯ | 84 | 34 | 88 | 306 | 878 | 62 | 236 | 8998 | 590 | 174354 |\n",
       "\n"
      ],
      "text/plain": [
       "       Div  Academ BEL  CR1   Caulimoviridae Copia Crack Crypton DIRS DNA  ⋯\n",
       "68       67  0        0     0   0               0    0     0       0     0 ⋯\n",
       "69       68  0        0     0   0               0    0     0       0     0 ⋯\n",
       "70       69  0        0     0   0               0    0     0       0     0 ⋯\n",
       "71       70  0        0     0   0               0    0     0       0     0 ⋯\n",
       "72     2485 42     3985  8051  66            2212  205   206     180  1317 ⋯\n",
       "totais 4970 84     7970 16102 132            4424  410   412     360  2634 ⋯\n",
       "       Sola1 Sola3 TLH.1B_CCri Transib Tx1 Vingi Zisupton hAT  piggyBac totais\n",
       "68      0     0     0            0       0  0      0         0   0          67\n",
       "69      0     0     0            0       0  0      0         0   0          68\n",
       "70      0     0     0            0       0  0      0         0   0          69\n",
       "71      0     0     0            0       0  0      0         0   0          70\n",
       "72     42    17    44          153     439 31    118      4499 295       87177\n",
       "totais 84    34    88          306     878 62    236      8998 590      174354"
      ]
     },
     "metadata": {},
     "output_type": "display_data"
    }
   ],
   "source": [
    "# Add row with sum of all values in column\n",
    "# df_sub03[nrow(df_sub03)+1,]=colSums(df_sub03)\n",
    "df_sub03['totais',]=colSums(df_sub03)\n",
    "tail(df_sub03)"
   ]
  },
  {
   "cell_type": "code",
   "execution_count": 111,
   "id": "9febff08-6e00-462f-85e2-c9ba81acbda6",
   "metadata": {},
   "outputs": [
    {
     "data": {
      "text/html": [
       "<table class=\"dataframe\">\n",
       "<caption>A data.frame: 4 × 2</caption>\n",
       "<thead>\n",
       "\t<tr><th scope=col>foo</th><th scope=col>bar</th></tr>\n",
       "\t<tr><th scope=col>&lt;dbl&gt;</th><th scope=col>&lt;dbl&gt;</th></tr>\n",
       "</thead>\n",
       "<tbody>\n",
       "\t<tr><td>32</td><td>65</td></tr>\n",
       "\t<tr><td>45</td><td>23</td></tr>\n",
       "\t<tr><td>56</td><td>64</td></tr>\n",
       "\t<tr><td>12</td><td>98</td></tr>\n",
       "</tbody>\n",
       "</table>\n"
      ],
      "text/latex": [
       "A data.frame: 4 × 2\n",
       "\\begin{tabular}{ll}\n",
       " foo & bar\\\\\n",
       " <dbl> & <dbl>\\\\\n",
       "\\hline\n",
       "\t 32 & 65\\\\\n",
       "\t 45 & 23\\\\\n",
       "\t 56 & 64\\\\\n",
       "\t 12 & 98\\\\\n",
       "\\end{tabular}\n"
      ],
      "text/markdown": [
       "\n",
       "A data.frame: 4 × 2\n",
       "\n",
       "| foo &lt;dbl&gt; | bar &lt;dbl&gt; |\n",
       "|---|---|\n",
       "| 32 | 65 |\n",
       "| 45 | 23 |\n",
       "| 56 | 64 |\n",
       "| 12 | 98 |\n",
       "\n"
      ],
      "text/plain": [
       "  foo bar\n",
       "1 32  65 \n",
       "2 45  23 \n",
       "3 56  64 \n",
       "4 12  98 "
      ]
     },
     "metadata": {},
     "output_type": "display_data"
    }
   ],
   "source": [
    "# Create dataframe\n",
    "df_criado = data.frame(foo=c(32,45,56,12),bar=c(65,23,64,98))\n",
    "df_criado"
   ]
  },
  {
   "cell_type": "code",
   "execution_count": 114,
   "id": "7b83e767-3ba6-4e57-a0d5-c01c8759ef78",
   "metadata": {},
   "outputs": [
    {
     "data": {
      "text/html": [
       "<table class=\"dataframe\">\n",
       "<caption>A data.frame: 4 × 2</caption>\n",
       "<thead>\n",
       "\t<tr><th></th><th scope=col>foo</th><th scope=col>bar</th></tr>\n",
       "\t<tr><th></th><th scope=col>&lt;int&gt;</th><th scope=col>&lt;dbl&gt;</th></tr>\n",
       "</thead>\n",
       "<tbody>\n",
       "\t<tr><th scope=row>l1</th><td>32</td><td>65</td></tr>\n",
       "\t<tr><th scope=row>l2</th><td>45</td><td>23</td></tr>\n",
       "\t<tr><th scope=row>l3</th><td>56</td><td>64</td></tr>\n",
       "\t<tr><th scope=row>l4</th><td>12</td><td>98</td></tr>\n",
       "</tbody>\n",
       "</table>\n"
      ],
      "text/latex": [
       "A data.frame: 4 × 2\n",
       "\\begin{tabular}{r|ll}\n",
       "  & foo & bar\\\\\n",
       "  & <int> & <dbl>\\\\\n",
       "\\hline\n",
       "\tl1 & 32 & 65\\\\\n",
       "\tl2 & 45 & 23\\\\\n",
       "\tl3 & 56 & 64\\\\\n",
       "\tl4 & 12 & 98\\\\\n",
       "\\end{tabular}\n"
      ],
      "text/markdown": [
       "\n",
       "A data.frame: 4 × 2\n",
       "\n",
       "| <!--/--> | foo &lt;int&gt; | bar &lt;dbl&gt; |\n",
       "|---|---|---|\n",
       "| l1 | 32 | 65 |\n",
       "| l2 | 45 | 23 |\n",
       "| l3 | 56 | 64 |\n",
       "| l4 | 12 | 98 |\n",
       "\n"
      ],
      "text/plain": [
       "   foo bar\n",
       "l1 32  65 \n",
       "l2 45  23 \n",
       "l3 56  64 \n",
       "l4 12  98 "
      ]
     },
     "metadata": {},
     "output_type": "display_data"
    }
   ],
   "source": [
    "# Give name to rows\n",
    "df_criado02 = data.frame(foo=c(32L,45L,56L,12L), # add L to specify number as integer\n",
    "                         bar=c(65,23,64,98),\n",
    "                         row.names = c('l1','l2','l3','l4'))\n",
    "df_criado02"
   ]
  }
 ],
 "metadata": {
  "kernelspec": {
   "display_name": "R",
   "language": "R",
   "name": "ir"
  },
  "language_info": {
   "codemirror_mode": "r",
   "file_extension": ".r",
   "mimetype": "text/x-r-source",
   "name": "R",
   "pygments_lexer": "r",
   "version": "4.1.1"
  }
 },
 "nbformat": 4,
 "nbformat_minor": 5
}

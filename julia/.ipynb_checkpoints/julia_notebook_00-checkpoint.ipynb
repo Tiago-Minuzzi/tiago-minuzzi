{
 "cells": [
  {
   "cell_type": "markdown",
   "id": "1f159a05-f627-4d73-a9d8-0b5897e46701",
   "metadata": {},
   "source": [
    "# Basics"
   ]
  },
  {
   "cell_type": "code",
   "execution_count": 1,
   "id": "3cfa3bbb-1ac8-44eb-98eb-9ab3eb2050e1",
   "metadata": {},
   "outputs": [
    {
     "data": {
      "text/plain": [
       "\"hey \""
      ]
     },
     "execution_count": 1,
     "metadata": {},
     "output_type": "execute_result"
    }
   ],
   "source": [
    "s = \"hey \""
   ]
  },
  {
   "cell_type": "code",
   "execution_count": 10,
   "id": "46964463-ec48-47b0-ada2-abae0f742bdf",
   "metadata": {},
   "outputs": [
    {
     "data": {
      "text/plain": [
       "\"hey hey hey \""
      ]
     },
     "execution_count": 10,
     "metadata": {},
     "output_type": "execute_result"
    }
   ],
   "source": [
    "# Use caret to repeat strings 'n' times\n",
    "s^3"
   ]
  },
  {
   "cell_type": "code",
   "execution_count": 3,
   "id": "01c1b485-e773-476b-a6d4-f3b3e7ef6083",
   "metadata": {},
   "outputs": [
    {
     "name": "stdout",
     "output_type": "stream",
     "text": [
      "Julia Version 1.7.0-rc2\n",
      "Commit f23fc0d27a (2021-10-20 12:45 UTC)\n",
      "Platform Info:\n",
      "  OS: Linux (x86_64-redhat-linux)\n",
      "  CPU: Intel(R) Core(TM) i5-5350U CPU @ 1.80GHz\n",
      "  WORD_SIZE: 64\n",
      "  LIBM: libopenlibm\n",
      "  LLVM: libLLVM-12.0.1 (ORCJIT, broadwell)\n"
     ]
    }
   ],
   "source": [
    "versioninfo()"
   ]
  },
  {
   "cell_type": "code",
   "execution_count": 7,
   "id": "72df323e-d5a8-459b-ab5b-fc48e2e59800",
   "metadata": {},
   "outputs": [
    {
     "name": "stdout",
     "output_type": "stream",
     "text": [
      "a\n",
      "Char\n"
     ]
    }
   ],
   "source": [
    "# Single quote = char\n",
    "letra_a = 'a'\n",
    "println(letra_a)\n",
    "println(typeof(letra_a))"
   ]
  },
  {
   "cell_type": "code",
   "execution_count": 8,
   "id": "2e57b1db-e1f5-4967-a955-8f3e4c6bbd03",
   "metadata": {},
   "outputs": [
    {
     "name": "stdout",
     "output_type": "stream",
     "text": [
      "essa é uma string\n",
      "String\n"
     ]
    }
   ],
   "source": [
    "# Double quotes = string\n",
    "primeira_frase = \"essa é uma string\"\n",
    "println(primeira_frase)\n",
    "println(typeof(primeira_frase))"
   ]
  },
  {
   "cell_type": "code",
   "execution_count": 12,
   "id": "38252937-d5ae-428f-88f0-3cd76f98f505",
   "metadata": {},
   "outputs": [
    {
     "name": "stdout",
     "output_type": "stream",
     "text": [
      "a\n",
      "b\n"
     ]
    }
   ],
   "source": [
    "# No new line at the end\n",
    "println(\"a\")\n",
    "println(\"b\")"
   ]
  },
  {
   "cell_type": "code",
   "execution_count": 13,
   "id": "f93fed6c-394b-45a4-892f-366e9d7a56a7",
   "metadata": {},
   "outputs": [
    {
     "name": "stdout",
     "output_type": "stream",
     "text": [
      "abc\n"
     ]
    }
   ],
   "source": [
    "# Julia does not put spaces in print like Python\n",
    "println('a','b','c')"
   ]
  },
  {
   "cell_type": "code",
   "execution_count": 16,
   "id": "a73fa430-a8a3-47e9-a892-e72ae820ca45",
   "metadata": {},
   "outputs": [
    {
     "name": "stdout",
     "output_type": "stream",
     "text": [
      "var1 é igual a: \"valor1\"; var2 é igual a \"valor2\"\n"
     ]
    }
   ],
   "source": [
    "# Print using variables\n",
    "var1=\"valor1\"\n",
    "var2=\"valor2\"\n",
    "println(\"var1 é igual a: \\\"$(var1)\\\"; var2 é igual a \\\"$(var2)\\\"\")"
   ]
  },
  {
   "cell_type": "code",
   "execution_count": 18,
   "id": "8a22c05d-207a-4799-adda-1a349d87de43",
   "metadata": {},
   "outputs": [
    {
     "name": "stdout",
     "output_type": "stream",
     "text": [
      "Int64\n",
      "Float64\n"
     ]
    }
   ],
   "source": [
    "# Convert values\n",
    "numero1=1\n",
    "println(typeof(numero1))\n",
    "convertido1=convert(Float64,numero1)\n",
    "println(typeof(convertido1))"
   ]
  },
  {
   "cell_type": "code",
   "execution_count": 26,
   "id": "2779d8b0-f537-4f98-a06b-5452143e0002",
   "metadata": {},
   "outputs": [
    {
     "name": "stdout",
     "output_type": "stream",
     "text": [
      "Vector{Float64}\n",
      "\n",
      "1.0\n",
      "Float64\n",
      "\n",
      "2.0\n",
      "Float64\n",
      "\n",
      "3.0\n",
      "Float64\n",
      "\n",
      "4.0\n",
      "Float64\n",
      "\n"
     ]
    }
   ],
   "source": [
    "# Julia converts all values in list to float if there is at least one floating in the list\n",
    "lista01 = [1,2,3,4.0]\n",
    "println(typeof(lista01))\n",
    "println(\"\")\n",
    "for n in lista01\n",
    "    println(n)\n",
    "    println(typeof(n))\n",
    "    println(\"\")\n",
    "end"
   ]
  },
  {
   "cell_type": "code",
   "execution_count": 31,
   "id": "d6c20fa0-92d2-47af-a614-9218b21defbc",
   "metadata": {},
   "outputs": [
    {
     "name": "stdout",
     "output_type": "stream",
     "text": [
      "primeirasegunda\n",
      "\n",
      "primeira segunda\n"
     ]
    }
   ],
   "source": [
    "# One can join string using the following methods\n",
    "string01=\"primeira\"\n",
    "string02=\"segunda\"\n",
    "# 1\n",
    "println(string01*string02)\n",
    "println(\"\")\n",
    "# 2\n",
    "println(join([string01,string02],\" \")) # join receives a list and a separator as second argument"
   ]
  },
  {
   "cell_type": "markdown",
   "id": "29465e13-aab0-46f2-9d52-3e46c2af6537",
   "metadata": {},
   "source": [
    "# Control srtuctures"
   ]
  },
  {
   "cell_type": "markdown",
   "id": "258d903e-2530-4ce9-8ec9-ea246c0da8a8",
   "metadata": {},
   "source": [
    "## Conditionals"
   ]
  },
  {
   "cell_type": "code",
   "execution_count": 32,
   "id": "3ed15033-e3fc-40b9-9210-cbb65875811a",
   "metadata": {},
   "outputs": [
    {
     "name": "stdout",
     "output_type": "stream",
     "text": [
      "é maior que 20\n"
     ]
    }
   ],
   "source": [
    "x = 25\n",
    "if x > 20\n",
    "    println(\"é maior que 20\")\n",
    "end"
   ]
  },
  {
   "cell_type": "code",
   "execution_count": 33,
   "id": "989f2983-70f0-407b-9559-05752086b576",
   "metadata": {},
   "outputs": [
    {
     "name": "stdout",
     "output_type": "stream",
     "text": [
      "Fizz\n"
     ]
    }
   ],
   "source": [
    "n = 3\n",
    "if (n % 3 == 0) && (n % 5 == 0)\n",
    "    println(\"FizzBuzz\")\n",
    "elseif n % 3 == 0\n",
    "    println(\"Fizz\")\n",
    "elseif n % 5 == 0\n",
    "    println(\"Buzz\")\n",
    "else\n",
    "    println(n)\n",
    "end"
   ]
  },
  {
   "cell_type": "code",
   "execution_count": 40,
   "id": "9b8be8b1-665a-49ec-bda4-fb49c406ee6d",
   "metadata": {},
   "outputs": [
    {
     "name": "stdout",
     "output_type": "stream",
     "text": [
      "The value of 'x' is: 3.\n",
      "The value of 'y' is: 6.\n",
      "The value of 'z' is then: 6.\n"
     ]
    }
   ],
   "source": [
    "x = 3\n",
    "y = 6\n",
    "# If the value of 'x' is greater than the value of 'y', assign the value of 'x' to 'z'; otherwise assign the value of 'y' to 'z'\n",
    "z = (x > y) ? x : y # condition ? value if true : value if false\n",
    "println(\"The value of 'x' is: $(x).\")\n",
    "println(\"The value of 'y' is: $(y).\")\n",
    "println(\"The value of 'z' is then: $(z).\")"
   ]
  },
  {
   "cell_type": "markdown",
   "id": "0611f255-5f89-4b67-b3ef-0e499f873225",
   "metadata": {},
   "source": [
    "## Iteration"
   ]
  },
  {
   "cell_type": "code",
   "execution_count": 41,
   "id": "5a2f970d-44aa-43b0-bdc1-73348fe938b2",
   "metadata": {},
   "outputs": [
    {
     "name": "stdout",
     "output_type": "stream",
     "text": [
      "'i' is: 0\n",
      "'i' is: 1\n",
      "'i' is: 2\n",
      "'i' is: 3\n",
      "'i' is: 4\n",
      "'i' is: 5\n",
      "'i' is: 6\n",
      "'i' is: 7\n",
      "'i' is: 8\n",
      "'i' is: 9\n"
     ]
    }
   ],
   "source": [
    "i = 0\n",
    "while i < 10\n",
    "    println(\"'i' is: \", i)\n",
    "    i+=1\n",
    "end"
   ]
  },
  {
   "cell_type": "code",
   "execution_count": 42,
   "id": "b3ccb034-3a7f-486c-b351-9d022f40bc7c",
   "metadata": {},
   "outputs": [
    {
     "name": "stdout",
     "output_type": "stream",
     "text": [
      "1\n",
      "2\n",
      "3\n",
      "4\n",
      "5\n",
      "6\n",
      "7\n",
      "8\n",
      "9\n",
      "10\n"
     ]
    }
   ],
   "source": [
    "for var in 1:10\n",
    "    println(var)\n",
    "end"
   ]
  },
  {
   "cell_type": "code",
   "execution_count": 44,
   "id": "1d9343c2-edc6-41a7-8f09-d6c091745aa2",
   "metadata": {},
   "outputs": [
    {
     "name": "stdout",
     "output_type": "stream",
     "text": [
      "UnitRange{Int64}\n"
     ]
    }
   ],
   "source": [
    "println(typeof(1:10))"
   ]
  },
  {
   "cell_type": "markdown",
   "id": "0b7999af-ca5a-4f89-b3cc-53eb969649cb",
   "metadata": {},
   "source": [
    "# Data structures"
   ]
  },
  {
   "cell_type": "markdown",
   "id": "f40fa452-092b-4f02-b39c-0ad4dc660a22",
   "metadata": {},
   "source": [
    "## Lists/Arrays"
   ]
  },
  {
   "cell_type": "code",
   "execution_count": 47,
   "id": "bdce3333-4384-469a-a1fb-44753a79e08a",
   "metadata": {},
   "outputs": [
    {
     "data": {
      "text/plain": [
       "4-element Vector{Int64}:\n",
       " 1\n",
       " 2\n",
       " 3\n",
       " 4"
      ]
     },
     "execution_count": 47,
     "metadata": {},
     "output_type": "execute_result"
    }
   ],
   "source": [
    "collection = [1,2,3,4]"
   ]
  },
  {
   "cell_type": "code",
   "execution_count": 45,
   "id": "35090696-d325-400b-a753-bba986add613",
   "metadata": {},
   "outputs": [
    {
     "data": {
      "text/plain": [
       "4-element Vector{Float64}:\n",
       " 1.0\n",
       " 2.0\n",
       " 3.0\n",
       " 4.5"
      ]
     },
     "execution_count": 45,
     "metadata": {},
     "output_type": "execute_result"
    }
   ],
   "source": [
    "collection = [1,2,3,4.5]"
   ]
  },
  {
   "cell_type": "code",
   "execution_count": 49,
   "id": "d08579d8-0e46-4b01-bc9e-60387ba5721b",
   "metadata": {},
   "outputs": [
    {
     "data": {
      "text/plain": [
       "5-element Vector{Float64}:\n",
       " 1.0\n",
       " 2.0\n",
       " 3.0\n",
       " 1.3333333333333333\n",
       " 5.7"
      ]
     },
     "execution_count": 49,
     "metadata": {},
     "output_type": "execute_result"
    }
   ],
   "source": [
    "collection = [1,2,3,4//3,5.7]"
   ]
  },
  {
   "cell_type": "code",
   "execution_count": 50,
   "id": "b99b6c25-3c59-4644-b082-7609b57016f2",
   "metadata": {},
   "outputs": [
    {
     "data": {
      "text/plain": [
       "5-element Vector{Any}:\n",
       " 1\n",
       " 2\n",
       " 3\n",
       " 4\n",
       "  \"5\""
      ]
     },
     "execution_count": 50,
     "metadata": {},
     "output_type": "execute_result"
    }
   ],
   "source": [
    "collection = [1,2,3,4,\"5\"]"
   ]
  },
  {
   "cell_type": "code",
   "execution_count": 53,
   "id": "abe57190-b31a-4509-b943-40fbb070a134",
   "metadata": {},
   "outputs": [
    {
     "data": {
      "text/plain": [
       "5-element Vector{Int64}:\n",
       "  1\n",
       "  2\n",
       "  3\n",
       "  4\n",
       " 60"
      ]
     },
     "execution_count": 53,
     "metadata": {},
     "output_type": "execute_result"
    }
   ],
   "source": [
    "collection = [1,2,3,4]\n",
    "append!(collection, 60) # functions with the bang (!) at the end mutate the passed object"
   ]
  },
  {
   "cell_type": "code",
   "execution_count": 52,
   "id": "7d92a22a-73be-4d26-8ed1-950e2312e2f9",
   "metadata": {},
   "outputs": [
    {
     "data": {
      "text/plain": [
       "5-element Vector{Int64}:\n",
       "  1\n",
       "  2\n",
       "  3\n",
       "  4\n",
       " 60"
      ]
     },
     "execution_count": 52,
     "metadata": {},
     "output_type": "execute_result"
    }
   ],
   "source": [
    "collection"
   ]
  },
  {
   "cell_type": "code",
   "execution_count": 57,
   "id": "15352273-6b9e-4535-8fb2-b5e6a3c4576c",
   "metadata": {},
   "outputs": [
    {
     "ename": "LoadError",
     "evalue": "BoundsError: attempt to access 5-element Vector{Int64} at index [0]",
     "output_type": "error",
     "traceback": [
      "BoundsError: attempt to access 5-element Vector{Int64} at index [0]",
      "",
      "Stacktrace:",
      " [1] getindex(A::Vector{Int64}, i1::Int64)",
      "   @ Base ./array.jl:861",
      " [2] top-level scope",
      "   @ In[57]:2",
      " [3] eval",
      "   @ ./boot.jl:373 [inlined]",
      " [4] include_string(mapexpr::typeof(REPL.softscope), mod::Module, code::String, filename::String)",
      "   @ Base ./loading.jl:1196"
     ]
    }
   ],
   "source": [
    "# Julia uses 1-based index. There is no 0 index\n",
    "println(collection[0])"
   ]
  },
  {
   "cell_type": "code",
   "execution_count": 56,
   "id": "b2b96f20-c145-4554-b9f8-479046b32534",
   "metadata": {},
   "outputs": [
    {
     "name": "stdout",
     "output_type": "stream",
     "text": [
      "1\n"
     ]
    }
   ],
   "source": [
    "println(collection[1])"
   ]
  },
  {
   "cell_type": "code",
   "execution_count": 61,
   "id": "2c1d85c7-611f-4074-80d7-adf1d4518456",
   "metadata": {},
   "outputs": [
    {
     "name": "stdout",
     "output_type": "stream",
     "text": [
      "[1, 2, 3, 4, 60]\n",
      "[1, 2, 3, 4, 60]\n"
     ]
    }
   ],
   "source": [
    "# Slicing is no inclusive both at the beginnign and end\n",
    "println(collection[1:5])\n",
    "println(collection[:])"
   ]
  },
  {
   "cell_type": "code",
   "execution_count": 67,
   "id": "fa732792-4473-4d6f-85ea-f193893a66ad",
   "metadata": {},
   "outputs": [
    {
     "name": "stdout",
     "output_type": "stream",
     "text": [
      "4\n"
     ]
    }
   ],
   "source": [
    "println(collection[:4])"
   ]
  },
  {
   "cell_type": "code",
   "execution_count": 69,
   "id": "10bd4902-84e5-41c0-9735-afc468aff26a",
   "metadata": {},
   "outputs": [
    {
     "name": "stdout",
     "output_type": "stream",
     "text": [
      "60\n"
     ]
    }
   ],
   "source": [
    "# print last item\n",
    "println(collection[end])"
   ]
  },
  {
   "cell_type": "markdown",
   "id": "16f56839-ec47-431e-984a-88f6de425a4c",
   "metadata": {},
   "source": [
    "## Mutation"
   ]
  },
  {
   "cell_type": "code",
   "execution_count": 70,
   "id": "4c2a2b69-bec5-46e8-9b60-13f528f596bf",
   "metadata": {},
   "outputs": [
    {
     "name": "stdout",
     "output_type": "stream",
     "text": [
      "[99, 2, 3, 4, 60]\n"
     ]
    }
   ],
   "source": [
    "collection[1] = 99\n",
    "println(collection)"
   ]
  },
  {
   "cell_type": "code",
   "execution_count": 74,
   "id": "adf1f7a2-614b-4542-b2a1-d106184c588f",
   "metadata": {},
   "outputs": [
    {
     "name": "stdout",
     "output_type": "stream",
     "text": [
      "collection = [99, 2, 3, 4, 60]\n"
     ]
    },
    {
     "data": {
      "text/plain": [
       "5-element Vector{Int64}:\n",
       " 99\n",
       "  2\n",
       "  3\n",
       "  4\n",
       " 60"
      ]
     },
     "execution_count": 74,
     "metadata": {},
     "output_type": "execute_result"
    }
   ],
   "source": [
    "# Show macro using '@'\n",
    "@show collection"
   ]
  },
  {
   "cell_type": "code",
   "execution_count": 75,
   "id": "d0747742-dd78-45ef-98e5-3e4898d1915e",
   "metadata": {},
   "outputs": [
    {
     "name": "stdout",
     "output_type": "stream",
     "text": [
      "collection = [99, 2, 3, 4, 60]\n"
     ]
    }
   ],
   "source": [
    "@show collection;"
   ]
  },
  {
   "cell_type": "code",
   "execution_count": 77,
   "id": "102a55ca-7239-492f-b10d-fd432e43b8d2",
   "metadata": {},
   "outputs": [
    {
     "data": {
      "text/plain": [
       "5-element Vector{Int64}:\n",
       " 99\n",
       "  2\n",
       "  3\n",
       "  4\n",
       " 60"
      ]
     },
     "execution_count": 77,
     "metadata": {},
     "output_type": "execute_result"
    }
   ],
   "source": [
    "# Create a copy of list\n",
    "copia = copy(collection)\n",
    "copia"
   ]
  },
  {
   "cell_type": "markdown",
   "id": "be1a0307-7719-4317-b9a2-7e368a2b8ee0",
   "metadata": {},
   "source": [
    "## Tuples"
   ]
  },
  {
   "cell_type": "code",
   "execution_count": 78,
   "id": "dc3ab153-eea2-4a73-94c5-db236564fb68",
   "metadata": {},
   "outputs": [
    {
     "data": {
      "text/plain": [
       "(1, 2, 3)"
      ]
     },
     "execution_count": 78,
     "metadata": {},
     "output_type": "execute_result"
    }
   ],
   "source": [
    "tupla = (1,2,3)"
   ]
  },
  {
   "cell_type": "code",
   "execution_count": 79,
   "id": "7a1a58ce-559c-46cc-b997-6c6ff1871cc7",
   "metadata": {},
   "outputs": [
    {
     "data": {
      "text/plain": [
       "(\"Python\", \"Julia\", \"C\", \"R\", \"Rust\")"
      ]
     },
     "execution_count": 79,
     "metadata": {},
     "output_type": "execute_result"
    }
   ],
   "source": [
    "linguagens = (\"Python\",\"Julia\",\"C\",\"R\",\"Rust\")"
   ]
  },
  {
   "cell_type": "code",
   "execution_count": 80,
   "id": "b181ebaf-88ce-4cb1-a041-18c800440d91",
   "metadata": {},
   "outputs": [
    {
     "name": "stdout",
     "output_type": "stream",
     "text": [
      "2\n",
      "Rust\n"
     ]
    }
   ],
   "source": [
    "println(tupla[2])\n",
    "println(linguagens[end])"
   ]
  },
  {
   "cell_type": "markdown",
   "id": "7e6edad7-f12c-4059-9ca1-161eea8df055",
   "metadata": {},
   "source": [
    "## Named tuples"
   ]
  },
  {
   "cell_type": "code",
   "execution_count": 82,
   "id": "0421995a-eee1-4a0e-af1f-0345e0a8ed7d",
   "metadata": {},
   "outputs": [
    {
     "data": {
      "text/plain": [
       "(language = \"Julia\", ide = \"pluto\", explorer = \"Perserverance\")"
      ]
     },
     "execution_count": 82,
     "metadata": {},
     "output_type": "execute_result"
    }
   ],
   "source": [
    "tools = (language = \"Julia\", ide = \"pluto\", explorer = \"Perserverance\")"
   ]
  },
  {
   "cell_type": "code",
   "execution_count": 83,
   "id": "74094179-e826-4b19-80b2-ddd0d1f7db9a",
   "metadata": {},
   "outputs": [
    {
     "data": {
      "text/plain": [
       "\"Julia\""
      ]
     },
     "execution_count": 83,
     "metadata": {},
     "output_type": "execute_result"
    }
   ],
   "source": [
    "tools[1]"
   ]
  },
  {
   "cell_type": "code",
   "execution_count": 84,
   "id": "5bad1116-3e5d-4f05-92b7-1d9ab3326330",
   "metadata": {},
   "outputs": [
    {
     "data": {
      "text/plain": [
       "\"Julia\""
      ]
     },
     "execution_count": 84,
     "metadata": {},
     "output_type": "execute_result"
    }
   ],
   "source": [
    "tools.language"
   ]
  },
  {
   "cell_type": "markdown",
   "id": "94452ad8-8162-4f5a-85f2-978c628eb3ab",
   "metadata": {},
   "source": [
    "## Dictionaries"
   ]
  },
  {
   "cell_type": "code",
   "execution_count": 85,
   "id": "2e0a5e40-9bb9-43c3-ae13-cb073f31121f",
   "metadata": {},
   "outputs": [
    {
     "data": {
      "text/plain": [
       "Dict{String, String} with 2 entries:\n",
       "  \"language\" => \"Julia\"\n",
       "  \"ide\"      => \"pluto\""
      ]
     },
     "execution_count": 85,
     "metadata": {},
     "output_type": "execute_result"
    }
   ],
   "source": [
    "d = Dict(\"language\" => \"Julia\", \"ide\" => \"pluto\")"
   ]
  },
  {
   "cell_type": "code",
   "execution_count": 86,
   "id": "bb6c555f-5be4-4965-a8cb-65376022e2a9",
   "metadata": {},
   "outputs": [
    {
     "data": {
      "text/plain": [
       "\"Julia\""
      ]
     },
     "execution_count": 86,
     "metadata": {},
     "output_type": "execute_result"
    }
   ],
   "source": [
    "d[\"language\"]"
   ]
  },
  {
   "cell_type": "code",
   "execution_count": 87,
   "id": "9b265af8-fe9a-4555-8e80-5d563ec04b07",
   "metadata": {},
   "outputs": [
    {
     "data": {
      "text/plain": [
       "\"perserverance\""
      ]
     },
     "execution_count": 87,
     "metadata": {},
     "output_type": "execute_result"
    }
   ],
   "source": [
    "d[\"explorer\"]=\"perserverance\""
   ]
  },
  {
   "cell_type": "code",
   "execution_count": 88,
   "id": "50cd0c64-3800-4661-8d9e-4acf777b38ed",
   "metadata": {},
   "outputs": [
    {
     "data": {
      "text/plain": [
       "Dict{String, String} with 3 entries:\n",
       "  \"explorer\" => \"perserverance\"\n",
       "  \"language\" => \"Julia\"\n",
       "  \"ide\"      => \"pluto\""
      ]
     },
     "execution_count": 88,
     "metadata": {},
     "output_type": "execute_result"
    }
   ],
   "source": [
    "d"
   ]
  },
  {
   "cell_type": "code",
   "execution_count": 89,
   "id": "5cb6f5d9-f321-4bd6-9b55-dc1df31a9f54",
   "metadata": {},
   "outputs": [
    {
     "name": "stdout",
     "output_type": "stream",
     "text": [
      "d = Dict(\"explorer\" => \"perserverance\", \"language\" => \"Julia\", \"ide\" => \"pluto\")\n"
     ]
    },
    {
     "data": {
      "text/plain": [
       "Dict{String, String} with 3 entries:\n",
       "  \"explorer\" => \"perserverance\"\n",
       "  \"language\" => \"Julia\"\n",
       "  \"ide\"      => \"pluto\""
      ]
     },
     "execution_count": 89,
     "metadata": {},
     "output_type": "execute_result"
    }
   ],
   "source": [
    "@show d"
   ]
  },
  {
   "cell_type": "code",
   "execution_count": 90,
   "id": "91393281-6468-4eb1-bef1-feb5d80a02dd",
   "metadata": {},
   "outputs": [
    {
     "name": "stdout",
     "output_type": "stream",
     "text": [
      "d = Dict(\"explorer\" => \"perserverance\", \"language\" => \"Julia\", \"ide\" => \"pluto\")\n"
     ]
    }
   ],
   "source": [
    "@show d;"
   ]
  },
  {
   "cell_type": "code",
   "execution_count": 91,
   "id": "0f286e93-be5b-455e-aa58-a25ef0d8ee09",
   "metadata": {},
   "outputs": [
    {
     "data": {
      "text/plain": [
       "\"explorer\" => \"perserverance\""
      ]
     },
     "execution_count": 91,
     "metadata": {},
     "output_type": "execute_result"
    }
   ],
   "source": [
    "pop!(d)"
   ]
  },
  {
   "cell_type": "code",
   "execution_count": 92,
   "id": "e1133ec6-3926-42ec-b6fc-e7d26323e3aa",
   "metadata": {},
   "outputs": [
    {
     "data": {
      "text/plain": [
       "Dict{String, String} with 2 entries:\n",
       "  \"OS\"       => \"Arch Linux\"\n",
       "  \"language\" => \"C\""
      ]
     },
     "execution_count": 92,
     "metadata": {},
     "output_type": "execute_result"
    }
   ],
   "source": [
    "e = Dict(\"OS\"=> \"Arch Linux\", \"language\"=>\"C\")"
   ]
  },
  {
   "cell_type": "code",
   "execution_count": 93,
   "id": "2c99e08e-f53a-491a-8d07-cd0a72957718",
   "metadata": {},
   "outputs": [
    {
     "data": {
      "text/plain": [
       "Dict{String, String} with 3 entries:\n",
       "  \"OS\"       => \"Arch Linux\"\n",
       "  \"language\" => \"C\"\n",
       "  \"ide\"      => \"pluto\""
      ]
     },
     "execution_count": 93,
     "metadata": {},
     "output_type": "execute_result"
    }
   ],
   "source": [
    "merge!(d,e) # duplicate keys in 'e' override those in 'd'"
   ]
  },
  {
   "cell_type": "code",
   "execution_count": 94,
   "id": "5c9bc7d9-0fc2-4e15-be93-cb589521524f",
   "metadata": {},
   "outputs": [
    {
     "name": "stdout",
     "output_type": "stream",
     "text": [
      "d = Dict(\"OS\" => \"Arch Linux\", \"language\" => \"C\", \"ide\" => \"pluto\")\n"
     ]
    }
   ],
   "source": [
    "@show d;"
   ]
  },
  {
   "cell_type": "code",
   "execution_count": 96,
   "id": "33bf0ada-dc5a-412d-b20f-9b52c7e36e58",
   "metadata": {},
   "outputs": [
    {
     "name": "stdout",
     "output_type": "stream",
     "text": [
      "chave: OS, valor: Arch Linux\n",
      "chave: language, valor: C\n",
      "chave: ide, valor: pluto\n"
     ]
    }
   ],
   "source": [
    "for (k, v) in d\n",
    "    println(\"chave: $(k), valor: $(v)\")\n",
    "end"
   ]
  },
  {
   "cell_type": "markdown",
   "id": "fcc761f4-db4a-48c3-8845-9bd9a967006f",
   "metadata": {},
   "source": [
    "### Using Julia symbols as keys\n",
    "It is slightly faster and memory efficient"
   ]
  },
  {
   "cell_type": "code",
   "execution_count": 97,
   "id": "96fe393f-7ed4-40f0-b28f-6dbae6ead0ed",
   "metadata": {},
   "outputs": [
    {
     "data": {
      "text/plain": [
       "Dict{Symbol, String} with 2 entries:\n",
       "  :lang => \"Julia\"\n",
       "  :ide  => \"Pluto\""
      ]
     },
     "execution_count": 97,
     "metadata": {},
     "output_type": "execute_result"
    }
   ],
   "source": [
    "simple = Dict(:lang => \"Julia\",:ide=>\"Pluto\")"
   ]
  },
  {
   "cell_type": "code",
   "execution_count": 98,
   "id": "b7351b2d-ac00-4a46-908f-640411e55be4",
   "metadata": {},
   "outputs": [
    {
     "data": {
      "text/plain": [
       "\"Julia\""
      ]
     },
     "execution_count": 98,
     "metadata": {},
     "output_type": "execute_result"
    }
   ],
   "source": [
    "simple[:lang]"
   ]
  },
  {
   "cell_type": "code",
   "execution_count": 99,
   "id": "c27781e2-a797-4123-bccb-91a79148e2cf",
   "metadata": {},
   "outputs": [
    {
     "name": "stdout",
     "output_type": "stream",
     "text": [
      "lang\n",
      "ide\n"
     ]
    }
   ],
   "source": [
    "for (k, v) in simple\n",
    "    println(k)\n",
    "end"
   ]
  },
  {
   "cell_type": "markdown",
   "id": "9e20ab3e-c6ee-4d53-bed4-a6d6c6c39441",
   "metadata": {},
   "source": [
    "# Arrays, Matrices, Tensors, Reshaping, Helper functions"
   ]
  },
  {
   "cell_type": "code",
   "execution_count": 1,
   "id": "d4c466b5-cdf8-4c6b-852d-ef833172de66",
   "metadata": {},
   "outputs": [
    {
     "data": {
      "text/plain": [
       "3-element Vector{String}:\n",
       " \"jack\"\n",
       " \"jill\"\n",
       " \"john\""
      ]
     },
     "execution_count": 1,
     "metadata": {},
     "output_type": "execute_result"
    }
   ],
   "source": [
    "students = [\"jack\",\"jill\",\"john\"]"
   ]
  },
  {
   "cell_type": "code",
   "execution_count": 3,
   "id": "9cd9ceb8-d222-4484-8eee-5e482ab811f2",
   "metadata": {},
   "outputs": [
    {
     "data": {
      "text/plain": [
       "Vector{String} (alias for Array{String, 1})"
      ]
     },
     "execution_count": 3,
     "metadata": {},
     "output_type": "execute_result"
    }
   ],
   "source": [
    "typeof(students)"
   ]
  },
  {
   "cell_type": "code",
   "execution_count": 4,
   "id": "cbbf3ae5-9ad0-4721-857b-ac5b6e37f76d",
   "metadata": {},
   "outputs": [
    {
     "data": {
      "text/plain": [
       "7-element Vector{Int64}:\n",
       "  1\n",
       "  1\n",
       "  2\n",
       "  3\n",
       "  5\n",
       "  8\n",
       " 13"
      ]
     },
     "execution_count": 4,
     "metadata": {},
     "output_type": "execute_result"
    }
   ],
   "source": [
    "fibo = [1,1,2,3,5,8,13]"
   ]
  },
  {
   "cell_type": "code",
   "execution_count": 5,
   "id": "70dd971e-452d-4579-991e-03117fbb238b",
   "metadata": {},
   "outputs": [
    {
     "data": {
      "text/plain": [
       "Vector{Int64} (alias for Array{Int64, 1})"
      ]
     },
     "execution_count": 5,
     "metadata": {},
     "output_type": "execute_result"
    }
   ],
   "source": [
    "typeof(fibo)"
   ]
  },
  {
   "cell_type": "code",
   "execution_count": 6,
   "id": "99daf1b2-a96f-43df-9d80-c34b0e29f590",
   "metadata": {},
   "outputs": [
    {
     "data": {
      "text/plain": [
       "8-element Vector{Int64}:\n",
       "  1\n",
       "  1\n",
       "  2\n",
       "  3\n",
       "  5\n",
       "  8\n",
       " 13\n",
       " 21"
      ]
     },
     "execution_count": 6,
     "metadata": {},
     "output_type": "execute_result"
    }
   ],
   "source": [
    "push!(fibo,21)"
   ]
  },
  {
   "cell_type": "code",
   "execution_count": 8,
   "id": "4a55165b-aef8-4a18-95ab-2ab213aeb213",
   "metadata": {},
   "outputs": [
    {
     "name": "stdout",
     "output_type": "stream",
     "text": [
      "fibo = [1, 1, 2, 3, 5, 8, 13, 21]\n"
     ]
    }
   ],
   "source": [
    "@show fibo;"
   ]
  },
  {
   "cell_type": "code",
   "execution_count": 9,
   "id": "fd93412d-58a5-49df-b0bc-43deba5a6908",
   "metadata": {},
   "outputs": [
    {
     "data": {
      "text/plain": [
       "21"
      ]
     },
     "execution_count": 9,
     "metadata": {},
     "output_type": "execute_result"
    }
   ],
   "source": [
    "pop!(fibo)"
   ]
  },
  {
   "cell_type": "code",
   "execution_count": 10,
   "id": "0b63ccde-db36-40ba-b677-12ae6e813d69",
   "metadata": {},
   "outputs": [
    {
     "name": "stdout",
     "output_type": "stream",
     "text": [
      "fibo = [1, 1, 2, 3, 5, 8, 13]\n"
     ]
    }
   ],
   "source": [
    "@show fibo;"
   ]
  },
  {
   "cell_type": "markdown",
   "id": "0785596f-947a-4594-a081-69057a46c9aa",
   "metadata": {},
   "source": [
    "## 2D arrays\n",
    "These are not matrices"
   ]
  },
  {
   "cell_type": "code",
   "execution_count": 11,
   "id": "87dad98d-d870-45d4-b2b0-3ce74b7379ab",
   "metadata": {},
   "outputs": [
    {
     "data": {
      "text/plain": [
       "3-element Vector{Vector{Int64}}:\n",
       " [1, 2, 3]\n",
       " [4, 5, 6]\n",
       " [7, 8, 9]"
      ]
     },
     "execution_count": 11,
     "metadata": {},
     "output_type": "execute_result"
    }
   ],
   "source": [
    "# it is an array of arrays\n",
    "mat = [\n",
    "    [1,2,3],\n",
    "    [4,5,6],\n",
    "    [7,8,9]\n",
    "]"
   ]
  },
  {
   "cell_type": "code",
   "execution_count": 15,
   "id": "a0a78cc1-a899-4674-920d-6db29dd8038c",
   "metadata": {},
   "outputs": [
    {
     "data": {
      "text/plain": [
       "3-element Vector{Vector{Int64}}:\n",
       " [2, 3]\n",
       " [4, 5, 6]\n",
       " [7, 8, 9, 21]"
      ]
     },
     "execution_count": 15,
     "metadata": {},
     "output_type": "execute_result"
    }
   ],
   "source": [
    "# the size of each array can be different\n",
    "mat = [\n",
    "    [2,3],\n",
    "    [4,5,6],\n",
    "    [7,8,9,21]\n",
    "]"
   ]
  },
  {
   "cell_type": "code",
   "execution_count": 12,
   "id": "5a655db9-8519-4108-9bb7-4529f593715a",
   "metadata": {},
   "outputs": [
    {
     "data": {
      "text/plain": [
       "Vector{Vector{Int64}} (alias for Array{Array{Int64, 1}, 1})"
      ]
     },
     "execution_count": 12,
     "metadata": {},
     "output_type": "execute_result"
    }
   ],
   "source": [
    "typeof(mat)"
   ]
  },
  {
   "cell_type": "markdown",
   "id": "abb07624-bc86-49b2-ad21-7983d2e42e10",
   "metadata": {},
   "source": [
    "## Matrices"
   ]
  },
  {
   "cell_type": "code",
   "execution_count": 13,
   "id": "ea8c6f0a-797e-41cb-9f6e-6705408317b1",
   "metadata": {},
   "outputs": [
    {
     "data": {
      "text/plain": [
       "1×3 Matrix{Int64}:\n",
       " 1  2  3"
      ]
     },
     "execution_count": 13,
     "metadata": {},
     "output_type": "execute_result"
    }
   ],
   "source": [
    "x = [1 2 3] # notice the lack of commas and the dimensions "
   ]
  },
  {
   "cell_type": "code",
   "execution_count": 14,
   "id": "1bab0357-2c9a-4795-b631-91f88b618727",
   "metadata": {},
   "outputs": [
    {
     "data": {
      "text/plain": [
       "3×1 adjoint(::Matrix{Int64}) with eltype Int64:\n",
       " 1\n",
       " 2\n",
       " 3"
      ]
     },
     "execution_count": 14,
     "metadata": {},
     "output_type": "execute_result"
    }
   ],
   "source": [
    "x' # turn this into a column vector (tranpose)"
   ]
  },
  {
   "cell_type": "code",
   "execution_count": 16,
   "id": "a5cb0783-ab07-4017-8f22-022fe4a19d86",
   "metadata": {},
   "outputs": [
    {
     "data": {
      "text/plain": [
       "3×3 Matrix{Int64}:\n",
       " 1  2  3\n",
       " 4  5  6\n",
       " 7  8  9"
      ]
     },
     "execution_count": 16,
     "metadata": {},
     "output_type": "execute_result"
    }
   ],
   "source": [
    "mat = [\n",
    "    [1 2 3]\n",
    "    [4 5 6]\n",
    "    [7 8 9]\n",
    "]"
   ]
  },
  {
   "cell_type": "code",
   "execution_count": 17,
   "id": "f0f0d381-861f-4a62-a1e6-41f45b69c1f9",
   "metadata": {},
   "outputs": [
    {
     "data": {
      "text/plain": [
       "Matrix{Int64} (alias for Array{Int64, 2})"
      ]
     },
     "execution_count": 17,
     "metadata": {},
     "output_type": "execute_result"
    }
   ],
   "source": [
    "typeof(mat)"
   ]
  },
  {
   "cell_type": "markdown",
   "id": "9513a8b5-6a6d-4749-96f3-f9c1e27bb2bf",
   "metadata": {},
   "source": [
    "## Sizes (shapes) and reshaping"
   ]
  },
  {
   "cell_type": "code",
   "execution_count": 18,
   "id": "ff487db6-36b6-4001-bdb5-c9c5d76512b1",
   "metadata": {},
   "outputs": [
    {
     "data": {
      "text/plain": [
       "(3, 3)"
      ]
     },
     "execution_count": 18,
     "metadata": {},
     "output_type": "execute_result"
    }
   ],
   "source": [
    "size(mat)"
   ]
  },
  {
   "cell_type": "code",
   "execution_count": 19,
   "id": "75e51814-1247-4c14-b0e6-0e47cd6d0dea",
   "metadata": {},
   "outputs": [
    {
     "data": {
      "text/plain": [
       "(1, 3)"
      ]
     },
     "execution_count": 19,
     "metadata": {},
     "output_type": "execute_result"
    }
   ],
   "source": [
    "size(x)"
   ]
  },
  {
   "cell_type": "code",
   "execution_count": 22,
   "id": "b38a8781-69b9-4181-8672-aba09b06629e",
   "metadata": {},
   "outputs": [
    {
     "data": {
      "text/plain": [
       "(7,)"
      ]
     },
     "execution_count": 22,
     "metadata": {},
     "output_type": "execute_result"
    }
   ],
   "source": [
    "size(fibo)"
   ]
  },
  {
   "cell_type": "code",
   "execution_count": 23,
   "id": "ec34f54e-0f08-47ef-8796-71eb42a9d386",
   "metadata": {},
   "outputs": [
    {
     "data": {
      "text/plain": [
       "4×3 Matrix{Int64}:\n",
       "  1   2   3\n",
       "  4   5   6\n",
       "  7   8   9\n",
       " 10  11  12"
      ]
     },
     "execution_count": 23,
     "metadata": {},
     "output_type": "execute_result"
    }
   ],
   "source": [
    "X = [\n",
    "    [1 2 3]\n",
    "    [4 5 6]\n",
    "    [7 8 9]\n",
    "    [10 11 12]\n",
    "]"
   ]
  },
  {
   "cell_type": "code",
   "execution_count": 24,
   "id": "f6a6d1ec-78ba-4100-8507-2e66dfb78b68",
   "metadata": {},
   "outputs": [
    {
     "data": {
      "text/plain": [
       "2×6 Matrix{Int64}:\n",
       " 1   7  2   8  3   9\n",
       " 4  10  5  11  6  12"
      ]
     },
     "execution_count": 24,
     "metadata": {},
     "output_type": "execute_result"
    }
   ],
   "source": [
    "X = reshape(X,2,6)"
   ]
  },
  {
   "cell_type": "code",
   "execution_count": 25,
   "id": "e068980e-cbbf-4ee3-99ff-eaa5692fad94",
   "metadata": {},
   "outputs": [
    {
     "name": "stdout",
     "output_type": "stream",
     "text": [
      "X = [1 7 2 8 3 9; 4 10 5 11 6 12]\n"
     ]
    },
    {
     "data": {
      "text/plain": [
       "2×6 Matrix{Int64}:\n",
       " 1   7  2   8  3   9\n",
       " 4  10  5  11  6  12"
      ]
     },
     "execution_count": 25,
     "metadata": {},
     "output_type": "execute_result"
    }
   ],
   "source": [
    "@show X"
   ]
  },
  {
   "cell_type": "code",
   "execution_count": 26,
   "id": "fad82abe-0cc0-48de-bd19-c5ac3ac24b74",
   "metadata": {},
   "outputs": [
    {
     "data": {
      "text/plain": [
       "12×1 Matrix{Int64}:\n",
       "  1\n",
       "  4\n",
       "  7\n",
       " 10\n",
       "  2\n",
       "  5\n",
       "  8\n",
       " 11\n",
       "  3\n",
       "  6\n",
       "  9\n",
       " 12"
      ]
     },
     "execution_count": 26,
     "metadata": {},
     "output_type": "execute_result"
    }
   ],
   "source": [
    "X = reshape(X,12,1)"
   ]
  },
  {
   "cell_type": "code",
   "execution_count": 28,
   "id": "8fb40938-3944-4014-8f23-6f498d470083",
   "metadata": {},
   "outputs": [
    {
     "data": {
      "text/plain": [
       "4×3 Matrix{Int64}:\n",
       "  1   2   3\n",
       "  4   5   6\n",
       "  7   8   9\n",
       " 10  11  12"
      ]
     },
     "execution_count": 28,
     "metadata": {},
     "output_type": "execute_result"
    }
   ],
   "source": [
    "X = reshape(X,4,3)"
   ]
  },
  {
   "cell_type": "markdown",
   "id": "8495ba47-d619-4ed8-9607-ff355ea0848b",
   "metadata": {},
   "source": [
    "## Helper functions"
   ]
  },
  {
   "cell_type": "code",
   "execution_count": 36,
   "id": "60c3d805-7e93-492e-98a5-5d000e0a8c5f",
   "metadata": {},
   "outputs": [
    {
     "data": {
      "text/plain": [
       "4×3 Matrix{Float64}:\n",
       " 0.279771   0.405006   0.0620365\n",
       " 0.0468307  0.0594159  0.977921\n",
       " 0.599874   0.300345   0.839322\n",
       " 0.319845   0.0343515  0.189326"
      ]
     },
     "execution_count": 36,
     "metadata": {},
     "output_type": "execute_result"
    }
   ],
   "source": [
    "# Create random matrix\n",
    "mat = rand(4,3)"
   ]
  },
  {
   "cell_type": "code",
   "execution_count": 37,
   "id": "41cdde99-925a-4cff-9f17-e8a6bc026c61",
   "metadata": {},
   "outputs": [],
   "source": [
    "mat_2 = mat;"
   ]
  },
  {
   "cell_type": "code",
   "execution_count": 38,
   "id": "38596405-1b89-4b72-a4b3-c4e51b286815",
   "metadata": {},
   "outputs": [
    {
     "data": {
      "text/plain": [
       "100.0"
      ]
     },
     "execution_count": 38,
     "metadata": {},
     "output_type": "execute_result"
    }
   ],
   "source": [
    "mat_2[1,1] = 100.0"
   ]
  },
  {
   "cell_type": "code",
   "execution_count": 39,
   "id": "bfc9369d-21fd-40ae-8e53-cf35b740b695",
   "metadata": {},
   "outputs": [
    {
     "data": {
      "text/plain": [
       "4×3 Matrix{Float64}:\n",
       " 100.0        0.405006   0.0620365\n",
       "   0.0468307  0.0594159  0.977921\n",
       "   0.599874   0.300345   0.839322\n",
       "   0.319845   0.0343515  0.189326"
      ]
     },
     "execution_count": 39,
     "metadata": {},
     "output_type": "execute_result"
    }
   ],
   "source": [
    "mat_2"
   ]
  },
  {
   "cell_type": "code",
   "execution_count": 40,
   "id": "855a6581-f948-46f6-bcaf-072add64fc06",
   "metadata": {},
   "outputs": [
    {
     "data": {
      "text/plain": [
       "4×3 Matrix{Float64}:\n",
       " 100.0        0.405006   0.0620365\n",
       "   0.0468307  0.0594159  0.977921\n",
       "   0.599874   0.300345   0.839322\n",
       "   0.319845   0.0343515  0.189326"
      ]
     },
     "execution_count": 40,
     "metadata": {},
     "output_type": "execute_result"
    }
   ],
   "source": [
    "mat"
   ]
  },
  {
   "cell_type": "markdown",
   "id": "6c3906be-4b28-439d-849c-3f9f6044ca28",
   "metadata": {},
   "source": [
    "## Copying arrays"
   ]
  },
  {
   "cell_type": "code",
   "execution_count": 41,
   "id": "fbf9840e-6208-4ee8-9ca3-0bf5c0663d2d",
   "metadata": {},
   "outputs": [
    {
     "data": {
      "text/plain": [
       "4×3 Matrix{Float64}:\n",
       " 100.0        0.405006   0.0620365\n",
       "   0.0468307  0.0594159  0.977921\n",
       "   0.599874   0.300345   0.839322\n",
       "   0.319845   0.0343515  0.189326"
      ]
     },
     "execution_count": 41,
     "metadata": {},
     "output_type": "execute_result"
    }
   ],
   "source": [
    "mat_3 = copy(mat)"
   ]
  },
  {
   "cell_type": "code",
   "execution_count": 42,
   "id": "9c184599-c6fa-4888-9c9c-59981e6aaf9f",
   "metadata": {},
   "outputs": [
    {
     "data": {
      "text/plain": [
       "999.0"
      ]
     },
     "execution_count": 42,
     "metadata": {},
     "output_type": "execute_result"
    }
   ],
   "source": [
    "mat_3[1,1] = 999.0"
   ]
  },
  {
   "cell_type": "code",
   "execution_count": 43,
   "id": "3057ec82-41b8-4d2d-8e7b-c909658b9b4d",
   "metadata": {},
   "outputs": [
    {
     "data": {
      "text/plain": [
       "4×3 Matrix{Float64}:\n",
       " 999.0        0.405006   0.0620365\n",
       "   0.0468307  0.0594159  0.977921\n",
       "   0.599874   0.300345   0.839322\n",
       "   0.319845   0.0343515  0.189326"
      ]
     },
     "execution_count": 43,
     "metadata": {},
     "output_type": "execute_result"
    }
   ],
   "source": [
    "mat_3"
   ]
  },
  {
   "cell_type": "code",
   "execution_count": 44,
   "id": "2af372d6-d45c-4360-a8fc-419c4491b08f",
   "metadata": {},
   "outputs": [
    {
     "data": {
      "text/plain": [
       "4×3 Matrix{Float64}:\n",
       " 100.0        0.405006   0.0620365\n",
       "   0.0468307  0.0594159  0.977921\n",
       "   0.599874   0.300345   0.839322\n",
       "   0.319845   0.0343515  0.189326"
      ]
     },
     "execution_count": 44,
     "metadata": {},
     "output_type": "execute_result"
    }
   ],
   "source": [
    "mat"
   ]
  },
  {
   "cell_type": "markdown",
   "id": "e8b108f1-4788-4587-a602-5f05950f31f2",
   "metadata": {},
   "source": [
    "## Comprehensions"
   ]
  },
  {
   "cell_type": "code",
   "execution_count": 45,
   "id": "7386beaa-d9ac-475a-8f8e-3d647bc521f8",
   "metadata": {},
   "outputs": [
    {
     "data": {
      "text/plain": [
       "5-element Vector{Int64}:\n",
       " 1\n",
       " 2\n",
       " 3\n",
       " 4\n",
       " 5"
      ]
     },
     "execution_count": 45,
     "metadata": {},
     "output_type": "execute_result"
    }
   ],
   "source": [
    "[i for i in 1:5]"
   ]
  },
  {
   "cell_type": "code",
   "execution_count": 46,
   "id": "6843ea74-523c-43d0-9d1e-e28246540953",
   "metadata": {},
   "outputs": [
    {
     "data": {
      "text/plain": [
       "5×5 Matrix{Tuple{Int64, Int64}}:\n",
       " (1, 6)  (1, 7)  (1, 8)  (1, 9)  (1, 10)\n",
       " (2, 6)  (2, 7)  (2, 8)  (2, 9)  (2, 10)\n",
       " (3, 6)  (3, 7)  (3, 8)  (3, 9)  (3, 10)\n",
       " (4, 6)  (4, 7)  (4, 8)  (4, 9)  (4, 10)\n",
       " (5, 6)  (5, 7)  (5, 8)  (5, 9)  (5, 10)"
      ]
     },
     "execution_count": 46,
     "metadata": {},
     "output_type": "execute_result"
    }
   ],
   "source": [
    "# cartesian product (aka, nested loop)\n",
    "[(i,j) for i in 1:5, j in 6:10]"
   ]
  },
  {
   "cell_type": "markdown",
   "id": "2adf4b6d-2aae-40a2-9d20-b183eaeb58c1",
   "metadata": {},
   "source": [
    "## Matrix operations"
   ]
  },
  {
   "cell_type": "code",
   "execution_count": 50,
   "id": "54f11c3c-a0e7-4925-9e49-89cff24578ae",
   "metadata": {},
   "outputs": [
    {
     "data": {
      "text/plain": [
       "3×3 Matrix{Int64}:\n",
       " 10  11  19\n",
       " 18  12  13\n",
       " 10  16  20"
      ]
     },
     "execution_count": 50,
     "metadata": {},
     "output_type": "execute_result"
    }
   ],
   "source": [
    "A = rand(10:20, 3, 3) # array of ints"
   ]
  },
  {
   "cell_type": "code",
   "execution_count": 51,
   "id": "f127b843-b64d-4b09-8ca1-59c3d97d9378",
   "metadata": {},
   "outputs": [
    {
     "data": {
      "text/plain": [
       "3×3 Matrix{Float64}:\n",
       " 16.0  18.0  19.0\n",
       " 14.0  12.0  18.0\n",
       " 14.0  10.0  12.0"
      ]
     },
     "execution_count": 51,
     "metadata": {},
     "output_type": "execute_result"
    }
   ],
   "source": [
    "A = rand(10.:20, 3, 3) # array of floats"
   ]
  },
  {
   "cell_type": "code",
   "execution_count": 52,
   "id": "b5ec9445-90fe-4204-819e-7b9f8a34b5db",
   "metadata": {},
   "outputs": [
    {
     "data": {
      "text/plain": [
       "3×3 Matrix{Float64}:\n",
       " 648.0  596.0  724.0\n",
       " 596.0  568.0  678.0\n",
       " 724.0  678.0  829.0"
      ]
     },
     "execution_count": 52,
     "metadata": {},
     "output_type": "execute_result"
    }
   ],
   "source": [
    "A' * A"
   ]
  }
 ],
 "metadata": {
  "kernelspec": {
   "display_name": "Julia 1.6.3",
   "language": "julia",
   "name": "julia-1.6"
  },
  "language_info": {
   "file_extension": ".jl",
   "mimetype": "application/julia",
   "name": "julia",
   "version": "1.6.3"
  }
 },
 "nbformat": 4,
 "nbformat_minor": 5
}

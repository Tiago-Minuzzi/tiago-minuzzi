{
 "cells": [
  {
   "cell_type": "markdown",
   "id": "20e7b151-47d3-449f-b199-c91a9aeab6ee",
   "metadata": {},
   "source": [
    "# Functions"
   ]
  },
  {
   "cell_type": "code",
   "execution_count": 1,
   "id": "3bf8c98f-46bb-4d27-bc17-f512c273e1d0",
   "metadata": {},
   "outputs": [
    {
     "data": {
      "text/plain": [
       "square (generic function with 1 method)"
      ]
     },
     "execution_count": 1,
     "metadata": {},
     "output_type": "execute_result"
    }
   ],
   "source": [
    "function square(x)\n",
    "    return x * x #the 'return' statement is not necessary\n",
    "end"
   ]
  },
  {
   "cell_type": "code",
   "execution_count": 2,
   "id": "c60a0e5c-8d98-421b-9d81-bbac7182db08",
   "metadata": {},
   "outputs": [
    {
     "data": {
      "text/plain": [
       "16"
      ]
     },
     "execution_count": 2,
     "metadata": {},
     "output_type": "execute_result"
    }
   ],
   "source": [
    "square(4)"
   ]
  },
  {
   "cell_type": "code",
   "execution_count": 6,
   "id": "cbf25c20-4e08-4b36-8eda-bf8da0e9ba4e",
   "metadata": {},
   "outputs": [
    {
     "data": {
      "text/plain": [
       "hello (generic function with 1 method)"
      ]
     },
     "execution_count": 6,
     "metadata": {},
     "output_type": "execute_result"
    }
   ],
   "source": [
    "function hello(nome)\n",
    "    println(\"Hello there, \", nome)\n",
    "end"
   ]
  },
  {
   "cell_type": "code",
   "execution_count": 7,
   "id": "0a1db6c6-50bf-4f42-87a2-c4136775f8e8",
   "metadata": {},
   "outputs": [
    {
     "name": "stdout",
     "output_type": "stream",
     "text": [
      "Hello there, Tiago\n"
     ]
    }
   ],
   "source": [
    "hello(\"Tiago\")"
   ]
  },
  {
   "cell_type": "markdown",
   "id": "42b75f67-a66b-4d19-83a5-3d54263e265b",
   "metadata": {},
   "source": [
    "## Simple one-liners"
   ]
  },
  {
   "cell_type": "code",
   "execution_count": 10,
   "id": "60adfae1-0944-40a7-a8b4-139da84f4852",
   "metadata": {},
   "outputs": [
    {
     "data": {
      "text/plain": [
       "halver (generic function with 1 method)"
      ]
     },
     "execution_count": 10,
     "metadata": {},
     "output_type": "execute_result"
    }
   ],
   "source": [
    "halver(x) = x // 2"
   ]
  },
  {
   "cell_type": "code",
   "execution_count": 11,
   "id": "4918bdd9-75d4-4daf-8534-1738c26cb63d",
   "metadata": {},
   "outputs": [
    {
     "data": {
      "text/plain": [
       "5//2"
      ]
     },
     "execution_count": 11,
     "metadata": {},
     "output_type": "execute_result"
    }
   ],
   "source": [
    "halver(5)"
   ]
  },
  {
   "cell_type": "markdown",
   "id": "d7c88d19-898b-441b-aa8b-7aa0859dfff1",
   "metadata": {},
   "source": [
    "## Mutating functions"
   ]
  },
  {
   "cell_type": "code",
   "execution_count": 12,
   "id": "8d54ea3d-f3d5-418f-a390-3123504cbda5",
   "metadata": {},
   "outputs": [],
   "source": [
    "v = [46, 5, 87];"
   ]
  },
  {
   "cell_type": "code",
   "execution_count": 13,
   "id": "3f8b38d7-6b4b-446d-90f4-0968a64b1f09",
   "metadata": {},
   "outputs": [
    {
     "data": {
      "text/plain": [
       "3-element Vector{Int64}:\n",
       "  5\n",
       " 46\n",
       " 87"
      ]
     },
     "execution_count": 13,
     "metadata": {},
     "output_type": "execute_result"
    }
   ],
   "source": [
    "sort(v)"
   ]
  },
  {
   "cell_type": "code",
   "execution_count": 14,
   "id": "b38920be-d40d-496e-bdfc-8112c04b14d9",
   "metadata": {},
   "outputs": [
    {
     "name": "stdout",
     "output_type": "stream",
     "text": [
      "v = [46, 5, 87]\n"
     ]
    },
    {
     "data": {
      "text/plain": [
       "3-element Vector{Int64}:\n",
       " 46\n",
       "  5\n",
       " 87"
      ]
     },
     "execution_count": 14,
     "metadata": {},
     "output_type": "execute_result"
    }
   ],
   "source": [
    "@show v"
   ]
  },
  {
   "cell_type": "code",
   "execution_count": 15,
   "id": "eb79f870-dcf3-48e3-97a1-a5fafc8d4104",
   "metadata": {},
   "outputs": [
    {
     "data": {
      "text/plain": [
       "3-element Vector{Int64}:\n",
       "  5\n",
       " 46\n",
       " 87"
      ]
     },
     "execution_count": 15,
     "metadata": {},
     "output_type": "execute_result"
    }
   ],
   "source": [
    "sort!(v) # the bang, by convention is for mutation"
   ]
  },
  {
   "cell_type": "code",
   "execution_count": 16,
   "id": "11623e1e-cceb-4784-9f5e-0e7a0d88bb7b",
   "metadata": {},
   "outputs": [
    {
     "name": "stdout",
     "output_type": "stream",
     "text": [
      "v = [5, 46, 87]\n"
     ]
    }
   ],
   "source": [
    "# Now it is sorted\n",
    "@show v;"
   ]
  },
  {
   "cell_type": "markdown",
   "id": "e24e509a-1fb6-4668-a25e-9b31a496dbfa",
   "metadata": {},
   "source": [
    "## Overloading and methods"
   ]
  },
  {
   "cell_type": "code",
   "execution_count": 17,
   "id": "0e14458e-fd55-4a59-a4ab-1fd90e2756ec",
   "metadata": {},
   "outputs": [
    {
     "data": {
      "text/plain": [
       "show_number (generic function with 1 method)"
      ]
     },
     "execution_count": 17,
     "metadata": {},
     "output_type": "execute_result"
    }
   ],
   "source": [
    "# You can define the type of the variable\n",
    "function show_number(x::Int64) # x can only be an integer\n",
    "    println(\"Printing integer value: \", x)\n",
    "end"
   ]
  },
  {
   "cell_type": "code",
   "execution_count": 18,
   "id": "4a5735b5-cfce-484a-bbfb-472bd2c91948",
   "metadata": {},
   "outputs": [
    {
     "name": "stdout",
     "output_type": "stream",
     "text": [
      "Printing integer value: 65\n"
     ]
    }
   ],
   "source": [
    "show_number(65)"
   ]
  },
  {
   "cell_type": "code",
   "execution_count": 20,
   "id": "60102480-9533-47de-ab09-de7bbfa2aaae",
   "metadata": {},
   "outputs": [
    {
     "ename": "LoadError",
     "evalue": "MethodError: no method matching show_number(::Float64)\n\u001b[0mClosest candidates are:\n\u001b[0m  show_number(\u001b[91m::Int64\u001b[39m) at In[17]:2",
     "output_type": "error",
     "traceback": [
      "MethodError: no method matching show_number(::Float64)\n\u001b[0mClosest candidates are:\n\u001b[0m  show_number(\u001b[91m::Int64\u001b[39m) at In[17]:2",
      "",
      "Stacktrace:",
      " [1] top-level scope",
      "   @ In[20]:1",
      " [2] eval",
      "   @ ./boot.jl:360 [inlined]",
      " [3] include_string(mapexpr::typeof(REPL.softscope), mod::Module, code::String, filename::String)",
      "   @ Base ./loading.jl:1116"
     ]
    }
   ],
   "source": [
    "show_number(65.0) # it gives an error for it is not an integer in this case"
   ]
  },
  {
   "cell_type": "code",
   "execution_count": 21,
   "id": "a8325984-3172-4fc4-99c5-f9dae643e85b",
   "metadata": {},
   "outputs": [
    {
     "data": {
      "text/html": [
       "# 1 method for generic function <b>show_number</b>:<ul><li> show_number(x::<b>Int64</b>) in Main at In[17]:2</li> </ul>"
      ],
      "text/plain": [
       "# 1 method for generic function \"show_number\":\n",
       "[1] show_number(x::Int64) in Main at In[17]:2"
      ]
     },
     "execution_count": 21,
     "metadata": {},
     "output_type": "execute_result"
    }
   ],
   "source": [
    "methods(show_number) # see which \"overloaded\" methods we have"
   ]
  },
  {
   "cell_type": "markdown",
   "id": "6a476606-06a7-444e-be8f-35c96e1f4e0e",
   "metadata": {},
   "source": [
    "## Default values"
   ]
  },
  {
   "cell_type": "code",
   "execution_count": 24,
   "id": "5f4ec989-0a80-408a-8b2f-4efcb90f99f6",
   "metadata": {},
   "outputs": [
    {
     "data": {
      "text/plain": [
       "collection_log (generic function with 2 methods)"
      ]
     },
     "execution_count": 24,
     "metadata": {},
     "output_type": "execute_result"
    }
   ],
   "source": [
    "function collection_log(collection, base=2) # sets the default value of log function to 2, instead of 10 (natural log)\n",
    "    return [log(base,i) for i in collection]\n",
    "end"
   ]
  },
  {
   "cell_type": "code",
   "execution_count": 25,
   "id": "fcb90c9e-7bbc-461e-a177-995a2f68578b",
   "metadata": {},
   "outputs": [
    {
     "name": "stdout",
     "output_type": "stream",
     "text": [
      "0.6931471805599453\n",
      "fill(1.0)\n"
     ]
    }
   ],
   "source": [
    "println(log(2))\n",
    "println(collection_log(2))"
   ]
  },
  {
   "cell_type": "code",
   "execution_count": null,
   "id": "d114acca-a585-4fda-bfda-6bf19cdb7721",
   "metadata": {},
   "outputs": [],
   "source": []
  }
 ],
 "metadata": {
  "kernelspec": {
   "display_name": "Julia 1.6.3",
   "language": "julia",
   "name": "julia-1.6"
  },
  "language_info": {
   "file_extension": ".jl",
   "mimetype": "application/julia",
   "name": "julia",
   "version": "1.6.3"
  }
 },
 "nbformat": 4,
 "nbformat_minor": 5
}

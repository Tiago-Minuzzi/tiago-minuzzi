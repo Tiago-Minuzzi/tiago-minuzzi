{
  "nbformat": 4,
  "nbformat_minor": 0,
  "metadata": {
    "colab": {
      "name": "te_unsupervised.ipynb",
      "provenance": [],
      "collapsed_sections": [],
      "machine_shape": "hm"
    },
    "kernelspec": {
      "name": "python3",
      "display_name": "Python 3"
    },
    "accelerator": "TPU"
  },
  "cells": [
    {
      "cell_type": "code",
      "metadata": {
        "id": "6x9Y8nkK2837",
        "colab_type": "code",
        "outputId": "ee8fc2ec-ca87-4397-e309-5c24e9671423",
        "colab": {
          "base_uri": "https://localhost:8080/",
          "height": 122
        }
      },
      "source": [
        "from google.colab import drive\n",
        "drive.mount('/content/drive')"
      ],
      "execution_count": 0,
      "outputs": [
        {
          "output_type": "stream",
          "text": [
            "Go to this URL in a browser: https://accounts.google.com/o/oauth2/auth?client_id=947318989803-6bn6qk8qdgf4n4g3pfee6491hc0brc4i.apps.googleusercontent.com&redirect_uri=urn%3aietf%3awg%3aoauth%3a2.0%3aoob&response_type=code&scope=email%20https%3a%2f%2fwww.googleapis.com%2fauth%2fdocs.test%20https%3a%2f%2fwww.googleapis.com%2fauth%2fdrive%20https%3a%2f%2fwww.googleapis.com%2fauth%2fdrive.photos.readonly%20https%3a%2f%2fwww.googleapis.com%2fauth%2fpeopleapi.readonly\n",
            "\n",
            "Enter your authorization code:\n",
            "··········\n",
            "Mounted at /content/drive\n"
          ],
          "name": "stdout"
        }
      ]
    },
    {
      "cell_type": "code",
      "metadata": {
        "id": "Y85Xq2aibdal",
        "colab_type": "code",
        "outputId": "38979504-b19f-4374-be3c-95b2dd7bd66c",
        "colab": {
          "base_uri": "https://localhost:8080/",
          "height": 153
        }
      },
      "source": [
        "!pip3 install biopython\n",
        "from sklearn import cluster, datasets\n",
        "import numpy as np\n",
        "import pandas as pd\n",
        "from numpy import array\n",
        "from numpy import argmax\n",
        "from Bio import SeqIO\n",
        "from sklearn.preprocessing import LabelEncoder\n",
        "from sklearn.preprocessing import OneHotEncoder\n",
        "import tensorflow\n",
        "from keras.preprocessing.sequence import pad_sequences"
      ],
      "execution_count": 0,
      "outputs": [
        {
          "output_type": "stream",
          "text": [
            "Requirement already satisfied: biopython in /usr/local/lib/python3.6/dist-packages (1.76)\n",
            "Requirement already satisfied: numpy in /usr/local/lib/python3.6/dist-packages (from biopython) (1.17.5)\n"
          ],
          "name": "stdout"
        },
        {
          "output_type": "display_data",
          "data": {
            "text/html": [
              "<p style=\"color: red;\">\n",
              "The default version of TensorFlow in Colab will soon switch to TensorFlow 2.x.<br>\n",
              "We recommend you <a href=\"https://www.tensorflow.org/guide/migrate\" target=\"_blank\">upgrade</a> now \n",
              "or ensure your notebook will continue to use TensorFlow 1.x via the <code>%tensorflow_version 1.x</code> magic:\n",
              "<a href=\"https://colab.research.google.com/notebooks/tensorflow_version.ipynb\" target=\"_blank\">more info</a>.</p>\n"
            ],
            "text/plain": [
              "<IPython.core.display.HTML object>"
            ]
          },
          "metadata": {
            "tags": []
          }
        },
        {
          "output_type": "stream",
          "text": [
            "Using TensorFlow backend.\n"
          ],
          "name": "stderr"
        }
      ]
    },
    {
      "cell_type": "code",
      "metadata": {
        "id": "FO2WX4U1cNI4",
        "colab_type": "code",
        "colab": {}
      },
      "source": [
        "def fasta_frame(fasta_file):\n",
        "  identifiers = []\n",
        "  sequences = []\n",
        "  with open(fasta_file) as f_f:\n",
        "    for seq_record in SeqIO.parse(f_f, 'fasta'):\n",
        "        identifiers.append(seq_record.id)\n",
        "        sequences.append(seq_record.seq.lower())\n",
        "  s1 = pd.Series(identifiers, name='ID')\n",
        "  s2 = pd.Series(sequences, name='sequence')\n",
        "  fasta_frame = pd.DataFrame(dict(ID=s1, sequence=s2))\n",
        "  return(fasta_frame)\n",
        "  \n",
        "def ohe_fun(coluna):\n",
        "  integer_encoder = LabelEncoder()  \n",
        "  one_hot_encoder = OneHotEncoder(categories='auto')   \n",
        "  input_features = []\n",
        "\n",
        "  for linha in coluna[coluna.columns[1]]:\n",
        "    integer_encoded = integer_encoder.fit_transform(list(linha))\n",
        "    integer_encoded = np.array(integer_encoded).reshape(-1, 1)\n",
        "    one_hot_encoded = one_hot_encoder.fit_transform(integer_encoded)\n",
        "    input_features.append(one_hot_encoded.toarray())\n",
        "  input_features=pad_sequences(input_features, padding='post')\n",
        "  input_features = np.stack(input_features)\n",
        "  return(input_features)\n",
        "  \n",
        "def flatten_sequence(pred_fasta_flat):\n",
        "  dimensoes=pred_fasta_flat.shape\n",
        "  n_samples=dimensoes[0]\n",
        "  n_x=dimensoes[1]\n",
        "  n_y=dimensoes[2]\n",
        "  n_xy=(n_x * n_y)\n",
        "  pred_fasta_flat=pred_fasta_flat.reshape(n_samples,n_xy)\n",
        "  return(pred_fasta_flat)"
      ],
      "execution_count": 0,
      "outputs": []
    },
    {
      "cell_type": "code",
      "metadata": {
        "id": "knyvVK3xcggd",
        "colab_type": "code",
        "outputId": "158e28ae-1254-4bd1-cf39-ba0aba7a7a4e",
        "colab": {
          "base_uri": "https://localhost:8080/",
          "height": 424
        }
      },
      "source": [
        "db_te = fasta_frame('159.fasta')\n",
        "db_te"
      ],
      "execution_count": 0,
      "outputs": [
        {
          "output_type": "execute_result",
          "data": {
            "text/html": [
              "<div>\n",
              "<style scoped>\n",
              "    .dataframe tbody tr th:only-of-type {\n",
              "        vertical-align: middle;\n",
              "    }\n",
              "\n",
              "    .dataframe tbody tr th {\n",
              "        vertical-align: top;\n",
              "    }\n",
              "\n",
              "    .dataframe thead th {\n",
              "        text-align: right;\n",
              "    }\n",
              "</style>\n",
              "<table border=\"1\" class=\"dataframe\">\n",
              "  <thead>\n",
              "    <tr style=\"text-align: right;\">\n",
              "      <th></th>\n",
              "      <th>ID</th>\n",
              "      <th>sequence</th>\n",
              "    </tr>\n",
              "  </thead>\n",
              "  <tbody>\n",
              "    <tr>\n",
              "      <th>0</th>\n",
              "      <td>M02526:264:000000000-G434J:1:1101:16960:1891</td>\n",
              "      <td>(c, a, c, t, c, t, t, t, c, c, c, t, a, c, a, ...</td>\n",
              "    </tr>\n",
              "    <tr>\n",
              "      <th>1</th>\n",
              "      <td>M02526:264:000000000-G434J:1:1101:19330:1931</td>\n",
              "      <td>(t, a, t, t, c, c, c, a, g, t, a, a, g, t, g, ...</td>\n",
              "    </tr>\n",
              "    <tr>\n",
              "      <th>2</th>\n",
              "      <td>M02526:264:000000000-G434J:1:1101:17279:1936</td>\n",
              "      <td>(c, a, c, t, c, t, t, t, c, c, c, t, c, c, a, ...</td>\n",
              "    </tr>\n",
              "    <tr>\n",
              "      <th>3</th>\n",
              "      <td>M02526:264:000000000-G434J:1:1101:13082:1960</td>\n",
              "      <td>(a, a, t, t, c, c, g, c, c, a, t, c, a, g, c, ...</td>\n",
              "    </tr>\n",
              "    <tr>\n",
              "      <th>4</th>\n",
              "      <td>M02526:264:000000000-G434J:1:1101:12758:2041</td>\n",
              "      <td>(a, a, t, t, a, a, g, t, a, g, g, g, a, a, t, ...</td>\n",
              "    </tr>\n",
              "    <tr>\n",
              "      <th>...</th>\n",
              "      <td>...</td>\n",
              "      <td>...</td>\n",
              "    </tr>\n",
              "    <tr>\n",
              "      <th>8122</th>\n",
              "      <td>M02526:264:000000000-G434J:1:2104:18740:27588</td>\n",
              "      <td>(a, a, c, t, c, t, t, t, c, c, c, t, a, c, a, ...</td>\n",
              "    </tr>\n",
              "    <tr>\n",
              "      <th>8123</th>\n",
              "      <td>M02526:264:000000000-G434J:1:2104:13496:27659</td>\n",
              "      <td>(a, a, t, t, c, a, c, t, g, c, g, c, a, a, t, ...</td>\n",
              "    </tr>\n",
              "    <tr>\n",
              "      <th>8124</th>\n",
              "      <td>M02526:264:000000000-G434J:1:2104:20833:28093</td>\n",
              "      <td>(c, a, c, t, c, t, t, t, c, c, c, t, a, c, a, ...</td>\n",
              "    </tr>\n",
              "    <tr>\n",
              "      <th>8125</th>\n",
              "      <td>M02526:264:000000000-G434J:1:2104:20027:28392</td>\n",
              "      <td>(c, a, c, t, c, t, t, t, c, c, c, t, a, c, a, ...</td>\n",
              "    </tr>\n",
              "    <tr>\n",
              "      <th>8126</th>\n",
              "      <td>M02526:264:000000000-G434J:1:2104:17298:28574</td>\n",
              "      <td>(a, a, t, t, c, t, a, g, a, a, g, g, t, g, a, ...</td>\n",
              "    </tr>\n",
              "  </tbody>\n",
              "</table>\n",
              "<p>8127 rows × 2 columns</p>\n",
              "</div>"
            ],
            "text/plain": [
              "                                                 ID                                           sequence\n",
              "0      M02526:264:000000000-G434J:1:1101:16960:1891  (c, a, c, t, c, t, t, t, c, c, c, t, a, c, a, ...\n",
              "1      M02526:264:000000000-G434J:1:1101:19330:1931  (t, a, t, t, c, c, c, a, g, t, a, a, g, t, g, ...\n",
              "2      M02526:264:000000000-G434J:1:1101:17279:1936  (c, a, c, t, c, t, t, t, c, c, c, t, c, c, a, ...\n",
              "3      M02526:264:000000000-G434J:1:1101:13082:1960  (a, a, t, t, c, c, g, c, c, a, t, c, a, g, c, ...\n",
              "4      M02526:264:000000000-G434J:1:1101:12758:2041  (a, a, t, t, a, a, g, t, a, g, g, g, a, a, t, ...\n",
              "...                                             ...                                                ...\n",
              "8122  M02526:264:000000000-G434J:1:2104:18740:27588  (a, a, c, t, c, t, t, t, c, c, c, t, a, c, a, ...\n",
              "8123  M02526:264:000000000-G434J:1:2104:13496:27659  (a, a, t, t, c, a, c, t, g, c, g, c, a, a, t, ...\n",
              "8124  M02526:264:000000000-G434J:1:2104:20833:28093  (c, a, c, t, c, t, t, t, c, c, c, t, a, c, a, ...\n",
              "8125  M02526:264:000000000-G434J:1:2104:20027:28392  (c, a, c, t, c, t, t, t, c, c, c, t, a, c, a, ...\n",
              "8126  M02526:264:000000000-G434J:1:2104:17298:28574  (a, a, t, t, c, t, a, g, a, a, g, g, t, g, a, ...\n",
              "\n",
              "[8127 rows x 2 columns]"
            ]
          },
          "metadata": {
            "tags": []
          },
          "execution_count": 4
        }
      ]
    },
    {
      "cell_type": "code",
      "metadata": {
        "id": "4G2c7cI2x6g4",
        "colab_type": "code",
        "colab": {}
      },
      "source": [
        "db_te.to_csv('unsup_df.csv', index=False)"
      ],
      "execution_count": 0,
      "outputs": []
    },
    {
      "cell_type": "code",
      "metadata": {
        "id": "v5s21LJMewrs",
        "colab_type": "code",
        "colab": {}
      },
      "source": [
        "integer_encoder = LabelEncoder()  \n",
        "one_hot_encoder = OneHotEncoder(categories='auto')   \n",
        "input_features = []\n",
        "\n",
        "for coluna, linha in db_te['sequence'].iteritems():\n",
        "  integer_encoded = integer_encoder.fit_transform(list(linha))\n",
        "  integer_encoded = np.array(integer_encoded).reshape(-1, 1)\n",
        "  one_hot_encoded = one_hot_encoder.fit_transform(integer_encoded)\n",
        "  input_features.append(one_hot_encoded.toarray())\n"
      ],
      "execution_count": 0,
      "outputs": []
    },
    {
      "cell_type": "code",
      "metadata": {
        "id": "zRkMopIq3yW4",
        "colab_type": "code",
        "colab": {}
      },
      "source": [
        "for arr in input_features:\n",
        "  # print(input_features)\n",
        "  # print(arr.shape)"
      ],
      "execution_count": 0,
      "outputs": []
    },
    {
      "cell_type": "code",
      "metadata": {
        "id": "1AvQKxoXew_n",
        "colab_type": "code",
        "colab": {}
      },
      "source": [
        "input_features = pad_sequences(input_features, padding='post')\n",
        "input_features = np.stack(input_features)"
      ],
      "execution_count": 0,
      "outputs": []
    },
    {
      "cell_type": "code",
      "metadata": {
        "id": "zfNLXbDpAGiu",
        "colab_type": "code",
        "colab": {}
      },
      "source": [
        "# for arr in input_features:\n",
        "#   print(arr.shape)"
      ],
      "execution_count": 0,
      "outputs": []
    },
    {
      "cell_type": "code",
      "metadata": {
        "id": "qFx4L0rYuGww",
        "colab_type": "code",
        "colab": {}
      },
      "source": [
        "flat_seqs = flatten_sequence(input_features)"
      ],
      "execution_count": 0,
      "outputs": []
    },
    {
      "cell_type": "code",
      "metadata": {
        "id": "54-rA9XEzMhY",
        "colab_type": "code",
        "colab": {}
      },
      "source": [
        "import pandas as pd\n",
        "import numpy as np\n",
        "import matplotlib.pyplot as plt\n",
        "%matplotlib inline \n",
        "from sklearn.cluster import KMeans\n",
        "from sklearn import datasets\n",
        "\n",
        "distortions = []\n",
        "K = range(1,10)\n",
        "for k in K:\n",
        "    kmeanModel = KMeans(n_clusters=k)\n",
        "    kmeanModel.fit(flat_seqs)\n",
        "    distortions.append(kmeanModel.inertia_)"
      ],
      "execution_count": 0,
      "outputs": []
    },
    {
      "cell_type": "code",
      "metadata": {
        "id": "kB0XwdGIzn-6",
        "colab_type": "code",
        "outputId": "c35c90b7-dba3-4940-ab1c-405d7720464a",
        "colab": {
          "base_uri": "https://localhost:8080/",
          "height": 533
        }
      },
      "source": [
        "    plt.figure(figsize=(16,8))\n",
        "    plt.plot(K, distortions, 'bx-')\n",
        "    plt.xlabel('k')\n",
        "    plt.ylabel('Distortion')\n",
        "    plt.title('The Elbow Method showing the optimal k')\n",
        "    plt.show()"
      ],
      "execution_count": 0,
      "outputs": [
        {
          "output_type": "display_data",
          "data": {
            "image/png": "[encoded data removed]",
            "text/plain": [
              "<Figure size 1152x576 with 1 Axes>"
            ]
          },
          "metadata": {
            "tags": []
          }
        }
      ]
    },
    {
      "cell_type": "markdown",
      "metadata": {
        "id": "oLNSBYUbtLgP",
        "colab_type": "text"
      },
      "source": [
        "No PCA"
      ]
    },
    {
      "cell_type": "code",
      "metadata": {
        "id": "89YQSGjw5fWR",
        "colab_type": "code",
        "colab": {}
      },
      "source": [
        "import sys\n",
        "import numpy\n",
        "numpy.set_printoptions(threshold=sys.maxsize)\n",
        "\n",
        "k_means = cluster.KMeans(n_clusters=5,\n",
        "                         random_state=13,\n",
        "                         algorithm='auto',\n",
        "                         max_iter = 600,\n",
        "                         verbose=0)\n",
        "k_means.fit(flat_seqs)\n",
        "predicted = k_means.predict(flat_seqs)"
      ],
      "execution_count": 0,
      "outputs": []
    },
    {
      "cell_type": "markdown",
      "metadata": {
        "id": "EkoMMAR5tNVJ",
        "colab_type": "text"
      },
      "source": [
        "PCA"
      ]
    },
    {
      "cell_type": "code",
      "metadata": {
        "id": "H2XQ9JMHtIZf",
        "colab_type": "code",
        "colab": {}
      },
      "source": [
        "import sys\n",
        "import numpy\n",
        "from sklearn.decomposition import PCA\n",
        "numpy.set_printoptions(threshold=sys.maxsize)\n",
        "\n",
        "sklearn_pca = PCA(n_components = 2)\n",
        "Y_sklearn = sklearn_pca.fit_transform(flat_seqs)\n",
        "\n",
        "k_means = cluster.KMeans(n_clusters=3,\n",
        "                         random_state=13,\n",
        "                         algorithm='auto',\n",
        "                         max_iter = 1200,\n",
        "                         verbose=0)\n",
        "k_means.fit(Y_sklearn)\n",
        "labels = k_means.predict(Y_sklearn)"
      ],
      "execution_count": 0,
      "outputs": []
    },
    {
      "cell_type": "code",
      "metadata": {
        "id": "crvA_gxY6dWc",
        "colab_type": "code",
        "outputId": "17a00b5a-439b-47a8-c4bd-1a2835cd0512",
        "colab": {
          "base_uri": "https://localhost:8080/",
          "height": 643
        }
      },
      "source": [
        "pd.set_option('display.max_rows', -1)\n",
        "labSer=pd.Series(predicted)\n",
        "db_te['group'] = labSer\n",
        "columnsTitles = ['ID', 'group', 'sequence']\n",
        "db_te = db_te.reindex(columns=columnsTitles)\n",
        "db_te.sample(10)"
      ],
      "execution_count": 0,
      "outputs": [
        {
          "output_type": "execute_result",
          "data": {
            "text/html": [
              "<div>\n",
              "<style scoped>\n",
              "    .dataframe tbody tr th:only-of-type {\n",
              "        vertical-align: middle;\n",
              "    }\n",
              "\n",
              "    .dataframe tbody tr th {\n",
              "        vertical-align: top;\n",
              "    }\n",
              "\n",
              "    .dataframe thead th {\n",
              "        text-align: right;\n",
              "    }\n",
              "</style>\n",
              "<table border=\"1\" class=\"dataframe\">\n",
              "  <thead>\n",
              "    <tr style=\"text-align: right;\">\n",
              "      <th></th>\n",
              "      <th>ID</th>\n",
              "      <th>group</th>\n",
              "      <th>sequence</th>\n",
              "    </tr>\n",
              "  </thead>\n",
              "  <tbody>\n",
              "    <tr>\n",
              "      <th>2787</th>\n",
              "      <td>M02526:264:000000000-G434J:1:1103:4380:17624</td>\n",
              "      <td>3</td>\n",
              "      <td>(a, a, t, t, c, g, t, a, c, a, a, t, a, g, a, ...</td>\n",
              "    </tr>\n",
              "    <tr>\n",
              "      <th>8055</th>\n",
              "      <td>M02526:264:000000000-G434J:1:2104:11822:23515</td>\n",
              "      <td>0</td>\n",
              "      <td>(a, a, t, t, c, c, a, a, g, a, a, a, t, g, c, ...</td>\n",
              "    </tr>\n",
              "    <tr>\n",
              "      <th>2679</th>\n",
              "      <td>M02526:264:000000000-G434J:1:1103:20308:15545</td>\n",
              "      <td>2</td>\n",
              "      <td>(c, a, c, t, c, t, t, t, c, c, c, t, a, c, a, ...</td>\n",
              "    </tr>\n",
              "    <tr>\n",
              "      <th>4650</th>\n",
              "      <td>M02526:264:000000000-G434J:1:2101:21607:12552</td>\n",
              "      <td>1</td>\n",
              "      <td>(a, a, t, t, c, c, t, a, c, a, c, a, c, t, g, ...</td>\n",
              "    </tr>\n",
              "    <tr>\n",
              "      <th>5828</th>\n",
              "      <td>M02526:264:000000000-G434J:1:2102:3137:16669</td>\n",
              "      <td>0</td>\n",
              "      <td>(a, a, t, t, c, a, a, a, a, a, t, g, c, c, t, ...</td>\n",
              "    </tr>\n",
              "    <tr>\n",
              "      <th>6815</th>\n",
              "      <td>M02526:264:000000000-G434J:1:2103:23267:17477</td>\n",
              "      <td>0</td>\n",
              "      <td>(a, g, c, t, t, t, c, g, c, g, g, t, c, g, c, ...</td>\n",
              "    </tr>\n",
              "    <tr>\n",
              "      <th>5804</th>\n",
              "      <td>M02526:264:000000000-G434J:1:2102:4599:15903</td>\n",
              "      <td>0</td>\n",
              "      <td>(c, a, c, t, c, t, t, t, c, c, c, t, a, c, a, ...</td>\n",
              "    </tr>\n",
              "    <tr>\n",
              "      <th>1186</th>\n",
              "      <td>M02526:264:000000000-G434J:1:1102:16221:5609</td>\n",
              "      <td>2</td>\n",
              "      <td>(c, a, c, t, c, t, t, t, c, c, c, t, a, c, a, ...</td>\n",
              "    </tr>\n",
              "    <tr>\n",
              "      <th>3495</th>\n",
              "      <td>M02526:264:000000000-G434J:1:1104:18480:11123</td>\n",
              "      <td>2</td>\n",
              "      <td>(c, a, c, t, c, t, t, t, c, c, c, t, a, c, a, ...</td>\n",
              "    </tr>\n",
              "    <tr>\n",
              "      <th>8055</th>\n",
              "      <td>M02526:264:000000000-G434J:1:2104:11822:23515</td>\n",
              "      <td>0</td>\n",
              "      <td>(a, a, t, t, c, c, a, a, g, a, a, a, t, g, c, ...</td>\n",
              "    </tr>\n",
              "    <tr>\n",
              "      <th>2679</th>\n",
              "      <td>M02526:264:000000000-G434J:1:1103:20308:15545</td>\n",
              "      <td>2</td>\n",
              "      <td>(c, a, c, t, c, t, t, t, c, c, c, t, a, c, a, ...</td>\n",
              "    </tr>\n",
              "    <tr>\n",
              "      <th>4650</th>\n",
              "      <td>M02526:264:000000000-G434J:1:2101:21607:12552</td>\n",
              "      <td>1</td>\n",
              "      <td>(a, a, t, t, c, c, t, a, c, a, c, a, c, t, g, ...</td>\n",
              "    </tr>\n",
              "    <tr>\n",
              "      <th>5828</th>\n",
              "      <td>M02526:264:000000000-G434J:1:2102:3137:16669</td>\n",
              "      <td>0</td>\n",
              "      <td>(a, a, t, t, c, a, a, a, a, a, t, g, c, c, t, ...</td>\n",
              "    </tr>\n",
              "    <tr>\n",
              "      <th>6815</th>\n",
              "      <td>M02526:264:000000000-G434J:1:2103:23267:17477</td>\n",
              "      <td>0</td>\n",
              "      <td>(a, g, c, t, t, t, c, g, c, g, g, t, c, g, c, ...</td>\n",
              "    </tr>\n",
              "    <tr>\n",
              "      <th>5804</th>\n",
              "      <td>M02526:264:000000000-G434J:1:2102:4599:15903</td>\n",
              "      <td>0</td>\n",
              "      <td>(c, a, c, t, c, t, t, t, c, c, c, t, a, c, a, ...</td>\n",
              "    </tr>\n",
              "    <tr>\n",
              "      <th>1186</th>\n",
              "      <td>M02526:264:000000000-G434J:1:1102:16221:5609</td>\n",
              "      <td>2</td>\n",
              "      <td>(c, a, c, t, c, t, t, t, c, c, c, t, a, c, a, ...</td>\n",
              "    </tr>\n",
              "    <tr>\n",
              "      <th>3495</th>\n",
              "      <td>M02526:264:000000000-G434J:1:1104:18480:11123</td>\n",
              "      <td>2</td>\n",
              "      <td>(c, a, c, t, c, t, t, t, c, c, c, t, a, c, a, ...</td>\n",
              "    </tr>\n",
              "    <tr>\n",
              "      <th>2298</th>\n",
              "      <td>M02526:264:000000000-G434J:1:1103:6676:7484</td>\n",
              "      <td>4</td>\n",
              "      <td>(a, a, t, t, a, a, g, t, a, g, g, g, a, a, t, ...</td>\n",
              "    </tr>\n",
              "  </tbody>\n",
              "</table>\n",
              "<p>10 rows × 3 columns</p>\n",
              "</div>"
            ],
            "text/plain": [
              "...                                             ...  ...                                                ...\n",
              "                                                 ID  ...                                           sequence\n",
              "2787   M02526:264:000000000-G434J:1:1103:4380:17624  ...  (a, a, t, t, c, g, t, a, c, a, a, t, a, g, a, ...\n",
              "8055  M02526:264:000000000-G434J:1:2104:11822:23515  ...  (a, a, t, t, c, c, a, a, g, a, a, a, t, g, c, ...\n",
              "2679  M02526:264:000000000-G434J:1:1103:20308:15545  ...  (c, a, c, t, c, t, t, t, c, c, c, t, a, c, a, ...\n",
              "4650  M02526:264:000000000-G434J:1:2101:21607:12552  ...  (a, a, t, t, c, c, t, a, c, a, c, a, c, t, g, ...\n",
              "5828   M02526:264:000000000-G434J:1:2102:3137:16669  ...  (a, a, t, t, c, a, a, a, a, a, t, g, c, c, t, ...\n",
              "6815  M02526:264:000000000-G434J:1:2103:23267:17477  ...  (a, g, c, t, t, t, c, g, c, g, g, t, c, g, c, ...\n",
              "5804   M02526:264:000000000-G434J:1:2102:4599:15903  ...  (c, a, c, t, c, t, t, t, c, c, c, t, a, c, a, ...\n",
              "1186   M02526:264:000000000-G434J:1:1102:16221:5609  ...  (c, a, c, t, c, t, t, t, c, c, c, t, a, c, a, ...\n",
              "3495  M02526:264:000000000-G434J:1:1104:18480:11123  ...  (c, a, c, t, c, t, t, t, c, c, c, t, a, c, a, ...\n",
              "8055  M02526:264:000000000-G434J:1:2104:11822:23515  ...  (a, a, t, t, c, c, a, a, g, a, a, a, t, g, c, ...\n",
              "2679  M02526:264:000000000-G434J:1:1103:20308:15545  ...  (c, a, c, t, c, t, t, t, c, c, c, t, a, c, a, ...\n",
              "4650  M02526:264:000000000-G434J:1:2101:21607:12552  ...  (a, a, t, t, c, c, t, a, c, a, c, a, c, t, g, ...\n",
              "5828   M02526:264:000000000-G434J:1:2102:3137:16669  ...  (a, a, t, t, c, a, a, a, a, a, t, g, c, c, t, ...\n",
              "6815  M02526:264:000000000-G434J:1:2103:23267:17477  ...  (a, g, c, t, t, t, c, g, c, g, g, t, c, g, c, ...\n",
              "5804   M02526:264:000000000-G434J:1:2102:4599:15903  ...  (c, a, c, t, c, t, t, t, c, c, c, t, a, c, a, ...\n",
              "1186   M02526:264:000000000-G434J:1:1102:16221:5609  ...  (c, a, c, t, c, t, t, t, c, c, c, t, a, c, a, ...\n",
              "3495  M02526:264:000000000-G434J:1:1104:18480:11123  ...  (c, a, c, t, c, t, t, t, c, c, c, t, a, c, a, ...\n",
              "2298    M02526:264:000000000-G434J:1:1103:6676:7484  ...  (a, a, t, t, a, a, g, t, a, g, g, g, a, a, t, ...\n",
              "\n",
              "[10 rows x 3 columns]"
            ]
          },
          "metadata": {
            "tags": []
          },
          "execution_count": 14
        }
      ]
    },
    {
      "cell_type": "code",
      "metadata": {
        "id": "Wr6FRMoe9GRq",
        "colab_type": "code",
        "colab": {}
      },
      "source": [
        "db_te.to_csv('clustered_seqs.csv',index=False)"
      ],
      "execution_count": 0,
      "outputs": []
    },
    {
      "cell_type": "code",
      "metadata": {
        "id": "oIapdK9oJnVc",
        "colab_type": "code",
        "colab": {}
      },
      "source": [
        "import pickle\n",
        "\n",
        "pickle.dump(k_means,open(\"k_means_model.pkl\", \"wb\"))"
      ],
      "execution_count": 0,
      "outputs": []
    }
  ]
}